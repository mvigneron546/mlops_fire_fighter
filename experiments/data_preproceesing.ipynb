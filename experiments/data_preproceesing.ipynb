{
 "cells": [
  {
   "cell_type": "code",
   "execution_count": 1,
   "id": "fdfee918",
   "metadata": {},
   "outputs": [],
   "source": [
    "import sys\n",
    "import os\n",
    "\n",
    "root_path = os.path.abspath(os.path.join(os.getcwd(), '..'))\n",
    "sys.path.append(root_path)"
   ]
  },
  {
   "cell_type": "code",
   "execution_count": 2,
   "id": "1892ac2d",
   "metadata": {},
   "outputs": [],
   "source": [
    "import pandas as pd\n",
    "import seaborn as sns\n",
    "\n",
    "import tubular\n",
    "from tubular.nominal import GroupRareLevelsTransformer\n",
    "from tubular.capping import CappingTransformer\n",
    "\n",
    "from utils.helpers import (read_data_from_github_zip,\n",
    "                           preprocess_date_columns,\n",
    "                           preprocess_time_columns,\n",
    "                           calculate_attendance_time)"
   ]
  },
  {
   "cell_type": "code",
   "execution_count": 3,
   "id": "5b1201ed",
   "metadata": {},
   "outputs": [],
   "source": [
    "import warnings\n",
    "warnings.filterwarnings('ignore')"
   ]
  },
  {
   "cell_type": "code",
   "execution_count": 4,
   "id": "f0d700ce",
   "metadata": {},
   "outputs": [],
   "source": [
    "pd.set_option('display.max_columns', None)"
   ]
  },
  {
   "cell_type": "code",
   "execution_count": 5,
   "id": "8e7ef56e",
   "metadata": {},
   "outputs": [],
   "source": [
    "url = 'https://github.com/MLOpsGDA/mlops_fire_fighter/raw/main/data/LFB_Incident.csv.zip'\n",
    "df = read_data_from_github_zip(url)"
   ]
  },
  {
   "cell_type": "code",
   "execution_count": 6,
   "id": "e165dacc",
   "metadata": {},
   "outputs": [
    {
     "data": {
      "text/plain": [
       "(340174, 39)"
      ]
     },
     "execution_count": 6,
     "metadata": {},
     "output_type": "execute_result"
    }
   ],
   "source": [
    "df.shape"
   ]
  },
  {
   "cell_type": "markdown",
   "id": "6e8369ea",
   "metadata": {},
   "source": [
    "### Create DateOfCall_Month feature"
   ]
  },
  {
   "cell_type": "code",
   "execution_count": 7,
   "id": "d292f887",
   "metadata": {},
   "outputs": [],
   "source": [
    "df = preprocess_date_columns(df, 'DateOfCall')"
   ]
  },
  {
   "cell_type": "code",
   "execution_count": 8,
   "id": "ac3b2b74",
   "metadata": {},
   "outputs": [
    {
     "data": {
      "text/plain": [
       "0         5\n",
       "1         5\n",
       "2         5\n",
       "3         5\n",
       "4         5\n",
       "         ..\n",
       "340169    4\n",
       "340170    4\n",
       "340171    4\n",
       "340172    4\n",
       "340173    4\n",
       "Name: DateOfCall_Month, Length: 340174, dtype: int64"
      ]
     },
     "execution_count": 8,
     "metadata": {},
     "output_type": "execute_result"
    }
   ],
   "source": [
    "df['DateOfCall_Month']"
   ]
  },
  {
   "cell_type": "markdown",
   "id": "db38277c",
   "metadata": {},
   "source": [
    "### Create PartOfDay feature"
   ]
  },
  {
   "cell_type": "code",
   "execution_count": 9,
   "id": "b30c8c00",
   "metadata": {},
   "outputs": [],
   "source": [
    "df = preprocess_time_columns(df, 'TimeOfCall')"
   ]
  },
  {
   "cell_type": "code",
   "execution_count": 10,
   "id": "e195d749",
   "metadata": {},
   "outputs": [
    {
     "data": {
      "text/plain": [
       "Afternoon    92405\n",
       "Night        87617\n",
       "Morning      80424\n",
       "Evening      79728\n",
       "Name: PartOfDay, dtype: int64"
      ]
     },
     "execution_count": 10,
     "metadata": {},
     "output_type": "execute_result"
    }
   ],
   "source": [
    "df['PartOfDay'].value_counts(dropna=False)"
   ]
  },
  {
   "cell_type": "markdown",
   "id": "c1bc12d1",
   "metadata": {},
   "source": [
    "### Grouping the StopCodeDescription feature\n",
    "All the values below 5% will be grouped and labeled as **rare**."
   ]
  },
  {
   "cell_type": "code",
   "execution_count": 11,
   "id": "363bc126",
   "metadata": {},
   "outputs": [
    {
     "data": {
      "text/plain": [
       "AFA                                      0.378377\n",
       "Special Service                          0.357238\n",
       "False alarm - Good intent                0.099728\n",
       "Primary Fire                             0.076249\n",
       "Secondary Fire                           0.073257\n",
       "False alarm - Malicious                  0.008931\n",
       "Flood call attended - Batch mobilised    0.005785\n",
       "Use of Special Operations Room           0.000244\n",
       "Chimney Fire                             0.000135\n",
       "Late Call                                0.000056\n",
       "Name: StopCodeDescription, dtype: float64"
      ]
     },
     "execution_count": 11,
     "metadata": {},
     "output_type": "execute_result"
    }
   ],
   "source": [
    "df['StopCodeDescription'].value_counts()/df.shape[0]"
   ]
  },
  {
   "cell_type": "code",
   "execution_count": 12,
   "id": "6368f6ef",
   "metadata": {},
   "outputs": [],
   "source": [
    "StopCodeDescription_transformer = GroupRareLevelsTransformer(columns = 'StopCodeDescription',\n",
    "                                                             cut_off_percent=0.05,\n",
    "                                                             verbose=False\n",
    "                                                            )"
   ]
  },
  {
   "cell_type": "code",
   "execution_count": 13,
   "id": "1dbadb54",
   "metadata": {},
   "outputs": [
    {
     "data": {
      "text/html": [
       "<style>#sk-container-id-1 {color: black;background-color: white;}#sk-container-id-1 pre{padding: 0;}#sk-container-id-1 div.sk-toggleable {background-color: white;}#sk-container-id-1 label.sk-toggleable__label {cursor: pointer;display: block;width: 100%;margin-bottom: 0;padding: 0.3em;box-sizing: border-box;text-align: center;}#sk-container-id-1 label.sk-toggleable__label-arrow:before {content: \"▸\";float: left;margin-right: 0.25em;color: #696969;}#sk-container-id-1 label.sk-toggleable__label-arrow:hover:before {color: black;}#sk-container-id-1 div.sk-estimator:hover label.sk-toggleable__label-arrow:before {color: black;}#sk-container-id-1 div.sk-toggleable__content {max-height: 0;max-width: 0;overflow: hidden;text-align: left;background-color: #f0f8ff;}#sk-container-id-1 div.sk-toggleable__content pre {margin: 0.2em;color: black;border-radius: 0.25em;background-color: #f0f8ff;}#sk-container-id-1 input.sk-toggleable__control:checked~div.sk-toggleable__content {max-height: 200px;max-width: 100%;overflow: auto;}#sk-container-id-1 input.sk-toggleable__control:checked~label.sk-toggleable__label-arrow:before {content: \"▾\";}#sk-container-id-1 div.sk-estimator input.sk-toggleable__control:checked~label.sk-toggleable__label {background-color: #d4ebff;}#sk-container-id-1 div.sk-label input.sk-toggleable__control:checked~label.sk-toggleable__label {background-color: #d4ebff;}#sk-container-id-1 input.sk-hidden--visually {border: 0;clip: rect(1px 1px 1px 1px);clip: rect(1px, 1px, 1px, 1px);height: 1px;margin: -1px;overflow: hidden;padding: 0;position: absolute;width: 1px;}#sk-container-id-1 div.sk-estimator {font-family: monospace;background-color: #f0f8ff;border: 1px dotted black;border-radius: 0.25em;box-sizing: border-box;margin-bottom: 0.5em;}#sk-container-id-1 div.sk-estimator:hover {background-color: #d4ebff;}#sk-container-id-1 div.sk-parallel-item::after {content: \"\";width: 100%;border-bottom: 1px solid gray;flex-grow: 1;}#sk-container-id-1 div.sk-label:hover label.sk-toggleable__label {background-color: #d4ebff;}#sk-container-id-1 div.sk-serial::before {content: \"\";position: absolute;border-left: 1px solid gray;box-sizing: border-box;top: 0;bottom: 0;left: 50%;z-index: 0;}#sk-container-id-1 div.sk-serial {display: flex;flex-direction: column;align-items: center;background-color: white;padding-right: 0.2em;padding-left: 0.2em;position: relative;}#sk-container-id-1 div.sk-item {position: relative;z-index: 1;}#sk-container-id-1 div.sk-parallel {display: flex;align-items: stretch;justify-content: center;background-color: white;position: relative;}#sk-container-id-1 div.sk-item::before, #sk-container-id-1 div.sk-parallel-item::before {content: \"\";position: absolute;border-left: 1px solid gray;box-sizing: border-box;top: 0;bottom: 0;left: 50%;z-index: -1;}#sk-container-id-1 div.sk-parallel-item {display: flex;flex-direction: column;z-index: 1;position: relative;background-color: white;}#sk-container-id-1 div.sk-parallel-item:first-child::after {align-self: flex-end;width: 50%;}#sk-container-id-1 div.sk-parallel-item:last-child::after {align-self: flex-start;width: 50%;}#sk-container-id-1 div.sk-parallel-item:only-child::after {width: 0;}#sk-container-id-1 div.sk-dashed-wrapped {border: 1px dashed gray;margin: 0 0.4em 0.5em 0.4em;box-sizing: border-box;padding-bottom: 0.4em;background-color: white;}#sk-container-id-1 div.sk-label label {font-family: monospace;font-weight: bold;display: inline-block;line-height: 1.2em;}#sk-container-id-1 div.sk-label-container {text-align: center;}#sk-container-id-1 div.sk-container {/* jupyter's `normalize.less` sets `[hidden] { display: none; }` but bootstrap.min.css set `[hidden] { display: none !important; }` so we also need the `!important` here to be able to override the default hidden behavior on the sphinx rendered scikit-learn.org. See: https://github.com/scikit-learn/scikit-learn/issues/21755 */display: inline-block !important;position: relative;}#sk-container-id-1 div.sk-text-repr-fallback {display: none;}</style><div id=\"sk-container-id-1\" class=\"sk-top-container\"><div class=\"sk-text-repr-fallback\"><pre>GroupRareLevelsTransformer(columns=[&#x27;StopCodeDescription&#x27;],\n",
       "                           cut_off_percent=0.05)</pre><b>In a Jupyter environment, please rerun this cell to show the HTML representation or trust the notebook. <br />On GitHub, the HTML representation is unable to render, please try loading this page with nbviewer.org.</b></div><div class=\"sk-container\" hidden><div class=\"sk-item\"><div class=\"sk-estimator sk-toggleable\"><input class=\"sk-toggleable__control sk-hidden--visually\" id=\"sk-estimator-id-1\" type=\"checkbox\" checked><label for=\"sk-estimator-id-1\" class=\"sk-toggleable__label sk-toggleable__label-arrow\">GroupRareLevelsTransformer</label><div class=\"sk-toggleable__content\"><pre>GroupRareLevelsTransformer(columns=[&#x27;StopCodeDescription&#x27;],\n",
       "                           cut_off_percent=0.05)</pre></div></div></div></div></div>"
      ],
      "text/plain": [
       "GroupRareLevelsTransformer(columns=['StopCodeDescription'],\n",
       "                           cut_off_percent=0.05)"
      ]
     },
     "execution_count": 13,
     "metadata": {},
     "output_type": "execute_result"
    }
   ],
   "source": [
    "StopCodeDescription_transformer.fit(df)"
   ]
  },
  {
   "cell_type": "code",
   "execution_count": 14,
   "id": "b9ce4f5c",
   "metadata": {},
   "outputs": [],
   "source": [
    "X_transformed = StopCodeDescription_transformer.transform(df)"
   ]
  },
  {
   "cell_type": "code",
   "execution_count": 15,
   "id": "fb4bbe3d",
   "metadata": {},
   "outputs": [
    {
     "data": {
      "text/plain": [
       "array(['False alarm - Good intent', 'Special Service', 'AFA',\n",
       "       'Primary Fire', 'Secondary Fire', 'rare'], dtype=object)"
      ]
     },
     "execution_count": 15,
     "metadata": {},
     "output_type": "execute_result"
    }
   ],
   "source": [
    "X_transformed['StopCodeDescription'].unique()"
   ]
  },
  {
   "cell_type": "code",
   "execution_count": 16,
   "id": "55a58d73",
   "metadata": {},
   "outputs": [
    {
     "data": {
      "text/plain": [
       "AFA                          0.378377\n",
       "Special Service              0.357238\n",
       "False alarm - Good intent    0.099728\n",
       "Primary Fire                 0.076249\n",
       "Secondary Fire               0.073257\n",
       "rare                         0.015151\n",
       "Name: StopCodeDescription, dtype: float64"
      ]
     },
     "execution_count": 16,
     "metadata": {},
     "output_type": "execute_result"
    }
   ],
   "source": [
    "X_transformed['StopCodeDescription'].value_counts()/X_transformed.shape[0]"
   ]
  },
  {
   "cell_type": "markdown",
   "id": "24a20dd3",
   "metadata": {},
   "source": [
    "### Grouping the PropertyCategory feature"
   ]
  },
  {
   "cell_type": "code",
   "execution_count": 17,
   "id": "2ab76e6d",
   "metadata": {},
   "outputs": [
    {
     "data": {
      "text/plain": [
       "Dwelling             0.564011\n",
       "Non Residential      0.198925\n",
       "Outdoor              0.079871\n",
       "Road Vehicle         0.061245\n",
       "Other Residential    0.051291\n",
       "Outdoor Structure    0.042878\n",
       "Rail Vehicle         0.000814\n",
       "Boat                 0.000547\n",
       "Aircraft             0.000417\n",
       "Name: PropertyCategory, dtype: float64"
      ]
     },
     "execution_count": 17,
     "metadata": {},
     "output_type": "execute_result"
    }
   ],
   "source": [
    "df['PropertyCategory'].value_counts()/df.shape[0]"
   ]
  },
  {
   "cell_type": "code",
   "execution_count": 18,
   "id": "41b68991",
   "metadata": {},
   "outputs": [],
   "source": [
    "PropertyCategory_transformer = GroupRareLevelsTransformer(columns = 'PropertyCategory',\n",
    "                                                          cut_off_percent=0.05,\n",
    "                                                          verbose=False\n",
    "                                                         )"
   ]
  },
  {
   "cell_type": "code",
   "execution_count": 19,
   "id": "4a858ffb",
   "metadata": {},
   "outputs": [
    {
     "data": {
      "text/html": [
       "<style>#sk-container-id-2 {color: black;background-color: white;}#sk-container-id-2 pre{padding: 0;}#sk-container-id-2 div.sk-toggleable {background-color: white;}#sk-container-id-2 label.sk-toggleable__label {cursor: pointer;display: block;width: 100%;margin-bottom: 0;padding: 0.3em;box-sizing: border-box;text-align: center;}#sk-container-id-2 label.sk-toggleable__label-arrow:before {content: \"▸\";float: left;margin-right: 0.25em;color: #696969;}#sk-container-id-2 label.sk-toggleable__label-arrow:hover:before {color: black;}#sk-container-id-2 div.sk-estimator:hover label.sk-toggleable__label-arrow:before {color: black;}#sk-container-id-2 div.sk-toggleable__content {max-height: 0;max-width: 0;overflow: hidden;text-align: left;background-color: #f0f8ff;}#sk-container-id-2 div.sk-toggleable__content pre {margin: 0.2em;color: black;border-radius: 0.25em;background-color: #f0f8ff;}#sk-container-id-2 input.sk-toggleable__control:checked~div.sk-toggleable__content {max-height: 200px;max-width: 100%;overflow: auto;}#sk-container-id-2 input.sk-toggleable__control:checked~label.sk-toggleable__label-arrow:before {content: \"▾\";}#sk-container-id-2 div.sk-estimator input.sk-toggleable__control:checked~label.sk-toggleable__label {background-color: #d4ebff;}#sk-container-id-2 div.sk-label input.sk-toggleable__control:checked~label.sk-toggleable__label {background-color: #d4ebff;}#sk-container-id-2 input.sk-hidden--visually {border: 0;clip: rect(1px 1px 1px 1px);clip: rect(1px, 1px, 1px, 1px);height: 1px;margin: -1px;overflow: hidden;padding: 0;position: absolute;width: 1px;}#sk-container-id-2 div.sk-estimator {font-family: monospace;background-color: #f0f8ff;border: 1px dotted black;border-radius: 0.25em;box-sizing: border-box;margin-bottom: 0.5em;}#sk-container-id-2 div.sk-estimator:hover {background-color: #d4ebff;}#sk-container-id-2 div.sk-parallel-item::after {content: \"\";width: 100%;border-bottom: 1px solid gray;flex-grow: 1;}#sk-container-id-2 div.sk-label:hover label.sk-toggleable__label {background-color: #d4ebff;}#sk-container-id-2 div.sk-serial::before {content: \"\";position: absolute;border-left: 1px solid gray;box-sizing: border-box;top: 0;bottom: 0;left: 50%;z-index: 0;}#sk-container-id-2 div.sk-serial {display: flex;flex-direction: column;align-items: center;background-color: white;padding-right: 0.2em;padding-left: 0.2em;position: relative;}#sk-container-id-2 div.sk-item {position: relative;z-index: 1;}#sk-container-id-2 div.sk-parallel {display: flex;align-items: stretch;justify-content: center;background-color: white;position: relative;}#sk-container-id-2 div.sk-item::before, #sk-container-id-2 div.sk-parallel-item::before {content: \"\";position: absolute;border-left: 1px solid gray;box-sizing: border-box;top: 0;bottom: 0;left: 50%;z-index: -1;}#sk-container-id-2 div.sk-parallel-item {display: flex;flex-direction: column;z-index: 1;position: relative;background-color: white;}#sk-container-id-2 div.sk-parallel-item:first-child::after {align-self: flex-end;width: 50%;}#sk-container-id-2 div.sk-parallel-item:last-child::after {align-self: flex-start;width: 50%;}#sk-container-id-2 div.sk-parallel-item:only-child::after {width: 0;}#sk-container-id-2 div.sk-dashed-wrapped {border: 1px dashed gray;margin: 0 0.4em 0.5em 0.4em;box-sizing: border-box;padding-bottom: 0.4em;background-color: white;}#sk-container-id-2 div.sk-label label {font-family: monospace;font-weight: bold;display: inline-block;line-height: 1.2em;}#sk-container-id-2 div.sk-label-container {text-align: center;}#sk-container-id-2 div.sk-container {/* jupyter's `normalize.less` sets `[hidden] { display: none; }` but bootstrap.min.css set `[hidden] { display: none !important; }` so we also need the `!important` here to be able to override the default hidden behavior on the sphinx rendered scikit-learn.org. See: https://github.com/scikit-learn/scikit-learn/issues/21755 */display: inline-block !important;position: relative;}#sk-container-id-2 div.sk-text-repr-fallback {display: none;}</style><div id=\"sk-container-id-2\" class=\"sk-top-container\"><div class=\"sk-text-repr-fallback\"><pre>GroupRareLevelsTransformer(columns=[&#x27;PropertyCategory&#x27;], cut_off_percent=0.05)</pre><b>In a Jupyter environment, please rerun this cell to show the HTML representation or trust the notebook. <br />On GitHub, the HTML representation is unable to render, please try loading this page with nbviewer.org.</b></div><div class=\"sk-container\" hidden><div class=\"sk-item\"><div class=\"sk-estimator sk-toggleable\"><input class=\"sk-toggleable__control sk-hidden--visually\" id=\"sk-estimator-id-2\" type=\"checkbox\" checked><label for=\"sk-estimator-id-2\" class=\"sk-toggleable__label sk-toggleable__label-arrow\">GroupRareLevelsTransformer</label><div class=\"sk-toggleable__content\"><pre>GroupRareLevelsTransformer(columns=[&#x27;PropertyCategory&#x27;], cut_off_percent=0.05)</pre></div></div></div></div></div>"
      ],
      "text/plain": [
       "GroupRareLevelsTransformer(columns=['PropertyCategory'], cut_off_percent=0.05)"
      ]
     },
     "execution_count": 19,
     "metadata": {},
     "output_type": "execute_result"
    }
   ],
   "source": [
    "PropertyCategory_transformer.fit(df)"
   ]
  },
  {
   "cell_type": "code",
   "execution_count": 20,
   "id": "39a55b7b",
   "metadata": {},
   "outputs": [],
   "source": [
    "X_transformed = PropertyCategory_transformer.transform(df)"
   ]
  },
  {
   "cell_type": "code",
   "execution_count": 21,
   "id": "85d74924",
   "metadata": {},
   "outputs": [
    {
     "data": {
      "text/plain": [
       "array(['Dwelling', 'Non Residential', 'Road Vehicle', 'Other Residential',\n",
       "       'Outdoor', 'rare'], dtype=object)"
      ]
     },
     "execution_count": 21,
     "metadata": {},
     "output_type": "execute_result"
    }
   ],
   "source": [
    "X_transformed['PropertyCategory'].unique()"
   ]
  },
  {
   "cell_type": "code",
   "execution_count": 22,
   "id": "a6dffef1",
   "metadata": {},
   "outputs": [
    {
     "data": {
      "text/plain": [
       "Dwelling             0.564011\n",
       "Non Residential      0.198925\n",
       "Outdoor              0.079871\n",
       "Road Vehicle         0.061245\n",
       "Other Residential    0.051291\n",
       "rare                 0.044657\n",
       "Name: PropertyCategory, dtype: float64"
      ]
     },
     "execution_count": 22,
     "metadata": {},
     "output_type": "execute_result"
    }
   ],
   "source": [
    "X_transformed['PropertyCategory'].value_counts()/X_transformed.shape[0]"
   ]
  },
  {
   "cell_type": "markdown",
   "id": "f0a0e9e0",
   "metadata": {},
   "source": [
    "### Grouping the PropertyType feature"
   ]
  },
  {
   "cell_type": "code",
   "execution_count": 23,
   "id": "0da13c3a",
   "metadata": {},
   "outputs": [
    {
     "data": {
      "text/plain": [
       "Purpose Built Flats/Maisonettes - 4 to 9 storeys      0.152055\n",
       "House - single occupancy                              0.121573\n",
       "Purpose Built Flats/Maisonettes - Up to 3 storeys     0.113189\n",
       "Self contained Sheltered Housing                      0.047549\n",
       "Converted Flat/Maisonettes - 3 or more storeys        0.041311\n",
       "                                                        ...   \n",
       "Mine or quarry (not above ground building)            0.000003\n",
       "Other merchant vessel                                 0.000003\n",
       "Sea                                                   0.000003\n",
       "Helicopter                                            0.000003\n",
       "Racecourse                                            0.000003\n",
       "Name: PropertyType, Length: 285, dtype: float64"
      ]
     },
     "execution_count": 23,
     "metadata": {},
     "output_type": "execute_result"
    }
   ],
   "source": [
    "df['PropertyType'].value_counts()/df.shape[0]"
   ]
  },
  {
   "cell_type": "code",
   "execution_count": 24,
   "id": "308458cb",
   "metadata": {},
   "outputs": [],
   "source": [
    "PropertyType_transformer = GroupRareLevelsTransformer(columns = 'PropertyType',\n",
    "                                                      cut_off_percent=0.03,\n",
    "                                                      verbose=False\n",
    "                                                     )"
   ]
  },
  {
   "cell_type": "code",
   "execution_count": 25,
   "id": "92d8a8aa",
   "metadata": {},
   "outputs": [
    {
     "data": {
      "text/html": [
       "<style>#sk-container-id-3 {color: black;background-color: white;}#sk-container-id-3 pre{padding: 0;}#sk-container-id-3 div.sk-toggleable {background-color: white;}#sk-container-id-3 label.sk-toggleable__label {cursor: pointer;display: block;width: 100%;margin-bottom: 0;padding: 0.3em;box-sizing: border-box;text-align: center;}#sk-container-id-3 label.sk-toggleable__label-arrow:before {content: \"▸\";float: left;margin-right: 0.25em;color: #696969;}#sk-container-id-3 label.sk-toggleable__label-arrow:hover:before {color: black;}#sk-container-id-3 div.sk-estimator:hover label.sk-toggleable__label-arrow:before {color: black;}#sk-container-id-3 div.sk-toggleable__content {max-height: 0;max-width: 0;overflow: hidden;text-align: left;background-color: #f0f8ff;}#sk-container-id-3 div.sk-toggleable__content pre {margin: 0.2em;color: black;border-radius: 0.25em;background-color: #f0f8ff;}#sk-container-id-3 input.sk-toggleable__control:checked~div.sk-toggleable__content {max-height: 200px;max-width: 100%;overflow: auto;}#sk-container-id-3 input.sk-toggleable__control:checked~label.sk-toggleable__label-arrow:before {content: \"▾\";}#sk-container-id-3 div.sk-estimator input.sk-toggleable__control:checked~label.sk-toggleable__label {background-color: #d4ebff;}#sk-container-id-3 div.sk-label input.sk-toggleable__control:checked~label.sk-toggleable__label {background-color: #d4ebff;}#sk-container-id-3 input.sk-hidden--visually {border: 0;clip: rect(1px 1px 1px 1px);clip: rect(1px, 1px, 1px, 1px);height: 1px;margin: -1px;overflow: hidden;padding: 0;position: absolute;width: 1px;}#sk-container-id-3 div.sk-estimator {font-family: monospace;background-color: #f0f8ff;border: 1px dotted black;border-radius: 0.25em;box-sizing: border-box;margin-bottom: 0.5em;}#sk-container-id-3 div.sk-estimator:hover {background-color: #d4ebff;}#sk-container-id-3 div.sk-parallel-item::after {content: \"\";width: 100%;border-bottom: 1px solid gray;flex-grow: 1;}#sk-container-id-3 div.sk-label:hover label.sk-toggleable__label {background-color: #d4ebff;}#sk-container-id-3 div.sk-serial::before {content: \"\";position: absolute;border-left: 1px solid gray;box-sizing: border-box;top: 0;bottom: 0;left: 50%;z-index: 0;}#sk-container-id-3 div.sk-serial {display: flex;flex-direction: column;align-items: center;background-color: white;padding-right: 0.2em;padding-left: 0.2em;position: relative;}#sk-container-id-3 div.sk-item {position: relative;z-index: 1;}#sk-container-id-3 div.sk-parallel {display: flex;align-items: stretch;justify-content: center;background-color: white;position: relative;}#sk-container-id-3 div.sk-item::before, #sk-container-id-3 div.sk-parallel-item::before {content: \"\";position: absolute;border-left: 1px solid gray;box-sizing: border-box;top: 0;bottom: 0;left: 50%;z-index: -1;}#sk-container-id-3 div.sk-parallel-item {display: flex;flex-direction: column;z-index: 1;position: relative;background-color: white;}#sk-container-id-3 div.sk-parallel-item:first-child::after {align-self: flex-end;width: 50%;}#sk-container-id-3 div.sk-parallel-item:last-child::after {align-self: flex-start;width: 50%;}#sk-container-id-3 div.sk-parallel-item:only-child::after {width: 0;}#sk-container-id-3 div.sk-dashed-wrapped {border: 1px dashed gray;margin: 0 0.4em 0.5em 0.4em;box-sizing: border-box;padding-bottom: 0.4em;background-color: white;}#sk-container-id-3 div.sk-label label {font-family: monospace;font-weight: bold;display: inline-block;line-height: 1.2em;}#sk-container-id-3 div.sk-label-container {text-align: center;}#sk-container-id-3 div.sk-container {/* jupyter's `normalize.less` sets `[hidden] { display: none; }` but bootstrap.min.css set `[hidden] { display: none !important; }` so we also need the `!important` here to be able to override the default hidden behavior on the sphinx rendered scikit-learn.org. See: https://github.com/scikit-learn/scikit-learn/issues/21755 */display: inline-block !important;position: relative;}#sk-container-id-3 div.sk-text-repr-fallback {display: none;}</style><div id=\"sk-container-id-3\" class=\"sk-top-container\"><div class=\"sk-text-repr-fallback\"><pre>GroupRareLevelsTransformer(columns=[&#x27;PropertyType&#x27;], cut_off_percent=0.03)</pre><b>In a Jupyter environment, please rerun this cell to show the HTML representation or trust the notebook. <br />On GitHub, the HTML representation is unable to render, please try loading this page with nbviewer.org.</b></div><div class=\"sk-container\" hidden><div class=\"sk-item\"><div class=\"sk-estimator sk-toggleable\"><input class=\"sk-toggleable__control sk-hidden--visually\" id=\"sk-estimator-id-3\" type=\"checkbox\" checked><label for=\"sk-estimator-id-3\" class=\"sk-toggleable__label sk-toggleable__label-arrow\">GroupRareLevelsTransformer</label><div class=\"sk-toggleable__content\"><pre>GroupRareLevelsTransformer(columns=[&#x27;PropertyType&#x27;], cut_off_percent=0.03)</pre></div></div></div></div></div>"
      ],
      "text/plain": [
       "GroupRareLevelsTransformer(columns=['PropertyType'], cut_off_percent=0.03)"
      ]
     },
     "execution_count": 25,
     "metadata": {},
     "output_type": "execute_result"
    }
   ],
   "source": [
    "PropertyType_transformer.fit(df)"
   ]
  },
  {
   "cell_type": "code",
   "execution_count": 26,
   "id": "54fb8d29",
   "metadata": {},
   "outputs": [],
   "source": [
    "X_transformed = PropertyType_transformer.transform(df)"
   ]
  },
  {
   "cell_type": "code",
   "execution_count": 27,
   "id": "70db520a",
   "metadata": {},
   "outputs": [
    {
     "data": {
      "text/plain": [
       "array(['Self contained Sheltered Housing ', 'House - single occupancy ',\n",
       "       'Purpose Built Flats/Maisonettes - 10 or more storeys ', 'rare',\n",
       "       'Purpose Built Flats/Maisonettes - Up to 3 storeys ',\n",
       "       'Converted Flat/Maisonette - Up to 2 storeys ',\n",
       "       'Purpose Built Flats/Maisonettes - 4 to 9 storeys ', 'Car ',\n",
       "       'Converted Flat/Maisonettes - 3 or more storeys'], dtype=object)"
      ]
     },
     "execution_count": 27,
     "metadata": {},
     "output_type": "execute_result"
    }
   ],
   "source": [
    "X_transformed['PropertyType'].unique()"
   ]
  },
  {
   "cell_type": "code",
   "execution_count": 28,
   "id": "b1e317ca",
   "metadata": {},
   "outputs": [
    {
     "data": {
      "text/plain": [
       "rare                                                     0.416490\n",
       "Purpose Built Flats/Maisonettes - 4 to 9 storeys         0.152055\n",
       "House - single occupancy                                 0.121573\n",
       "Purpose Built Flats/Maisonettes - Up to 3 storeys        0.113189\n",
       "Self contained Sheltered Housing                         0.047549\n",
       "Converted Flat/Maisonettes - 3 or more storeys           0.041311\n",
       "Purpose Built Flats/Maisonettes - 10 or more storeys     0.039271\n",
       "Car                                                      0.035767\n",
       "Converted Flat/Maisonette - Up to 2 storeys              0.032795\n",
       "Name: PropertyType, dtype: float64"
      ]
     },
     "execution_count": 28,
     "metadata": {},
     "output_type": "execute_result"
    }
   ],
   "source": [
    "X_transformed['PropertyType'].value_counts()/X_transformed.shape[0]"
   ]
  },
  {
   "cell_type": "markdown",
   "id": "a5b516af",
   "metadata": {},
   "source": [
    "### Grouping the AddressQualifier feature"
   ]
  },
  {
   "cell_type": "code",
   "execution_count": 29,
   "id": "17300830",
   "metadata": {},
   "outputs": [
    {
     "data": {
      "text/plain": [
       "Correct incident location                          0.586294\n",
       "Within same building                               0.227795\n",
       "On land associated with building                   0.061469\n",
       "In street outside gazetteer location               0.060607\n",
       "In street close to gazetteer location              0.026266\n",
       "Open land/water - nearest gazetteer location       0.024091\n",
       "Nearby address - street not listed in gazetteer    0.003581\n",
       "Nearby address - no building in street             0.003163\n",
       "On motorway / elevated road                        0.002996\n",
       "In street remote from gazetteer location           0.002208\n",
       "Railway land or rolling stock                      0.001532\n",
       "Name: AddressQualifier, dtype: float64"
      ]
     },
     "execution_count": 29,
     "metadata": {},
     "output_type": "execute_result"
    }
   ],
   "source": [
    "df['AddressQualifier'].value_counts()/df.shape[0]"
   ]
  },
  {
   "cell_type": "code",
   "execution_count": 30,
   "id": "5d623992",
   "metadata": {},
   "outputs": [],
   "source": [
    "AddressQualifier_transformer = GroupRareLevelsTransformer(columns = 'AddressQualifier',\n",
    "                                                          cut_off_percent=0.05,\n",
    "                                                          verbose=False\n",
    "                                                         )"
   ]
  },
  {
   "cell_type": "code",
   "execution_count": 31,
   "id": "9ec35de7",
   "metadata": {},
   "outputs": [
    {
     "data": {
      "text/html": [
       "<style>#sk-container-id-4 {color: black;background-color: white;}#sk-container-id-4 pre{padding: 0;}#sk-container-id-4 div.sk-toggleable {background-color: white;}#sk-container-id-4 label.sk-toggleable__label {cursor: pointer;display: block;width: 100%;margin-bottom: 0;padding: 0.3em;box-sizing: border-box;text-align: center;}#sk-container-id-4 label.sk-toggleable__label-arrow:before {content: \"▸\";float: left;margin-right: 0.25em;color: #696969;}#sk-container-id-4 label.sk-toggleable__label-arrow:hover:before {color: black;}#sk-container-id-4 div.sk-estimator:hover label.sk-toggleable__label-arrow:before {color: black;}#sk-container-id-4 div.sk-toggleable__content {max-height: 0;max-width: 0;overflow: hidden;text-align: left;background-color: #f0f8ff;}#sk-container-id-4 div.sk-toggleable__content pre {margin: 0.2em;color: black;border-radius: 0.25em;background-color: #f0f8ff;}#sk-container-id-4 input.sk-toggleable__control:checked~div.sk-toggleable__content {max-height: 200px;max-width: 100%;overflow: auto;}#sk-container-id-4 input.sk-toggleable__control:checked~label.sk-toggleable__label-arrow:before {content: \"▾\";}#sk-container-id-4 div.sk-estimator input.sk-toggleable__control:checked~label.sk-toggleable__label {background-color: #d4ebff;}#sk-container-id-4 div.sk-label input.sk-toggleable__control:checked~label.sk-toggleable__label {background-color: #d4ebff;}#sk-container-id-4 input.sk-hidden--visually {border: 0;clip: rect(1px 1px 1px 1px);clip: rect(1px, 1px, 1px, 1px);height: 1px;margin: -1px;overflow: hidden;padding: 0;position: absolute;width: 1px;}#sk-container-id-4 div.sk-estimator {font-family: monospace;background-color: #f0f8ff;border: 1px dotted black;border-radius: 0.25em;box-sizing: border-box;margin-bottom: 0.5em;}#sk-container-id-4 div.sk-estimator:hover {background-color: #d4ebff;}#sk-container-id-4 div.sk-parallel-item::after {content: \"\";width: 100%;border-bottom: 1px solid gray;flex-grow: 1;}#sk-container-id-4 div.sk-label:hover label.sk-toggleable__label {background-color: #d4ebff;}#sk-container-id-4 div.sk-serial::before {content: \"\";position: absolute;border-left: 1px solid gray;box-sizing: border-box;top: 0;bottom: 0;left: 50%;z-index: 0;}#sk-container-id-4 div.sk-serial {display: flex;flex-direction: column;align-items: center;background-color: white;padding-right: 0.2em;padding-left: 0.2em;position: relative;}#sk-container-id-4 div.sk-item {position: relative;z-index: 1;}#sk-container-id-4 div.sk-parallel {display: flex;align-items: stretch;justify-content: center;background-color: white;position: relative;}#sk-container-id-4 div.sk-item::before, #sk-container-id-4 div.sk-parallel-item::before {content: \"\";position: absolute;border-left: 1px solid gray;box-sizing: border-box;top: 0;bottom: 0;left: 50%;z-index: -1;}#sk-container-id-4 div.sk-parallel-item {display: flex;flex-direction: column;z-index: 1;position: relative;background-color: white;}#sk-container-id-4 div.sk-parallel-item:first-child::after {align-self: flex-end;width: 50%;}#sk-container-id-4 div.sk-parallel-item:last-child::after {align-self: flex-start;width: 50%;}#sk-container-id-4 div.sk-parallel-item:only-child::after {width: 0;}#sk-container-id-4 div.sk-dashed-wrapped {border: 1px dashed gray;margin: 0 0.4em 0.5em 0.4em;box-sizing: border-box;padding-bottom: 0.4em;background-color: white;}#sk-container-id-4 div.sk-label label {font-family: monospace;font-weight: bold;display: inline-block;line-height: 1.2em;}#sk-container-id-4 div.sk-label-container {text-align: center;}#sk-container-id-4 div.sk-container {/* jupyter's `normalize.less` sets `[hidden] { display: none; }` but bootstrap.min.css set `[hidden] { display: none !important; }` so we also need the `!important` here to be able to override the default hidden behavior on the sphinx rendered scikit-learn.org. See: https://github.com/scikit-learn/scikit-learn/issues/21755 */display: inline-block !important;position: relative;}#sk-container-id-4 div.sk-text-repr-fallback {display: none;}</style><div id=\"sk-container-id-4\" class=\"sk-top-container\"><div class=\"sk-text-repr-fallback\"><pre>GroupRareLevelsTransformer(columns=[&#x27;AddressQualifier&#x27;], cut_off_percent=0.05)</pre><b>In a Jupyter environment, please rerun this cell to show the HTML representation or trust the notebook. <br />On GitHub, the HTML representation is unable to render, please try loading this page with nbviewer.org.</b></div><div class=\"sk-container\" hidden><div class=\"sk-item\"><div class=\"sk-estimator sk-toggleable\"><input class=\"sk-toggleable__control sk-hidden--visually\" id=\"sk-estimator-id-4\" type=\"checkbox\" checked><label for=\"sk-estimator-id-4\" class=\"sk-toggleable__label sk-toggleable__label-arrow\">GroupRareLevelsTransformer</label><div class=\"sk-toggleable__content\"><pre>GroupRareLevelsTransformer(columns=[&#x27;AddressQualifier&#x27;], cut_off_percent=0.05)</pre></div></div></div></div></div>"
      ],
      "text/plain": [
       "GroupRareLevelsTransformer(columns=['AddressQualifier'], cut_off_percent=0.05)"
      ]
     },
     "execution_count": 31,
     "metadata": {},
     "output_type": "execute_result"
    }
   ],
   "source": [
    "AddressQualifier_transformer.fit(df)"
   ]
  },
  {
   "cell_type": "code",
   "execution_count": 32,
   "id": "7689aa97",
   "metadata": {},
   "outputs": [],
   "source": [
    "X_transformed = AddressQualifier_transformer.transform(df)"
   ]
  },
  {
   "cell_type": "code",
   "execution_count": 33,
   "id": "d5c0a7d0",
   "metadata": {},
   "outputs": [
    {
     "data": {
      "text/plain": [
       "array(['Within same building', 'Correct incident location',\n",
       "       'In street outside gazetteer location', 'rare',\n",
       "       'On land associated with building'], dtype=object)"
      ]
     },
     "execution_count": 33,
     "metadata": {},
     "output_type": "execute_result"
    }
   ],
   "source": [
    "X_transformed['AddressQualifier'].unique()"
   ]
  },
  {
   "cell_type": "code",
   "execution_count": 34,
   "id": "966013a2",
   "metadata": {},
   "outputs": [
    {
     "data": {
      "text/plain": [
       "Correct incident location               0.586294\n",
       "Within same building                    0.227795\n",
       "rare                                    0.063835\n",
       "On land associated with building        0.061469\n",
       "In street outside gazetteer location    0.060607\n",
       "Name: AddressQualifier, dtype: float64"
      ]
     },
     "execution_count": 34,
     "metadata": {},
     "output_type": "execute_result"
    }
   ],
   "source": [
    "X_transformed['AddressQualifier'].value_counts()/X_transformed.shape[0]"
   ]
  },
  {
   "cell_type": "markdown",
   "id": "4ed6ac7b",
   "metadata": {},
   "source": [
    "### Grouping the IncGeo_WardName feature"
   ]
  },
  {
   "cell_type": "code",
   "execution_count": 35,
   "id": "53df3f16",
   "metadata": {},
   "outputs": [
    {
     "data": {
      "text/plain": [
       "West End                       0.009713\n",
       "St. James's                    0.007361\n",
       "WEST END                       0.005671\n",
       "FAIRFIELD                      0.004686\n",
       "ST. JAMES'S                    0.004636\n",
       "                                 ...   \n",
       "Aldborough                     0.000003\n",
       "Coleman Street                 0.000003\n",
       "Selsdon & Addington Village    0.000003\n",
       "Bishopsgate                    0.000003\n",
       "De Beauvoir                    0.000003\n",
       "Name: IncGeo_WardName, Length: 1293, dtype: float64"
      ]
     },
     "execution_count": 35,
     "metadata": {},
     "output_type": "execute_result"
    }
   ],
   "source": [
    "df['IncGeo_WardName'].value_counts()/df.shape[0]"
   ]
  },
  {
   "cell_type": "code",
   "execution_count": 36,
   "id": "c3c1aed9",
   "metadata": {},
   "outputs": [],
   "source": [
    "IncGeo_WardName_transformer = GroupRareLevelsTransformer(columns = 'IncGeo_WardName',\n",
    "                                                         cut_off_percent=0.003,\n",
    "                                                         verbose=False\n",
    "                                                        )"
   ]
  },
  {
   "cell_type": "code",
   "execution_count": 37,
   "id": "39fd834f",
   "metadata": {},
   "outputs": [
    {
     "data": {
      "text/html": [
       "<style>#sk-container-id-5 {color: black;background-color: white;}#sk-container-id-5 pre{padding: 0;}#sk-container-id-5 div.sk-toggleable {background-color: white;}#sk-container-id-5 label.sk-toggleable__label {cursor: pointer;display: block;width: 100%;margin-bottom: 0;padding: 0.3em;box-sizing: border-box;text-align: center;}#sk-container-id-5 label.sk-toggleable__label-arrow:before {content: \"▸\";float: left;margin-right: 0.25em;color: #696969;}#sk-container-id-5 label.sk-toggleable__label-arrow:hover:before {color: black;}#sk-container-id-5 div.sk-estimator:hover label.sk-toggleable__label-arrow:before {color: black;}#sk-container-id-5 div.sk-toggleable__content {max-height: 0;max-width: 0;overflow: hidden;text-align: left;background-color: #f0f8ff;}#sk-container-id-5 div.sk-toggleable__content pre {margin: 0.2em;color: black;border-radius: 0.25em;background-color: #f0f8ff;}#sk-container-id-5 input.sk-toggleable__control:checked~div.sk-toggleable__content {max-height: 200px;max-width: 100%;overflow: auto;}#sk-container-id-5 input.sk-toggleable__control:checked~label.sk-toggleable__label-arrow:before {content: \"▾\";}#sk-container-id-5 div.sk-estimator input.sk-toggleable__control:checked~label.sk-toggleable__label {background-color: #d4ebff;}#sk-container-id-5 div.sk-label input.sk-toggleable__control:checked~label.sk-toggleable__label {background-color: #d4ebff;}#sk-container-id-5 input.sk-hidden--visually {border: 0;clip: rect(1px 1px 1px 1px);clip: rect(1px, 1px, 1px, 1px);height: 1px;margin: -1px;overflow: hidden;padding: 0;position: absolute;width: 1px;}#sk-container-id-5 div.sk-estimator {font-family: monospace;background-color: #f0f8ff;border: 1px dotted black;border-radius: 0.25em;box-sizing: border-box;margin-bottom: 0.5em;}#sk-container-id-5 div.sk-estimator:hover {background-color: #d4ebff;}#sk-container-id-5 div.sk-parallel-item::after {content: \"\";width: 100%;border-bottom: 1px solid gray;flex-grow: 1;}#sk-container-id-5 div.sk-label:hover label.sk-toggleable__label {background-color: #d4ebff;}#sk-container-id-5 div.sk-serial::before {content: \"\";position: absolute;border-left: 1px solid gray;box-sizing: border-box;top: 0;bottom: 0;left: 50%;z-index: 0;}#sk-container-id-5 div.sk-serial {display: flex;flex-direction: column;align-items: center;background-color: white;padding-right: 0.2em;padding-left: 0.2em;position: relative;}#sk-container-id-5 div.sk-item {position: relative;z-index: 1;}#sk-container-id-5 div.sk-parallel {display: flex;align-items: stretch;justify-content: center;background-color: white;position: relative;}#sk-container-id-5 div.sk-item::before, #sk-container-id-5 div.sk-parallel-item::before {content: \"\";position: absolute;border-left: 1px solid gray;box-sizing: border-box;top: 0;bottom: 0;left: 50%;z-index: -1;}#sk-container-id-5 div.sk-parallel-item {display: flex;flex-direction: column;z-index: 1;position: relative;background-color: white;}#sk-container-id-5 div.sk-parallel-item:first-child::after {align-self: flex-end;width: 50%;}#sk-container-id-5 div.sk-parallel-item:last-child::after {align-self: flex-start;width: 50%;}#sk-container-id-5 div.sk-parallel-item:only-child::after {width: 0;}#sk-container-id-5 div.sk-dashed-wrapped {border: 1px dashed gray;margin: 0 0.4em 0.5em 0.4em;box-sizing: border-box;padding-bottom: 0.4em;background-color: white;}#sk-container-id-5 div.sk-label label {font-family: monospace;font-weight: bold;display: inline-block;line-height: 1.2em;}#sk-container-id-5 div.sk-label-container {text-align: center;}#sk-container-id-5 div.sk-container {/* jupyter's `normalize.less` sets `[hidden] { display: none; }` but bootstrap.min.css set `[hidden] { display: none !important; }` so we also need the `!important` here to be able to override the default hidden behavior on the sphinx rendered scikit-learn.org. See: https://github.com/scikit-learn/scikit-learn/issues/21755 */display: inline-block !important;position: relative;}#sk-container-id-5 div.sk-text-repr-fallback {display: none;}</style><div id=\"sk-container-id-5\" class=\"sk-top-container\"><div class=\"sk-text-repr-fallback\"><pre>GroupRareLevelsTransformer(columns=[&#x27;IncGeo_WardName&#x27;], cut_off_percent=0.003)</pre><b>In a Jupyter environment, please rerun this cell to show the HTML representation or trust the notebook. <br />On GitHub, the HTML representation is unable to render, please try loading this page with nbviewer.org.</b></div><div class=\"sk-container\" hidden><div class=\"sk-item\"><div class=\"sk-estimator sk-toggleable\"><input class=\"sk-toggleable__control sk-hidden--visually\" id=\"sk-estimator-id-5\" type=\"checkbox\" checked><label for=\"sk-estimator-id-5\" class=\"sk-toggleable__label sk-toggleable__label-arrow\">GroupRareLevelsTransformer</label><div class=\"sk-toggleable__content\"><pre>GroupRareLevelsTransformer(columns=[&#x27;IncGeo_WardName&#x27;], cut_off_percent=0.003)</pre></div></div></div></div></div>"
      ],
      "text/plain": [
       "GroupRareLevelsTransformer(columns=['IncGeo_WardName'], cut_off_percent=0.003)"
      ]
     },
     "execution_count": 37,
     "metadata": {},
     "output_type": "execute_result"
    }
   ],
   "source": [
    "IncGeo_WardName_transformer.fit(df)"
   ]
  },
  {
   "cell_type": "code",
   "execution_count": 38,
   "id": "f6aea15b",
   "metadata": {},
   "outputs": [],
   "source": [
    "X_transformed = IncGeo_WardName_transformer.transform(df)"
   ]
  },
  {
   "cell_type": "code",
   "execution_count": 39,
   "id": "de0d3249",
   "metadata": {},
   "outputs": [
    {
     "data": {
      "text/plain": [
       "array(['rare', 'WADDON', \"Regent's Park\", 'Bloomsbury',\n",
       "       'Holborn & Covent Garden', 'West End', 'HOXTON EAST & SHOREDITCH',\n",
       "       \"St. James's\", 'Kilburn', 'Heathrow Villages', 'Marylebone',\n",
       "       'FAIRFIELD', 'LONDON BRIDGE & WEST BERMONDSEY', \"ST. JAMES'S\",\n",
       "       'WEST END'], dtype=object)"
      ]
     },
     "execution_count": 39,
     "metadata": {},
     "output_type": "execute_result"
    }
   ],
   "source": [
    "X_transformed['IncGeo_WardName'].unique()"
   ]
  },
  {
   "cell_type": "code",
   "execution_count": 40,
   "id": "6be10cde",
   "metadata": {},
   "outputs": [
    {
     "data": {
      "text/plain": [
       "rare                               0.937514\n",
       "West End                           0.009713\n",
       "St. James's                        0.007361\n",
       "WEST END                           0.005671\n",
       "FAIRFIELD                          0.004686\n",
       "ST. JAMES'S                        0.004636\n",
       "Heathrow Villages                  0.003922\n",
       "Bloomsbury                         0.003669\n",
       "Holborn & Covent Garden            0.003592\n",
       "Regent's Park                      0.003404\n",
       "Kilburn                            0.003242\n",
       "HOXTON EAST & SHOREDITCH           0.003181\n",
       "LONDON BRIDGE & WEST BERMONDSEY    0.003163\n",
       "WADDON                             0.003148\n",
       "Marylebone                         0.003098\n",
       "Name: IncGeo_WardName, dtype: float64"
      ]
     },
     "execution_count": 40,
     "metadata": {},
     "output_type": "execute_result"
    }
   ],
   "source": [
    "X_transformed['IncGeo_WardName'].value_counts()/X_transformed.shape[0]"
   ]
  },
  {
   "cell_type": "markdown",
   "id": "a76d4fb2",
   "metadata": {},
   "source": [
    "### Calculate the target feature FirstPumpArriving_AttendanceTime in minutes"
   ]
  },
  {
   "cell_type": "code",
   "execution_count": 41,
   "id": "cdb88fa9",
   "metadata": {},
   "outputs": [],
   "source": [
    "df = calculate_attendance_time(df)"
   ]
  },
  {
   "cell_type": "markdown",
   "id": "98454cc8",
   "metadata": {},
   "source": [
    "### Cap the Notional Cost (£) feature"
   ]
  },
  {
   "cell_type": "code",
   "execution_count": 42,
   "id": "cb40fe53",
   "metadata": {},
   "outputs": [
    {
     "data": {
      "text/plain": [
       "count    327967.000000\n",
       "mean        485.104678\n",
       "std        1546.549090\n",
       "min         346.000000\n",
       "25%         352.000000\n",
       "50%         352.000000\n",
       "75%         364.000000\n",
       "max      247520.000000\n",
       "Name: Notional Cost (£), dtype: float64"
      ]
     },
     "execution_count": 42,
     "metadata": {},
     "output_type": "execute_result"
    }
   ],
   "source": [
    "df['Notional Cost (£)'].describe()"
   ]
  },
  {
   "cell_type": "code",
   "execution_count": 43,
   "id": "02ab3e7f",
   "metadata": {},
   "outputs": [],
   "source": [
    "cap_national_cost = CappingTransformer(capping_values={'Notional Cost (£)': [0, 400]})"
   ]
  },
  {
   "cell_type": "code",
   "execution_count": 44,
   "id": "5d541ca1",
   "metadata": {},
   "outputs": [
    {
     "data": {
      "text/html": [
       "<style>#sk-container-id-6 {color: black;background-color: white;}#sk-container-id-6 pre{padding: 0;}#sk-container-id-6 div.sk-toggleable {background-color: white;}#sk-container-id-6 label.sk-toggleable__label {cursor: pointer;display: block;width: 100%;margin-bottom: 0;padding: 0.3em;box-sizing: border-box;text-align: center;}#sk-container-id-6 label.sk-toggleable__label-arrow:before {content: \"▸\";float: left;margin-right: 0.25em;color: #696969;}#sk-container-id-6 label.sk-toggleable__label-arrow:hover:before {color: black;}#sk-container-id-6 div.sk-estimator:hover label.sk-toggleable__label-arrow:before {color: black;}#sk-container-id-6 div.sk-toggleable__content {max-height: 0;max-width: 0;overflow: hidden;text-align: left;background-color: #f0f8ff;}#sk-container-id-6 div.sk-toggleable__content pre {margin: 0.2em;color: black;border-radius: 0.25em;background-color: #f0f8ff;}#sk-container-id-6 input.sk-toggleable__control:checked~div.sk-toggleable__content {max-height: 200px;max-width: 100%;overflow: auto;}#sk-container-id-6 input.sk-toggleable__control:checked~label.sk-toggleable__label-arrow:before {content: \"▾\";}#sk-container-id-6 div.sk-estimator input.sk-toggleable__control:checked~label.sk-toggleable__label {background-color: #d4ebff;}#sk-container-id-6 div.sk-label input.sk-toggleable__control:checked~label.sk-toggleable__label {background-color: #d4ebff;}#sk-container-id-6 input.sk-hidden--visually {border: 0;clip: rect(1px 1px 1px 1px);clip: rect(1px, 1px, 1px, 1px);height: 1px;margin: -1px;overflow: hidden;padding: 0;position: absolute;width: 1px;}#sk-container-id-6 div.sk-estimator {font-family: monospace;background-color: #f0f8ff;border: 1px dotted black;border-radius: 0.25em;box-sizing: border-box;margin-bottom: 0.5em;}#sk-container-id-6 div.sk-estimator:hover {background-color: #d4ebff;}#sk-container-id-6 div.sk-parallel-item::after {content: \"\";width: 100%;border-bottom: 1px solid gray;flex-grow: 1;}#sk-container-id-6 div.sk-label:hover label.sk-toggleable__label {background-color: #d4ebff;}#sk-container-id-6 div.sk-serial::before {content: \"\";position: absolute;border-left: 1px solid gray;box-sizing: border-box;top: 0;bottom: 0;left: 50%;z-index: 0;}#sk-container-id-6 div.sk-serial {display: flex;flex-direction: column;align-items: center;background-color: white;padding-right: 0.2em;padding-left: 0.2em;position: relative;}#sk-container-id-6 div.sk-item {position: relative;z-index: 1;}#sk-container-id-6 div.sk-parallel {display: flex;align-items: stretch;justify-content: center;background-color: white;position: relative;}#sk-container-id-6 div.sk-item::before, #sk-container-id-6 div.sk-parallel-item::before {content: \"\";position: absolute;border-left: 1px solid gray;box-sizing: border-box;top: 0;bottom: 0;left: 50%;z-index: -1;}#sk-container-id-6 div.sk-parallel-item {display: flex;flex-direction: column;z-index: 1;position: relative;background-color: white;}#sk-container-id-6 div.sk-parallel-item:first-child::after {align-self: flex-end;width: 50%;}#sk-container-id-6 div.sk-parallel-item:last-child::after {align-self: flex-start;width: 50%;}#sk-container-id-6 div.sk-parallel-item:only-child::after {width: 0;}#sk-container-id-6 div.sk-dashed-wrapped {border: 1px dashed gray;margin: 0 0.4em 0.5em 0.4em;box-sizing: border-box;padding-bottom: 0.4em;background-color: white;}#sk-container-id-6 div.sk-label label {font-family: monospace;font-weight: bold;display: inline-block;line-height: 1.2em;}#sk-container-id-6 div.sk-label-container {text-align: center;}#sk-container-id-6 div.sk-container {/* jupyter's `normalize.less` sets `[hidden] { display: none; }` but bootstrap.min.css set `[hidden] { display: none !important; }` so we also need the `!important` here to be able to override the default hidden behavior on the sphinx rendered scikit-learn.org. See: https://github.com/scikit-learn/scikit-learn/issues/21755 */display: inline-block !important;position: relative;}#sk-container-id-6 div.sk-text-repr-fallback {display: none;}</style><div id=\"sk-container-id-6\" class=\"sk-top-container\"><div class=\"sk-text-repr-fallback\"><pre>CappingTransformer(capping_values={&#x27;Notional Cost (£)&#x27;: [0, 400]})</pre><b>In a Jupyter environment, please rerun this cell to show the HTML representation or trust the notebook. <br />On GitHub, the HTML representation is unable to render, please try loading this page with nbviewer.org.</b></div><div class=\"sk-container\" hidden><div class=\"sk-item\"><div class=\"sk-estimator sk-toggleable\"><input class=\"sk-toggleable__control sk-hidden--visually\" id=\"sk-estimator-id-6\" type=\"checkbox\" checked><label for=\"sk-estimator-id-6\" class=\"sk-toggleable__label sk-toggleable__label-arrow\">CappingTransformer</label><div class=\"sk-toggleable__content\"><pre>CappingTransformer(capping_values={&#x27;Notional Cost (£)&#x27;: [0, 400]})</pre></div></div></div></div></div>"
      ],
      "text/plain": [
       "CappingTransformer(capping_values={'Notional Cost (£)': [0, 400]})"
      ]
     },
     "execution_count": 44,
     "metadata": {},
     "output_type": "execute_result"
    }
   ],
   "source": [
    "cap_national_cost.fit(df)"
   ]
  },
  {
   "cell_type": "code",
   "execution_count": 45,
   "id": "c189e608",
   "metadata": {},
   "outputs": [],
   "source": [
    "X_transformed = cap_national_cost.transform(df)"
   ]
  },
  {
   "cell_type": "code",
   "execution_count": 46,
   "id": "95305d2e",
   "metadata": {},
   "outputs": [
    {
     "data": {
      "text/plain": [
       "count    327967.000000\n",
       "mean        361.149786\n",
       "std          16.990619\n",
       "min         346.000000\n",
       "25%         352.000000\n",
       "50%         352.000000\n",
       "75%         364.000000\n",
       "max         400.000000\n",
       "Name: Notional Cost (£), dtype: float64"
      ]
     },
     "execution_count": 46,
     "metadata": {},
     "output_type": "execute_result"
    }
   ],
   "source": [
    "X_transformed['Notional Cost (£)'].describe()"
   ]
  },
  {
   "cell_type": "code",
   "execution_count": 47,
   "id": "b83bd705",
   "metadata": {},
   "outputs": [
    {
     "data": {
      "text/plain": [
       "(340174, 42)"
      ]
     },
     "execution_count": 47,
     "metadata": {},
     "output_type": "execute_result"
    }
   ],
   "source": [
    "df.shape"
   ]
  },
  {
   "cell_type": "code",
   "execution_count": 48,
   "id": "b9d57180",
   "metadata": {},
   "outputs": [],
   "source": [
    "df['NationalCost'] = df['Notional Cost (£)']\n",
    "df.drop(columns = 'Notional Cost (£)', inplace=True)"
   ]
  },
  {
   "cell_type": "markdown",
   "id": "a97ab25e",
   "metadata": {},
   "source": [
    "### Devide the data to train and test based on the CalYear"
   ]
  },
  {
   "cell_type": "code",
   "execution_count": 49,
   "id": "828c13b9",
   "metadata": {},
   "outputs": [
    {
     "data": {
      "text/plain": [
       "2022    125390\n",
       "2021    109577\n",
       "2020     67519\n",
       "2023     37688\n",
       "Name: CalYear, dtype: int64"
      ]
     },
     "execution_count": 49,
     "metadata": {},
     "output_type": "execute_result"
    }
   ],
   "source": [
    "df['CalYear'].value_counts()"
   ]
  },
  {
   "cell_type": "code",
   "execution_count": 50,
   "id": "376feec5",
   "metadata": {},
   "outputs": [],
   "source": [
    "train = df[df['CalYear'].isin([2020, 2021, 2022])]\n",
    "test = df[df['CalYear'] == 2023]"
   ]
  },
  {
   "cell_type": "code",
   "execution_count": 51,
   "id": "16d18da4",
   "metadata": {},
   "outputs": [
    {
     "data": {
      "text/plain": [
       "((302486, 42), (37688, 42))"
      ]
     },
     "execution_count": 51,
     "metadata": {},
     "output_type": "execute_result"
    }
   ],
   "source": [
    "train.shape, test.shape"
   ]
  },
  {
   "cell_type": "markdown",
   "id": "df522ad8",
   "metadata": {},
   "source": [
    "### Drop the incidents where the target feature has na values"
   ]
  },
  {
   "cell_type": "code",
   "execution_count": 52,
   "id": "319e9283",
   "metadata": {},
   "outputs": [],
   "source": [
    "train.dropna(subset=['FirstPumpArriving_AttendanceTime_min'], inplace=True)\n",
    "test.dropna(subset=['FirstPumpArriving_AttendanceTime_min'], inplace=True)"
   ]
  },
  {
   "cell_type": "code",
   "execution_count": 53,
   "id": "0b3f7717",
   "metadata": {},
   "outputs": [
    {
     "data": {
      "text/plain": [
       "((284309, 42), (35723, 42))"
      ]
     },
     "execution_count": 53,
     "metadata": {},
     "output_type": "execute_result"
    }
   ],
   "source": [
    "train.shape, test.shape"
   ]
  },
  {
   "cell_type": "markdown",
   "id": "158be110",
   "metadata": {},
   "source": [
    "### Store the train and test data as pickle"
   ]
  },
  {
   "cell_type": "code",
   "execution_count": 54,
   "id": "abb381e3",
   "metadata": {},
   "outputs": [],
   "source": [
    "train.to_pickle(root_path + '/data/train.pkl')"
   ]
  },
  {
   "cell_type": "code",
   "execution_count": 55,
   "id": "0d1c7f52",
   "metadata": {},
   "outputs": [],
   "source": [
    "test.to_pickle(root_path + '/data/test.pkl')"
   ]
  },
  {
   "cell_type": "code",
   "execution_count": null,
   "id": "a7b436de",
   "metadata": {},
   "outputs": [],
   "source": []
  }
 ],
 "metadata": {
  "kernelspec": {
   "display_name": "mlops",
   "language": "python",
   "name": "mlops"
  },
  "language_info": {
   "codemirror_mode": {
    "name": "ipython",
    "version": 3
   },
   "file_extension": ".py",
   "mimetype": "text/x-python",
   "name": "python",
   "nbconvert_exporter": "python",
   "pygments_lexer": "ipython3",
   "version": "3.10.4"
  }
 },
 "nbformat": 4,
 "nbformat_minor": 5
}
