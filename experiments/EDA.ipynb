{
 "cells": [
  {
   "cell_type": "code",
   "execution_count": 1,
   "id": "eb6ab829",
   "metadata": {},
   "outputs": [],
   "source": [
    "import sys\n",
    "import os\n",
    "import yaml\n",
    "from azure.identity import AzureCliCredential, DefaultAzureCredential\n",
    "from azure.keyvault.secrets import SecretClient\n",
    "from azure.storage.blob import BlobServiceClient, BlobClient\n",
    "\n",
    "root_path = os.path.abspath(os.path.join(os.getcwd(), '..'))\n",
    "sys.path.append(root_path)"
   ]
  },
  {
   "cell_type": "code",
   "execution_count": 2,
   "id": "8ae439d2",
   "metadata": {},
   "outputs": [],
   "source": [
    "import pandas as pd\n",
    "import seaborn as sns\n",
    "from utils.helpers import (read_data_from_github_zip,\n",
    "                           preprocess_date_columns,\n",
    "                           preprocess_time_columns,)"
   ]
  },
  {
   "cell_type": "code",
   "execution_count": 3,
   "id": "90b09b3e",
   "metadata": {},
   "outputs": [],
   "source": [
    "with open(\"../config.yml\", \"r\") as f:\n",
    "    config = yaml.safe_load(f)\n",
    "\n",
    "ONLINE_ADDRESS = config['data']['online_address']\n",
    "DATA_PATH = config['data']['current_table']\n",
    "OLD_DATA_PATH = config['data']['path_old_data']\n",
    "ACCOUNT_URL = config['data']['account_url']\n",
    "CONTAINER_NAME = config['data']['azure_container_name']\n",
    "\n",
    "\n",
    "default_credential = DefaultAzureCredential()\n",
    "\n",
    "# Create the BlobServiceClient object\n",
    "blob_service_client = BlobServiceClient(ACCOUNT_URL, credential=default_credential)\n",
    "container_client = blob_service_client.get_container_client(CONTAINER_NAME)"
   ]
  },
  {
   "cell_type": "code",
   "execution_count": 4,
   "id": "22e71d67",
   "metadata": {},
   "outputs": [],
   "source": [
    "pd.set_option('display.max_columns', None)"
   ]
  },
  {
   "cell_type": "code",
   "execution_count": 5,
   "id": "828b6e55",
   "metadata": {},
   "outputs": [],
   "source": [
    "url = 'https://github.com/MLOpsGDA/mlops_fire_fighter/raw/main/data/LFB_Incident.csv.zip'\n",
    "df = read_data_from_github_zip(url)"
   ]
  },
  {
   "cell_type": "code",
   "execution_count": 6,
   "id": "51a8f52e",
   "metadata": {},
   "outputs": [
    {
     "data": {
      "text/html": [
       "<div>\n",
       "<style scoped>\n",
       "    .dataframe tbody tr th:only-of-type {\n",
       "        vertical-align: middle;\n",
       "    }\n",
       "\n",
       "    .dataframe tbody tr th {\n",
       "        vertical-align: top;\n",
       "    }\n",
       "\n",
       "    .dataframe thead th {\n",
       "        text-align: right;\n",
       "    }\n",
       "</style>\n",
       "<table border=\"1\" class=\"dataframe\">\n",
       "  <thead>\n",
       "    <tr style=\"text-align: right;\">\n",
       "      <th></th>\n",
       "      <th>IncidentNumber</th>\n",
       "      <th>DateOfCall</th>\n",
       "      <th>CalYear</th>\n",
       "      <th>TimeOfCall</th>\n",
       "      <th>HourOfCall</th>\n",
       "      <th>IncidentGroup</th>\n",
       "      <th>StopCodeDescription</th>\n",
       "      <th>SpecialServiceType</th>\n",
       "      <th>PropertyCategory</th>\n",
       "      <th>PropertyType</th>\n",
       "      <th>AddressQualifier</th>\n",
       "      <th>Postcode_full</th>\n",
       "      <th>Postcode_district</th>\n",
       "      <th>UPRN</th>\n",
       "      <th>USRN</th>\n",
       "      <th>IncGeo_BoroughCode</th>\n",
       "      <th>IncGeo_BoroughName</th>\n",
       "      <th>ProperCase</th>\n",
       "      <th>IncGeo_WardCode</th>\n",
       "      <th>IncGeo_WardName</th>\n",
       "      <th>IncGeo_WardNameNew</th>\n",
       "      <th>Easting_m</th>\n",
       "      <th>Northing_m</th>\n",
       "      <th>Easting_rounded</th>\n",
       "      <th>Northing_rounded</th>\n",
       "      <th>Latitude</th>\n",
       "      <th>Longitude</th>\n",
       "      <th>FRS</th>\n",
       "      <th>IncidentStationGround</th>\n",
       "      <th>FirstPumpArriving_AttendanceTime</th>\n",
       "      <th>FirstPumpArriving_DeployedFromStation</th>\n",
       "      <th>SecondPumpArriving_AttendanceTime</th>\n",
       "      <th>SecondPumpArriving_DeployedFromStation</th>\n",
       "      <th>NumStationsWithPumpsAttending</th>\n",
       "      <th>NumPumpsAttending</th>\n",
       "      <th>PumpCount</th>\n",
       "      <th>PumpHoursRoundUp</th>\n",
       "      <th>Notional Cost (£)</th>\n",
       "      <th>NumCalls</th>\n",
       "    </tr>\n",
       "  </thead>\n",
       "  <tbody>\n",
       "    <tr>\n",
       "      <th>0</th>\n",
       "      <td>051451-01052020</td>\n",
       "      <td>01 May 2020</td>\n",
       "      <td>2020</td>\n",
       "      <td>00:03:18</td>\n",
       "      <td>0</td>\n",
       "      <td>False Alarm</td>\n",
       "      <td>False alarm - Good intent</td>\n",
       "      <td>NaN</td>\n",
       "      <td>Dwelling</td>\n",
       "      <td>Self contained Sheltered Housing</td>\n",
       "      <td>Within same building</td>\n",
       "      <td>NaN</td>\n",
       "      <td>SE11</td>\n",
       "      <td>0</td>\n",
       "      <td>22500349</td>\n",
       "      <td>E09000028</td>\n",
       "      <td>SOUTHWARK</td>\n",
       "      <td>Southwark</td>\n",
       "      <td>E05011114</td>\n",
       "      <td>ST. GEORGE'S</td>\n",
       "      <td>ST. GEORGE'S</td>\n",
       "      <td>NaN</td>\n",
       "      <td>NaN</td>\n",
       "      <td>531450</td>\n",
       "      <td>178950</td>\n",
       "      <td>NaN</td>\n",
       "      <td>NaN</td>\n",
       "      <td>London</td>\n",
       "      <td>Lambeth</td>\n",
       "      <td>180.0</td>\n",
       "      <td>Lambeth</td>\n",
       "      <td>192.0</td>\n",
       "      <td>Lambeth</td>\n",
       "      <td>2.0</td>\n",
       "      <td>3.0</td>\n",
       "      <td>3.0</td>\n",
       "      <td>2.0</td>\n",
       "      <td>692.0</td>\n",
       "      <td>1.0</td>\n",
       "    </tr>\n",
       "    <tr>\n",
       "      <th>1</th>\n",
       "      <td>051452-01052020</td>\n",
       "      <td>01 May 2020</td>\n",
       "      <td>2020</td>\n",
       "      <td>00:03:32</td>\n",
       "      <td>0</td>\n",
       "      <td>False Alarm</td>\n",
       "      <td>False alarm - Good intent</td>\n",
       "      <td>NaN</td>\n",
       "      <td>Dwelling</td>\n",
       "      <td>House - single occupancy</td>\n",
       "      <td>Correct incident location</td>\n",
       "      <td>NaN</td>\n",
       "      <td>E7</td>\n",
       "      <td>0</td>\n",
       "      <td>22207988</td>\n",
       "      <td>E09000025</td>\n",
       "      <td>NEWHAM</td>\n",
       "      <td>Newham</td>\n",
       "      <td>E05013913</td>\n",
       "      <td>Green Street East</td>\n",
       "      <td>Green Street East</td>\n",
       "      <td>NaN</td>\n",
       "      <td>NaN</td>\n",
       "      <td>541250</td>\n",
       "      <td>184250</td>\n",
       "      <td>NaN</td>\n",
       "      <td>NaN</td>\n",
       "      <td>London</td>\n",
       "      <td>East Ham</td>\n",
       "      <td>293.0</td>\n",
       "      <td>Stratford</td>\n",
       "      <td>420.0</td>\n",
       "      <td>Leytonstone</td>\n",
       "      <td>2.0</td>\n",
       "      <td>2.0</td>\n",
       "      <td>2.0</td>\n",
       "      <td>1.0</td>\n",
       "      <td>346.0</td>\n",
       "      <td>1.0</td>\n",
       "    </tr>\n",
       "    <tr>\n",
       "      <th>2</th>\n",
       "      <td>051453-01052020</td>\n",
       "      <td>01 May 2020</td>\n",
       "      <td>2020</td>\n",
       "      <td>00:05:55</td>\n",
       "      <td>0</td>\n",
       "      <td>Special Service</td>\n",
       "      <td>Special Service</td>\n",
       "      <td>Effecting entry/exit</td>\n",
       "      <td>Dwelling</td>\n",
       "      <td>House - single occupancy</td>\n",
       "      <td>Correct incident location</td>\n",
       "      <td>NaN</td>\n",
       "      <td>BR1</td>\n",
       "      <td>0</td>\n",
       "      <td>20301711</td>\n",
       "      <td>E09000006</td>\n",
       "      <td>BROMLEY</td>\n",
       "      <td>Bromley</td>\n",
       "      <td>E05014004</td>\n",
       "      <td>Plaistow</td>\n",
       "      <td>Plaistow</td>\n",
       "      <td>NaN</td>\n",
       "      <td>NaN</td>\n",
       "      <td>540450</td>\n",
       "      <td>171550</td>\n",
       "      <td>NaN</td>\n",
       "      <td>NaN</td>\n",
       "      <td>London</td>\n",
       "      <td>Bromley</td>\n",
       "      <td>393.0</td>\n",
       "      <td>Bromley</td>\n",
       "      <td>NaN</td>\n",
       "      <td>NaN</td>\n",
       "      <td>1.0</td>\n",
       "      <td>1.0</td>\n",
       "      <td>1.0</td>\n",
       "      <td>1.0</td>\n",
       "      <td>346.0</td>\n",
       "      <td>2.0</td>\n",
       "    </tr>\n",
       "    <tr>\n",
       "      <th>3</th>\n",
       "      <td>051455-01052020</td>\n",
       "      <td>01 May 2020</td>\n",
       "      <td>2020</td>\n",
       "      <td>00:25:06</td>\n",
       "      <td>0</td>\n",
       "      <td>Special Service</td>\n",
       "      <td>Special Service</td>\n",
       "      <td>Hazardous Materials incident</td>\n",
       "      <td>Dwelling</td>\n",
       "      <td>Purpose Built Flats/Maisonettes - 10 or more s...</td>\n",
       "      <td>Within same building</td>\n",
       "      <td>NaN</td>\n",
       "      <td>E14</td>\n",
       "      <td>0</td>\n",
       "      <td>22702346</td>\n",
       "      <td>E09000030</td>\n",
       "      <td>TOWER HAMLETS</td>\n",
       "      <td>Tower Hamlets</td>\n",
       "      <td>E05009318</td>\n",
       "      <td>Blackwall &amp; Cubitt Town</td>\n",
       "      <td>Blackwall &amp; Cubitt Town</td>\n",
       "      <td>NaN</td>\n",
       "      <td>NaN</td>\n",
       "      <td>538750</td>\n",
       "      <td>180850</td>\n",
       "      <td>NaN</td>\n",
       "      <td>NaN</td>\n",
       "      <td>London</td>\n",
       "      <td>Poplar</td>\n",
       "      <td>338.0</td>\n",
       "      <td>Millwall</td>\n",
       "      <td>422.0</td>\n",
       "      <td>Shadwell</td>\n",
       "      <td>2.0</td>\n",
       "      <td>2.0</td>\n",
       "      <td>2.0</td>\n",
       "      <td>2.0</td>\n",
       "      <td>692.0</td>\n",
       "      <td>1.0</td>\n",
       "    </tr>\n",
       "    <tr>\n",
       "      <th>4</th>\n",
       "      <td>051456-01052020</td>\n",
       "      <td>01 May 2020</td>\n",
       "      <td>2020</td>\n",
       "      <td>00:28:07</td>\n",
       "      <td>0</td>\n",
       "      <td>False Alarm</td>\n",
       "      <td>AFA</td>\n",
       "      <td>NaN</td>\n",
       "      <td>Dwelling</td>\n",
       "      <td>House - single occupancy</td>\n",
       "      <td>Correct incident location</td>\n",
       "      <td>NaN</td>\n",
       "      <td>W5</td>\n",
       "      <td>0</td>\n",
       "      <td>20600595</td>\n",
       "      <td>E09000009</td>\n",
       "      <td>EALING</td>\n",
       "      <td>Ealing</td>\n",
       "      <td>E05013520</td>\n",
       "      <td>Ealing Broadway</td>\n",
       "      <td>Ealing Broadway</td>\n",
       "      <td>NaN</td>\n",
       "      <td>NaN</td>\n",
       "      <td>517550</td>\n",
       "      <td>181150</td>\n",
       "      <td>NaN</td>\n",
       "      <td>NaN</td>\n",
       "      <td>London</td>\n",
       "      <td>Ealing</td>\n",
       "      <td>233.0</td>\n",
       "      <td>Ealing</td>\n",
       "      <td>364.0</td>\n",
       "      <td>Acton</td>\n",
       "      <td>2.0</td>\n",
       "      <td>2.0</td>\n",
       "      <td>2.0</td>\n",
       "      <td>2.0</td>\n",
       "      <td>692.0</td>\n",
       "      <td>1.0</td>\n",
       "    </tr>\n",
       "  </tbody>\n",
       "</table>\n",
       "</div>"
      ],
      "text/plain": [
       "    IncidentNumber   DateOfCall  CalYear TimeOfCall  HourOfCall  \\\n",
       "0  051451-01052020  01 May 2020     2020   00:03:18           0   \n",
       "1  051452-01052020  01 May 2020     2020   00:03:32           0   \n",
       "2  051453-01052020  01 May 2020     2020   00:05:55           0   \n",
       "3  051455-01052020  01 May 2020     2020   00:25:06           0   \n",
       "4  051456-01052020  01 May 2020     2020   00:28:07           0   \n",
       "\n",
       "     IncidentGroup        StopCodeDescription            SpecialServiceType  \\\n",
       "0      False Alarm  False alarm - Good intent                           NaN   \n",
       "1      False Alarm  False alarm - Good intent                           NaN   \n",
       "2  Special Service            Special Service          Effecting entry/exit   \n",
       "3  Special Service            Special Service  Hazardous Materials incident   \n",
       "4      False Alarm                        AFA                           NaN   \n",
       "\n",
       "  PropertyCategory                                       PropertyType  \\\n",
       "0         Dwelling                  Self contained Sheltered Housing    \n",
       "1         Dwelling                          House - single occupancy    \n",
       "2         Dwelling                          House - single occupancy    \n",
       "3         Dwelling  Purpose Built Flats/Maisonettes - 10 or more s...   \n",
       "4         Dwelling                          House - single occupancy    \n",
       "\n",
       "            AddressQualifier Postcode_full Postcode_district  UPRN      USRN  \\\n",
       "0       Within same building           NaN              SE11     0  22500349   \n",
       "1  Correct incident location           NaN                E7     0  22207988   \n",
       "2  Correct incident location           NaN               BR1     0  20301711   \n",
       "3       Within same building           NaN               E14     0  22702346   \n",
       "4  Correct incident location           NaN                W5     0  20600595   \n",
       "\n",
       "  IncGeo_BoroughCode IncGeo_BoroughName     ProperCase IncGeo_WardCode  \\\n",
       "0          E09000028          SOUTHWARK      Southwark       E05011114   \n",
       "1          E09000025             NEWHAM         Newham       E05013913   \n",
       "2          E09000006            BROMLEY        Bromley       E05014004   \n",
       "3          E09000030      TOWER HAMLETS  Tower Hamlets       E05009318   \n",
       "4          E09000009             EALING         Ealing       E05013520   \n",
       "\n",
       "           IncGeo_WardName       IncGeo_WardNameNew  Easting_m  Northing_m  \\\n",
       "0             ST. GEORGE'S             ST. GEORGE'S        NaN         NaN   \n",
       "1        Green Street East        Green Street East        NaN         NaN   \n",
       "2                 Plaistow                 Plaistow        NaN         NaN   \n",
       "3  Blackwall & Cubitt Town  Blackwall & Cubitt Town        NaN         NaN   \n",
       "4          Ealing Broadway          Ealing Broadway        NaN         NaN   \n",
       "\n",
       "   Easting_rounded  Northing_rounded  Latitude  Longitude     FRS  \\\n",
       "0           531450            178950       NaN        NaN  London   \n",
       "1           541250            184250       NaN        NaN  London   \n",
       "2           540450            171550       NaN        NaN  London   \n",
       "3           538750            180850       NaN        NaN  London   \n",
       "4           517550            181150       NaN        NaN  London   \n",
       "\n",
       "  IncidentStationGround  FirstPumpArriving_AttendanceTime  \\\n",
       "0               Lambeth                             180.0   \n",
       "1              East Ham                             293.0   \n",
       "2               Bromley                             393.0   \n",
       "3                Poplar                             338.0   \n",
       "4                Ealing                             233.0   \n",
       "\n",
       "  FirstPumpArriving_DeployedFromStation  SecondPumpArriving_AttendanceTime  \\\n",
       "0                               Lambeth                              192.0   \n",
       "1                             Stratford                              420.0   \n",
       "2                               Bromley                                NaN   \n",
       "3                              Millwall                              422.0   \n",
       "4                                Ealing                              364.0   \n",
       "\n",
       "  SecondPumpArriving_DeployedFromStation  NumStationsWithPumpsAttending  \\\n",
       "0                                Lambeth                            2.0   \n",
       "1                            Leytonstone                            2.0   \n",
       "2                                    NaN                            1.0   \n",
       "3                               Shadwell                            2.0   \n",
       "4                                  Acton                            2.0   \n",
       "\n",
       "   NumPumpsAttending  PumpCount  PumpHoursRoundUp  Notional Cost (£)  NumCalls  \n",
       "0                3.0        3.0               2.0              692.0       1.0  \n",
       "1                2.0        2.0               1.0              346.0       1.0  \n",
       "2                1.0        1.0               1.0              346.0       2.0  \n",
       "3                2.0        2.0               2.0              692.0       1.0  \n",
       "4                2.0        2.0               2.0              692.0       1.0  "
      ]
     },
     "execution_count": 6,
     "metadata": {},
     "output_type": "execute_result"
    }
   ],
   "source": [
    "df.head(5)"
   ]
  },
  {
   "cell_type": "code",
   "execution_count": 7,
   "id": "ccf5ce5c",
   "metadata": {},
   "outputs": [
    {
     "data": {
      "text/plain": [
       "<azure.storage.blob._blob_client.BlobClient at 0x15cfd7df910>"
      ]
     },
     "execution_count": 7,
     "metadata": {},
     "output_type": "execute_result"
    }
   ],
   "source": [
    "container_client.upload_blob(DATA_PATH,\n",
    "                             df.to_parquet(),\n",
    "                             overwrite=True)"
   ]
  },
  {
   "attachments": {},
   "cell_type": "markdown",
   "id": "d72a63a0",
   "metadata": {},
   "source": [
    "### DateOfCall\n",
    "This feature will be used to extract the month of the call as a new feature, and then the this feature will be dropped."
   ]
  },
  {
   "cell_type": "code",
   "execution_count": 8,
   "id": "914fc27e",
   "metadata": {},
   "outputs": [
    {
     "data": {
      "text/plain": [
       "array(['01 May 2020', '02 May 2020', '03 May 2020', ..., '28 Apr 2023',\n",
       "       '29 Apr 2023', '30 Apr 2023'], dtype=object)"
      ]
     },
     "execution_count": 8,
     "metadata": {},
     "output_type": "execute_result"
    }
   ],
   "source": [
    "df['DateOfCall'].unique()"
   ]
  },
  {
   "cell_type": "code",
   "execution_count": 9,
   "id": "a4cc619e",
   "metadata": {},
   "outputs": [],
   "source": [
    "df = preprocess_date_columns(df, 'DateOfCall')"
   ]
  },
  {
   "cell_type": "code",
   "execution_count": 10,
   "id": "9f84101a",
   "metadata": {},
   "outputs": [
    {
     "data": {
      "text/plain": [
       "0         5\n",
       "1         5\n",
       "2         5\n",
       "3         5\n",
       "4         5\n",
       "         ..\n",
       "340169    4\n",
       "340170    4\n",
       "340171    4\n",
       "340172    4\n",
       "340173    4\n",
       "Name: DateOfCall_Month, Length: 340174, dtype: int64"
      ]
     },
     "execution_count": 10,
     "metadata": {},
     "output_type": "execute_result"
    }
   ],
   "source": [
    "df['DateOfCall_Month']"
   ]
  },
  {
   "attachments": {},
   "cell_type": "markdown",
   "id": "1b63dd20",
   "metadata": {},
   "source": [
    "### CalYear\n",
    "\n",
    "The years 2020, 2021, and 2022 will be used for training. Year 2023 will serve as test data. This feature will be dropped."
   ]
  },
  {
   "cell_type": "code",
   "execution_count": 11,
   "id": "1a552358",
   "metadata": {},
   "outputs": [
    {
     "data": {
      "text/plain": [
       "2022    125390\n",
       "2021    109577\n",
       "2020     67519\n",
       "2023     37688\n",
       "Name: CalYear, dtype: int64"
      ]
     },
     "execution_count": 11,
     "metadata": {},
     "output_type": "execute_result"
    }
   ],
   "source": [
    "df['CalYear'].value_counts()"
   ]
  },
  {
   "attachments": {},
   "cell_type": "markdown",
   "id": "6dc79a81",
   "metadata": {},
   "source": [
    "### TimeOfCall\n",
    "This feature will be used to extract part of the days information as a new feature, and then this feature will be dropped."
   ]
  },
  {
   "cell_type": "code",
   "execution_count": 12,
   "id": "fc581049",
   "metadata": {},
   "outputs": [
    {
     "data": {
      "text/plain": [
       "array(['00:03:18', '00:03:32', '00:05:55', ..., '19:10:50', '20:00:01',\n",
       "       '23:52:17'], dtype=object)"
      ]
     },
     "execution_count": 12,
     "metadata": {},
     "output_type": "execute_result"
    }
   ],
   "source": [
    "df['TimeOfCall'].unique()"
   ]
  },
  {
   "cell_type": "code",
   "execution_count": 13,
   "id": "95495015",
   "metadata": {},
   "outputs": [],
   "source": [
    "df = preprocess_time_columns(df, 'TimeOfCall')"
   ]
  },
  {
   "cell_type": "code",
   "execution_count": 14,
   "id": "ed956bfd",
   "metadata": {},
   "outputs": [
    {
     "data": {
      "text/plain": [
       "Evening      125622\n",
       "Afternoon     92405\n",
       "Morning       80424\n",
       "Night         41723\n",
       "Name: PartOfDay, dtype: int64"
      ]
     },
     "execution_count": 14,
     "metadata": {},
     "output_type": "execute_result"
    }
   ],
   "source": [
    "df['PartOfDay'].value_counts(dropna=False)"
   ]
  },
  {
   "attachments": {},
   "cell_type": "markdown",
   "id": "24b2f500",
   "metadata": {},
   "source": [
    "### HourOfCall"
   ]
  },
  {
   "cell_type": "code",
   "execution_count": 15,
   "id": "d43a0804",
   "metadata": {},
   "outputs": [
    {
     "data": {
      "text/plain": [
       "<Axes: >"
      ]
     },
     "execution_count": 15,
     "metadata": {},
     "output_type": "execute_result"
    },
    {
     "data": {
      "image/png": "[encoded data removed]",
      "text/plain": [
       "<Figure size 640x480 with 1 Axes>"
      ]
     },
     "metadata": {},
     "output_type": "display_data"
    }
   ],
   "source": [
    "df['HourOfCall'].hist(bins=50)"
   ]
  },
  {
   "attachments": {},
   "cell_type": "markdown",
   "id": "3f80b7a6",
   "metadata": {},
   "source": [
    "### IncidentGroup"
   ]
  },
  {
   "cell_type": "code",
   "execution_count": 16,
   "id": "a108fadf",
   "metadata": {},
   "outputs": [
    {
     "data": {
      "text/plain": [
       "array(['False Alarm', 'Special Service', 'Fire'], dtype=object)"
      ]
     },
     "execution_count": 16,
     "metadata": {},
     "output_type": "execute_result"
    }
   ],
   "source": [
    "df['IncidentGroup'].unique()"
   ]
  },
  {
   "cell_type": "code",
   "execution_count": 17,
   "id": "aa5c1f7f",
   "metadata": {},
   "outputs": [
    {
     "data": {
      "text/plain": [
       "<seaborn.axisgrid.FacetGrid at 0x15cda0540a0>"
      ]
     },
     "execution_count": 17,
     "metadata": {},
     "output_type": "execute_result"
    },
    {
     "data": {
      "image/png": "[encoded data removed]",
      "text/plain": [
       "<Figure size 500x500 with 1 Axes>"
      ]
     },
     "metadata": {},
     "output_type": "display_data"
    }
   ],
   "source": [
    "sns.catplot(x='IncidentGroup', kind='count', data=df).set_xticklabels(rotation=40, ha='right')"
   ]
  },
  {
   "attachments": {},
   "cell_type": "markdown",
   "id": "383b4b02",
   "metadata": {},
   "source": [
    "### StopCodeDescription\n",
    "Consider groupping the rare levels."
   ]
  },
  {
   "cell_type": "code",
   "execution_count": 18,
   "id": "73c0cb32",
   "metadata": {},
   "outputs": [
    {
     "data": {
      "text/plain": [
       "array(['False alarm - Good intent', 'Special Service', 'AFA',\n",
       "       'Primary Fire', 'Secondary Fire', 'False alarm - Malicious',\n",
       "       'Flood call attended - Batch mobilised',\n",
       "       'Use of Special Operations Room', 'Chimney Fire', 'Late Call'],\n",
       "      dtype=object)"
      ]
     },
     "execution_count": 18,
     "metadata": {},
     "output_type": "execute_result"
    }
   ],
   "source": [
    "df['StopCodeDescription'].unique()"
   ]
  },
  {
   "cell_type": "code",
   "execution_count": 19,
   "id": "ef8f9a02",
   "metadata": {},
   "outputs": [
    {
     "data": {
      "text/plain": [
       "<seaborn.axisgrid.FacetGrid at 0x15c825cb6a0>"
      ]
     },
     "execution_count": 19,
     "metadata": {},
     "output_type": "execute_result"
    },
    {
     "data": {
      "image/png": "[encoded data removed]",
      "text/plain": [
       "<Figure size 500x500 with 1 Axes>"
      ]
     },
     "metadata": {},
     "output_type": "display_data"
    }
   ],
   "source": [
    "sns.catplot(x='StopCodeDescription', kind='count', data=df).set_xticklabels(rotation=40, ha='right')"
   ]
  },
  {
   "cell_type": "code",
   "execution_count": 20,
   "id": "a62fdeaa",
   "metadata": {},
   "outputs": [
    {
     "data": {
      "text/plain": [
       "AFA                                      0.378377\n",
       "Special Service                          0.357238\n",
       "False alarm - Good intent                0.099728\n",
       "Primary Fire                             0.076249\n",
       "Secondary Fire                           0.073257\n",
       "False alarm - Malicious                  0.008931\n",
       "Flood call attended - Batch mobilised    0.005785\n",
       "Use of Special Operations Room           0.000244\n",
       "Chimney Fire                             0.000135\n",
       "Late Call                                0.000056\n",
       "Name: StopCodeDescription, dtype: float64"
      ]
     },
     "execution_count": 20,
     "metadata": {},
     "output_type": "execute_result"
    }
   ],
   "source": [
    "df['StopCodeDescription'].value_counts()/df.shape[0]"
   ]
  },
  {
   "attachments": {},
   "cell_type": "markdown",
   "id": "15f00d29",
   "metadata": {},
   "source": [
    "### SpecialServiceType\n",
    "This feature will be dropped since NaN values make up to 64% of the cases."
   ]
  },
  {
   "cell_type": "code",
   "execution_count": 21,
   "id": "d9ca2685",
   "metadata": {},
   "outputs": [
    {
     "data": {
      "text/plain": [
       "array([nan, 'Effecting entry/exit', 'Hazardous Materials incident',\n",
       "       'Flooding', 'Animal assistance incidents', 'RTC',\n",
       "       'No action (not false alarm)', 'Other rescue/release of persons',\n",
       "       'Removal of objects from people', 'Lift Release',\n",
       "       'Spills and Leaks (not RTC)', 'Making Safe (not RTC)',\n",
       "       'Suicide/attempts', 'Medical Incident', 'Assist other agencies',\n",
       "       'Advice Only', 'Other Transport incident', 'Stand By',\n",
       "       'Evacuation (no fire)', 'Rescue or evacuation from water',\n",
       "       'Water provision'], dtype=object)"
      ]
     },
     "execution_count": 21,
     "metadata": {},
     "output_type": "execute_result"
    }
   ],
   "source": [
    "df['SpecialServiceType'].unique()"
   ]
  },
  {
   "cell_type": "code",
   "execution_count": 22,
   "id": "cb773660",
   "metadata": {},
   "outputs": [
    {
     "data": {
      "text/plain": [
       "<seaborn.axisgrid.FacetGrid at 0x15cd9f1ad00>"
      ]
     },
     "execution_count": 22,
     "metadata": {},
     "output_type": "execute_result"
    },
    {
     "data": {
      "image/png": "[encoded data removed]",
      "text/plain": [
       "<Figure size 500x500 with 1 Axes>"
      ]
     },
     "metadata": {},
     "output_type": "display_data"
    }
   ],
   "source": [
    "sns.catplot(x='SpecialServiceType', kind='count', data=df).set_xticklabels(rotation=40, ha='right')"
   ]
  },
  {
   "cell_type": "code",
   "execution_count": 23,
   "id": "cce06658",
   "metadata": {},
   "outputs": [
    {
     "data": {
      "text/plain": [
       "NaN                                0.636977\n",
       "Effecting entry/exit               0.083722\n",
       "Flooding                           0.070402\n",
       "Lift Release                       0.047049\n",
       "No action (not false alarm)        0.037707\n",
       "RTC                                0.035676\n",
       "Assist other agencies              0.023041\n",
       "Making Safe (not RTC)              0.010518\n",
       "Hazardous Materials incident       0.008772\n",
       "Medical Incident                   0.008660\n",
       "Animal assistance incidents        0.008231\n",
       "Advice Only                        0.006411\n",
       "Spills and Leaks (not RTC)         0.005444\n",
       "Removal of objects from people     0.005441\n",
       "Other rescue/release of persons    0.003675\n",
       "Suicide/attempts                   0.002754\n",
       "Other Transport incident           0.002369\n",
       "Evacuation (no fire)               0.002037\n",
       "Rescue or evacuation from water    0.000650\n",
       "Stand By                           0.000456\n",
       "Water provision                    0.000006\n",
       "Name: SpecialServiceType, dtype: float64"
      ]
     },
     "execution_count": 23,
     "metadata": {},
     "output_type": "execute_result"
    }
   ],
   "source": [
    "df['SpecialServiceType'].value_counts(dropna=False)/df.shape[0]"
   ]
  },
  {
   "attachments": {},
   "cell_type": "markdown",
   "id": "9691594e",
   "metadata": {},
   "source": [
    "### PropertyCategory\n",
    "Consider groupping the rare levels."
   ]
  },
  {
   "cell_type": "code",
   "execution_count": 24,
   "id": "1c9acab1",
   "metadata": {},
   "outputs": [
    {
     "data": {
      "text/plain": [
       "array(['Dwelling', 'Non Residential', 'Road Vehicle', 'Other Residential',\n",
       "       'Outdoor', 'Outdoor Structure', 'Rail Vehicle', 'Boat', 'Aircraft'],\n",
       "      dtype=object)"
      ]
     },
     "execution_count": 24,
     "metadata": {},
     "output_type": "execute_result"
    }
   ],
   "source": [
    "df['PropertyCategory'].unique()"
   ]
  },
  {
   "cell_type": "code",
   "execution_count": 25,
   "id": "8e7f4919",
   "metadata": {},
   "outputs": [
    {
     "data": {
      "text/plain": [
       "<seaborn.axisgrid.FacetGrid at 0x15caceb78e0>"
      ]
     },
     "execution_count": 25,
     "metadata": {},
     "output_type": "execute_result"
    },
    {
     "data": {
      "image/png": "[encoded data removed]",
      "text/plain": [
       "<Figure size 500x500 with 1 Axes>"
      ]
     },
     "metadata": {},
     "output_type": "display_data"
    }
   ],
   "source": [
    "sns.catplot(x='PropertyCategory', kind='count', data=df).set_xticklabels(rotation=40, ha='right')"
   ]
  },
  {
   "cell_type": "code",
   "execution_count": 26,
   "id": "a955b9fa",
   "metadata": {},
   "outputs": [
    {
     "data": {
      "text/plain": [
       "Dwelling             0.564011\n",
       "Non Residential      0.198925\n",
       "Outdoor              0.079871\n",
       "Road Vehicle         0.061245\n",
       "Other Residential    0.051291\n",
       "Outdoor Structure    0.042878\n",
       "Rail Vehicle         0.000814\n",
       "Boat                 0.000547\n",
       "Aircraft             0.000417\n",
       "Name: PropertyCategory, dtype: float64"
      ]
     },
     "execution_count": 26,
     "metadata": {},
     "output_type": "execute_result"
    }
   ],
   "source": [
    "df['PropertyCategory'].value_counts(dropna=False)/df.shape[0]"
   ]
  },
  {
   "attachments": {},
   "cell_type": "markdown",
   "id": "e2b52447",
   "metadata": {},
   "source": [
    "### PropertyType\n",
    "Consider groupping the rare levels."
   ]
  },
  {
   "cell_type": "code",
   "execution_count": 27,
   "id": "753ff34f",
   "metadata": {},
   "outputs": [
    {
     "data": {
      "text/plain": [
       "array(['Self contained Sheltered Housing ', 'House - single occupancy ',\n",
       "       'Purpose Built Flats/Maisonettes - 10 or more storeys ',\n",
       "       'Warehouse ', 'Purpose Built Flats/Maisonettes - Up to 3 storeys ',\n",
       "       'Converted Flat/Maisonette - Up to 2 storeys ',\n",
       "       'Purpose built office ',\n",
       "       'Purpose Built Flats/Maisonettes - 4 to 9 storeys ',\n",
       "       'College/University ', 'Shopping Centre ', 'Car ', 'Van ',\n",
       "       'Leisure Centre ', 'Doctors surgery',\n",
       "       'Hostel (e.g. for homeless people) ',\n",
       "       'Bungalow - single occupancy ',\n",
       "       'Domestic garden (vegetation not equipment) ', 'Restaurant/cafe',\n",
       "       'Other Residential Home ', 'Library ', 'Pub/wine bar/bar ',\n",
       "       'Single shop ', 'Lorry/HGV ', 'Converted office ',\n",
       "       'Licensed House in Multiple Occupation - 3 or more storeys ',\n",
       "       'Converted Flat/Maisonettes - 3 or more storeys',\n",
       "       'Nursing/Care Home/Hospice', 'Motorcycle ',\n",
       "       'Retirement/Old Persons Home', 'Infant/Primary school',\n",
       "       'Police station ', 'Pipe or drain ', 'Bridge',\n",
       "       'Common external bin storage area', 'Call Centre ',\n",
       "       'Multiple Vehicles ', 'Garden equipment ',\n",
       "       'Other outdoor location ', 'Hospital ',\n",
       "       'Student Hall of Residence ',\n",
       "       'Sports pavilion/shower block/changing facility ',\n",
       "       'Boarding House/B&B for homeless/asylum seekers ',\n",
       "       'Refuse/rubbish tip ', 'Road surface/pavement ',\n",
       "       'Airport building (not terminal or hangar) ', 'Cinema ',\n",
       "       'Loose refuse ', 'Tree scrub ', 'Large supermarket ',\n",
       "       'False Alarm - Property not found', 'Airport - terminal ',\n",
       "       'Other medical establishment (including surgery) ',\n",
       "       'Recycling plant', 'Food and drink processing',\n",
       "       'Medical/health centre', 'Private garage ', 'Fire station ',\n",
       "       'Small refuse/rubbish container', 'Scrub land ',\n",
       "       'Other office/call centre type building', 'Lake/pond/reservoir ',\n",
       "       'Other outdoor structures ', 'Secondary school', 'DIY Warehouse ',\n",
       "       'Large refuse/rubbish container (eg skip/ paladin)',\n",
       "       'Cycle path/public footpath/bridleway ', 'Landfill site ', 'Park ',\n",
       "       'Private Garden Shed ', 'Hedge', 'Dental surgery',\n",
       "       'Club/night club ',\n",
       "       'Unlicensed House in Multiple Occupation - Up to 2 storeys ',\n",
       "       'Takeaway/ fast food ', 'Football stadium ', 'Department Store ',\n",
       "       'Other building/use not known ', 'Train station - elsewhere ',\n",
       "       'Playground/Recreation area (not equipment)', 'Cables ',\n",
       "       'Wasteland ', 'TV/film/music/art studio ',\n",
       "       'Other retail warehouse ', 'Factory ', 'Bingo Hall ',\n",
       "       'Outdoor storage ', 'Law Courts ', 'Other bulk storage',\n",
       "       'Licensed House in Multiple Occupation - Up to 2 storeys ',\n",
       "       'Other private non-residential building ',\n",
       "       'Towing caravan (not on tow or on site)', 'Gym ',\n",
       "       'Passenger Train (national rail network) ', 'Hotel/motel ',\n",
       "       'Pre School/nursery ', 'Fence', 'Community centre/Hall ',\n",
       "       'Stately Home (part not open to public)', 'Theatre ',\n",
       "       'Private Summer house ', 'Engineering manufacturing plant',\n",
       "       'Prison ', 'Roadside vegetation ',\n",
       "       'Train station - platform (at ground level or elevated) ',\n",
       "       'Estate Agent ', \"Nurses'/Doctors' accommodation \",\n",
       "       'Animal products processing plant',\n",
       "       'Roadside furniture (eg lamp posts/ road signs/ telegraph poles/ speed cameras)',\n",
       "       'Other industrial manufacturing facility', 'Youth hostel ',\n",
       "       'Casino ', 'Furniture warehouse ', 'Barge ',\n",
       "       'Woodland/forest - conifers/softwood ', 'Barbecue',\n",
       "       'Electrical warehouse ',\n",
       "       'House in Multiple Occupation - 3 or more storeys (not known if licensed)',\n",
       "       'Wheelie bin (domestic size)', 'Sports/Social club ',\n",
       "       'Church/Chapel ', 'Train station - platform (below ground) ',\n",
       "       'Nurseries/ market garden ', 'Bus/coach ',\n",
       "       'Recycling collection point/ bottle bank',\n",
       "       'Royal Palace (part not open to public)',\n",
       "       'Vehicle Repair Workshop', 'Telephone exchange', 'Motor Home ',\n",
       "       'Bus/coach station/garage ', 'Multi-Storey car park', 'Bicycle',\n",
       "       'Railings', 'River/canal ', 'Public toilets ',\n",
       "       'House in Multiple Occupation - Up to 2 storeys (not known if licensed) ',\n",
       "       'Museum ', 'Animal harm outdoors',\n",
       "       'Other outdoor equipment/machinery ',\n",
       "       'Railway trackside vegetation ',\n",
       "       'Grassland/ pasture/ grazing etc ', 'Bulk waste storage',\n",
       "       'Woodland/forest - broadleaf/hardwood ', 'Day care/Drop in centre',\n",
       "       'Manufacturing assembly plant', 'Petrol station ',\n",
       "       'Other entertainment venue ', 'Other car park structure',\n",
       "       'Other retail  ',\n",
       "       'Unlicensed House in Multiple Occupation - 3 or more storeys ',\n",
       "       'Canal/riverbank vegetation ', 'Central Government Office',\n",
       "       'Heathland ', 'Bank/Building Society ', 'Local Government Office',\n",
       "       'Towing caravan/Camper van on site', 'Railway building - other',\n",
       "       'Railway ', 'Bakery', 'Other education establishment',\n",
       "       'Golf clubhouse', 'Health Centre ', 'Chemical plant',\n",
       "       'Art Gallery ', 'Golf course (not building on course)',\n",
       "       'Other public building ', 'Camping tent ',\n",
       "       'Train station - concourse ', 'Sports Hall ', 'Other road vehicle',\n",
       "       'Boarding House/B&B other ', 'Other agricultural building ',\n",
       "       'Bulk oil storage', 'Human harm outdoors', \"Children's Home\",\n",
       "       'Straw/stubble burning ', 'Mine or quarry building above ground',\n",
       "       'Beach ', 'Train on Tube network', 'Other outdoor sporting venue ',\n",
       "       'Water works ', 'Standing crop ', 'Electricity power station ',\n",
       "       'Laboratory/research Establishment ', 'Swimming Pool ',\n",
       "       'Underground car park', 'Caravan/Mobile home (permanent dwelling)',\n",
       "       'Other animal boarding/breeding establishment', 'Cemetery ',\n",
       "       'Other Dwelling ', 'Veterinary surgery', 'Printing works',\n",
       "       'Motor yacht ', 'Concert Hall ', 'Stacked/baled crop ',\n",
       "       'Tennis Courts ', 'Vehicle sales building',\n",
       "       'Animal boarding/breeding establishment - cats', 'Laundrette ',\n",
       "       'Temporary office (eg portacabin) ', 'Telephone box ',\n",
       "       'Post office (within other shop/premises) ', 'Synagogue ',\n",
       "       'Underground train : Other system ', 'Sewage works ',\n",
       "       'Other public utility works', 'Road Tanker ',\n",
       "       'Railway goods yard ', 'Hairdresser ', 'Conference Centre ',\n",
       "       'Agricultural vehicle', 'Athletics Stadium ',\n",
       "       'Other transport building ', 'Tunnel/ subway ',\n",
       "       'Other tent/marquee ', 'Other indoor sporting venue ',\n",
       "       'Other Religious Use Building', 'Post office (purpose built) ',\n",
       "       'Gas works ', 'Town Hall ',\n",
       "       'Trailer (not attached to tractor unit)', 'Airport - hangar ',\n",
       "       'Airport - fuel storage ', 'Other vessel ', 'Exhibition Centre ',\n",
       "       'Other cultural venue ', 'Post box ', 'Ambulance station ',\n",
       "       'Shelter ', 'Indoor stadium ', 'Greyhound stadium ', 'Cathedral ',\n",
       "       'Houseboat (permanent dwelling) ', 'Monastery/convent ',\n",
       "       'Military/barracks ', 'Young offenders unit ', 'Distillery plant',\n",
       "       'Other industrial processing plant', 'Indoor Market ', 'Zoo ',\n",
       "       'Other holiday residence (cottage/ flat/ chalet) ', 'Mosque ',\n",
       "       'Cricket ground ', 'Large passenger vessel ', 'Passenger plane ',\n",
       "       'Tractor Shed ', 'Ferry terminal ', 'Agricultural equipment ',\n",
       "       'Intensive Farming Sheds (chickens/ pigs etc) ', 'Light aircraft ',\n",
       "       'Health spa/farm', 'Other aircraft', 'Ice rink ',\n",
       "       'Ministry of Defence office', 'Temple ', 'Bulk gas storage',\n",
       "       'Rugby Stadium ', 'Barn ', 'Airfield/runway ', 'Kiosk ',\n",
       "       'Animal boarding/breeding establishment - dogs', 'Travel Agent ',\n",
       "       'Boarding School accommodation ', 'Tram ', 'Freight plane ',\n",
       "       'Mill ', 'Minibus ', 'Freight Train ', 'Private greenhouse ',\n",
       "       'Oil refinery ', 'Other merchant vessel ', 'Caravan on tow ',\n",
       "       'Trains - engine shed ', 'Bulk hazardous materials storage',\n",
       "       'Docks ', 'Helicopter ', 'Fishing boat ', 'Sea ', 'Theme Park ',\n",
       "       'Castle (part not open to public)', 'Racecourse ',\n",
       "       'Greenhouse (commercial) glass ', 'Boat - Tanker',\n",
       "       'Mine or quarry (not above ground building)', 'Military plane ',\n",
       "       'Greenhouse (commercial) polytunnel '], dtype=object)"
      ]
     },
     "execution_count": 27,
     "metadata": {},
     "output_type": "execute_result"
    }
   ],
   "source": [
    "df['PropertyType'].unique()"
   ]
  },
  {
   "cell_type": "code",
   "execution_count": 28,
   "id": "cb5e022e",
   "metadata": {},
   "outputs": [
    {
     "data": {
      "text/plain": [
       "Purpose Built Flats/Maisonettes - 4 to 9 storeys      0.152055\n",
       "House - single occupancy                              0.121573\n",
       "Purpose Built Flats/Maisonettes - Up to 3 storeys     0.113189\n",
       "Self contained Sheltered Housing                      0.047549\n",
       "Converted Flat/Maisonettes - 3 or more storeys        0.041311\n",
       "                                                        ...   \n",
       "Greenhouse (commercial) glass                         0.000003\n",
       "Boat - Tanker                                         0.000003\n",
       "Mine or quarry (not above ground building)            0.000003\n",
       "Military plane                                        0.000003\n",
       "Greenhouse (commercial) polytunnel                    0.000003\n",
       "Name: PropertyType, Length: 285, dtype: float64"
      ]
     },
     "execution_count": 28,
     "metadata": {},
     "output_type": "execute_result"
    }
   ],
   "source": [
    "df['PropertyType'].value_counts(dropna=False)/df.shape[0]"
   ]
  },
  {
   "attachments": {},
   "cell_type": "markdown",
   "id": "a2f1ba33",
   "metadata": {},
   "source": [
    "### AddressQualifier\n",
    "Consider grouping the rare levels."
   ]
  },
  {
   "cell_type": "code",
   "execution_count": 29,
   "id": "109a789c",
   "metadata": {},
   "outputs": [
    {
     "data": {
      "text/plain": [
       "array(['Within same building', 'Correct incident location',\n",
       "       'In street outside gazetteer location',\n",
       "       'On motorway / elevated road', 'On land associated with building',\n",
       "       'Nearby address - no building in street',\n",
       "       'In street close to gazetteer location',\n",
       "       'Open land/water - nearest gazetteer location',\n",
       "       'Nearby address - street not listed in gazetteer',\n",
       "       'In street remote from gazetteer location',\n",
       "       'Railway land or rolling stock'], dtype=object)"
      ]
     },
     "execution_count": 29,
     "metadata": {},
     "output_type": "execute_result"
    }
   ],
   "source": [
    "df['AddressQualifier'].unique()"
   ]
  },
  {
   "cell_type": "code",
   "execution_count": 30,
   "id": "dfac1c3d",
   "metadata": {},
   "outputs": [
    {
     "data": {
      "text/plain": [
       "Correct incident location                          0.586294\n",
       "Within same building                               0.227795\n",
       "On land associated with building                   0.061469\n",
       "In street outside gazetteer location               0.060607\n",
       "In street close to gazetteer location              0.026266\n",
       "Open land/water - nearest gazetteer location       0.024091\n",
       "Nearby address - street not listed in gazetteer    0.003581\n",
       "Nearby address - no building in street             0.003163\n",
       "On motorway / elevated road                        0.002996\n",
       "In street remote from gazetteer location           0.002208\n",
       "Railway land or rolling stock                      0.001532\n",
       "Name: AddressQualifier, dtype: float64"
      ]
     },
     "execution_count": 30,
     "metadata": {},
     "output_type": "execute_result"
    }
   ],
   "source": [
    "df['AddressQualifier'].value_counts(dropna=False)/df.shape[0]"
   ]
  },
  {
   "attachments": {},
   "cell_type": "markdown",
   "id": "598b22f0",
   "metadata": {},
   "source": [
    "### Postcode_full\n",
    "This feature will be dropped."
   ]
  },
  {
   "cell_type": "code",
   "execution_count": 31,
   "id": "6f8a6b88",
   "metadata": {},
   "outputs": [
    {
     "data": {
      "text/plain": [
       "array([nan, 'CR0 4RR', 'DA15 7DG', ..., 'W3 7JE', 'DA5 3BE', 'NW3 2HX'],\n",
       "      dtype=object)"
      ]
     },
     "execution_count": 31,
     "metadata": {},
     "output_type": "execute_result"
    }
   ],
   "source": [
    "df['Postcode_full'].unique()"
   ]
  },
  {
   "attachments": {},
   "cell_type": "markdown",
   "id": "c91e43de",
   "metadata": {},
   "source": [
    "### Postcode_district\n",
    "This feature will be dropped."
   ]
  },
  {
   "cell_type": "code",
   "execution_count": 32,
   "id": "d869e63a",
   "metadata": {},
   "outputs": [
    {
     "data": {
      "text/plain": [
       "array(['SE11', 'E7', 'BR1', 'E14', 'W5', 'CR0', 'N16', 'BR2', 'N18', 'N4',\n",
       "       'DA15', 'NW1', 'DA18', 'SW15', 'E9', 'IG11', 'BR6', 'W12', 'E13',\n",
       "       'TW9', 'N1', 'E6', 'EN2', 'W11', 'IG4', 'TW5', 'W9', 'SE8', 'E5',\n",
       "       'NW3', 'SW16', 'SE10', 'W14', 'SW19', 'HA9', 'SW18', 'N14', 'SM1',\n",
       "       'SW1W', 'SE12', 'NW10', 'SE1', 'WC1B', 'SE27', 'TW8', 'NW7',\n",
       "       'EC1M', 'E16', 'RM13', 'SW2', 'NW9', 'W13', 'DA1', 'E15', 'EC3V',\n",
       "       'RM11', 'EN1', 'W1S', 'UB6', 'DA7', 'CR7', 'CR5', 'TW14', 'N22',\n",
       "       'RM3', 'W10', 'SW4', 'SE15', 'N20', 'NW6', 'SW7', 'W3', 'KT2',\n",
       "       'EC2Y', 'EC2A', 'DA16', 'NW2', 'SW1X', 'SE5', 'EN5', 'HA5', 'EC1V',\n",
       "       'E4', 'HA0', 'IG8', 'SW1Y', 'WC1E', 'SE17', 'E1', 'E12', 'EC1N',\n",
       "       'UB3', 'HA4', 'UB8', 'N2', 'N19', 'KT3', 'E2', 'N13', 'NW4', 'TW2',\n",
       "       'TW13', 'W2', 'E8', 'TW1', 'SE18', 'SE2', 'SW9', 'SW17', 'E3',\n",
       "       'NW8', 'SW3', 'TW6', 'N12', 'SE26', 'W8', 'UB4', 'E11', 'TW10',\n",
       "       'UB10', 'E18', 'RM6', 'SE25', 'W4', 'DA14', 'UB2', 'WC2R', 'SE13',\n",
       "       'SE6', 'N3', 'WC2B', 'KT1', 'EN3', 'SW1V', 'BR3', 'W1G', 'SE23',\n",
       "       'TW4', 'E17', 'N8', 'HA3', 'N5', 'N17', 'SE9', 'HA1', 'SE4', 'TW7',\n",
       "       'SE16', 'SE21', 'CR8', 'EN8', 'CR2', 'RM10', 'UB7', 'IG3', 'SW11',\n",
       "       'IG6', 'SW13', 'BR5', 'N11', 'SW12', 'N9', 'BR4', 'RM9', 'E10',\n",
       "       'SW6', 'DA8', 'BR7', 'UB1', 'IG1', 'TW3', 'SM5', 'KT9', 'EC1R',\n",
       "       'IG5', 'RM1', 'UB5', 'CR4', 'N10', 'HA7', 'WC1X', 'SW8', 'SM2',\n",
       "       'W7', 'EN4', 'N7', 'WC2N', 'W6', 'W1C', 'SE19', 'W1U', 'HA8',\n",
       "       'SW1A', 'W1B', 'SW10', 'SW20', 'RM8', 'SE24', 'NW5', 'WC1H',\n",
       "       'WC1N', 'W1K', 'SW1H', 'SE14', 'SE28', 'WC1V', 'DA17', 'W1D',\n",
       "       'SW5', 'N15', 'N21', 'IG2', 'SE20', 'TN16', 'DA5', 'RM14', 'N1C',\n",
       "       'NW11', 'DA6', 'WC2H', 'HA2', 'SE22', 'SM4', 'W1T', 'EC2M', 'HA6',\n",
       "       'EC4V', 'E1W', 'RM5', 'EC4A', 'RM7', 'E20', 'TW12', 'KT5', 'EC4R',\n",
       "       'EC2N', 'RM2', 'RM4', 'W1F', 'WC2E', 'SE7', 'TW11', 'SM7', 'SW1P',\n",
       "       'SM6', 'EC3A', 'SE3', 'KT6', 'SW14', 'W1H', 'UB9', 'N6', 'W1J',\n",
       "       'RM12', 'IG7', 'KT4', 'SM3', 'W1W', 'EC3R', 'TW15', 'EC4N', 'KT8',\n",
       "       'EC3N', 'EC2R', 'EC3M', 'EC1Y', 'KT22', 'WD6', 'BR8', 'TN14',\n",
       "       'CM13', 'EC4Y', 'WD3', 'EC3P', 'WC1R', 'EC1A', 'CR9', 'EC4M',\n",
       "       'SW1E', 'KT19', 'EC2V', 'WC1A', 'UB11', 'SL3', 'WC2A', 'TW19',\n",
       "       'EN6', 'IG9', 'W1A', 'CM14', 'EC2P', 'CR3', 'EN7', 'CR6', 'KT17',\n",
       "       'WD23', 'TW16', 'RM15', 'RM19', 'SL0', 'EN9', 'BF1', 'KT18', 'OX9'],\n",
       "      dtype=object)"
      ]
     },
     "execution_count": 32,
     "metadata": {},
     "output_type": "execute_result"
    }
   ],
   "source": [
    "df['Postcode_district'].unique()"
   ]
  },
  {
   "attachments": {},
   "cell_type": "markdown",
   "id": "33d08322",
   "metadata": {},
   "source": [
    "### UPRN\n",
    "This feature will be dropped."
   ]
  },
  {
   "cell_type": "code",
   "execution_count": 33,
   "id": "9d805dbb",
   "metadata": {},
   "outputs": [
    {
     "data": {
      "text/plain": [
       "array([           0, 100022905329, 100022919470, ..., 100022730133,\n",
       "            5030035,  10094942504], dtype=int64)"
      ]
     },
     "execution_count": 33,
     "metadata": {},
     "output_type": "execute_result"
    }
   ],
   "source": [
    "df['UPRN'].unique()"
   ]
  },
  {
   "attachments": {},
   "cell_type": "markdown",
   "id": "447c47cc",
   "metadata": {},
   "source": [
    "### USRN\n",
    "This feature will be dropped"
   ]
  },
  {
   "cell_type": "code",
   "execution_count": 34,
   "id": "37c4be78",
   "metadata": {},
   "outputs": [
    {
     "data": {
      "text/plain": [
       "array([22500349, 22207988, 20301711, ..., 22605958, 20301000, 20600081],\n",
       "      dtype=int64)"
      ]
     },
     "execution_count": 34,
     "metadata": {},
     "output_type": "execute_result"
    }
   ],
   "source": [
    "df['USRN'].unique()"
   ]
  },
  {
   "attachments": {},
   "cell_type": "markdown",
   "id": "eb5a13a5",
   "metadata": {},
   "source": [
    "### IncGeo_BoroughName\n",
    "This feature will be dropped (same as ProperCase)."
   ]
  },
  {
   "cell_type": "code",
   "execution_count": 35,
   "id": "29154e5c",
   "metadata": {},
   "outputs": [
    {
     "data": {
      "text/plain": [
       "array(['SOUTHWARK', 'NEWHAM', 'BROMLEY', 'TOWER HAMLETS', 'EALING',\n",
       "       'CROYDON', 'HACKNEY', 'ENFIELD', 'HARINGEY', 'BEXLEY', 'CAMDEN',\n",
       "       'WANDSWORTH', 'BARKING AND DAGENHAM', 'HAMMERSMITH AND FULHAM',\n",
       "       'RICHMOND UPON THAMES', 'ISLINGTON', 'KENSINGTON AND CHELSEA',\n",
       "       'REDBRIDGE', 'HOUNSLOW', 'WESTMINSTER', 'LEWISHAM', 'LAMBETH',\n",
       "       'GREENWICH', 'MERTON', 'BRENT', 'SUTTON', 'BARNET', 'HAVERING',\n",
       "       'CITY OF LONDON', 'KINGSTON UPON THAMES', 'HARROW',\n",
       "       'WALTHAM FOREST', 'HILLINGDON'], dtype=object)"
      ]
     },
     "execution_count": 35,
     "metadata": {},
     "output_type": "execute_result"
    }
   ],
   "source": [
    "df['IncGeo_BoroughName'].unique()"
   ]
  },
  {
   "attachments": {},
   "cell_type": "markdown",
   "id": "fab80663",
   "metadata": {},
   "source": [
    "### ProperCase"
   ]
  },
  {
   "cell_type": "code",
   "execution_count": 36,
   "id": "edeb6529",
   "metadata": {},
   "outputs": [
    {
     "data": {
      "text/plain": [
       "array(['Southwark', 'Newham', 'Bromley', 'Tower Hamlets', 'Ealing',\n",
       "       'Croydon', 'Hackney', 'Enfield', 'Haringey', 'Bexley', 'Camden',\n",
       "       'Wandsworth', 'Barking And dagenham', 'Hammersmith And fulham',\n",
       "       'Richmond Upon thames', 'Islington', 'Kensington And chelsea',\n",
       "       'Redbridge', 'Hounslow', 'Westminster', 'Lewisham', 'Lambeth',\n",
       "       'Greenwich', 'Merton', 'Brent', 'Sutton', 'Barnet', 'Havering',\n",
       "       'City Of london', 'Kingston Upon thames', 'Harrow',\n",
       "       'Waltham Forest', 'Hillingdon'], dtype=object)"
      ]
     },
     "execution_count": 36,
     "metadata": {},
     "output_type": "execute_result"
    }
   ],
   "source": [
    "df['ProperCase'].unique()"
   ]
  },
  {
   "cell_type": "code",
   "execution_count": 37,
   "id": "ca391795",
   "metadata": {},
   "outputs": [
    {
     "data": {
      "text/plain": [
       "<seaborn.axisgrid.FacetGrid at 0x15cb6c83e80>"
      ]
     },
     "execution_count": 37,
     "metadata": {},
     "output_type": "execute_result"
    },
    {
     "data": {
      "image/png": "[encoded data removed]",
      "text/plain": [
       "<Figure size 500x500 with 1 Axes>"
      ]
     },
     "metadata": {},
     "output_type": "display_data"
    }
   ],
   "source": [
    "sns.catplot(x='ProperCase', kind='count', data=df).set_xticklabels(rotation=40, ha='right')"
   ]
  },
  {
   "cell_type": "code",
   "execution_count": 38,
   "id": "6d206229",
   "metadata": {},
   "outputs": [
    {
     "data": {
      "text/plain": [
       "Westminster               0.069491\n",
       "Camden                    0.043281\n",
       "Tower Hamlets             0.042799\n",
       "Southwark                 0.042781\n",
       "Lambeth                   0.042602\n",
       "Croydon                   0.042502\n",
       "Hackney                   0.039721\n",
       "Barnet                    0.035693\n",
       "Lewisham                  0.035535\n",
       "Ealing                    0.034291\n",
       "Kensington And chelsea    0.033600\n",
       "Newham                    0.033021\n",
       "Islington                 0.032992\n",
       "Brent                     0.031663\n",
       "Hillingdon                0.031125\n",
       "Enfield                   0.030972\n",
       "Wandsworth                0.030696\n",
       "Greenwich                 0.030411\n",
       "Haringey                  0.030114\n",
       "Bromley                   0.028732\n",
       "Hammersmith And fulham    0.028691\n",
       "Waltham Forest            0.027215\n",
       "Hounslow                  0.027098\n",
       "Redbridge                 0.023068\n",
       "Havering                  0.022427\n",
       "Bexley                    0.020998\n",
       "Barking And dagenham      0.019140\n",
       "Sutton                    0.017609\n",
       "Harrow                    0.017097\n",
       "Merton                    0.016903\n",
       "Richmond Upon thames      0.016292\n",
       "Kingston Upon thames      0.012743\n",
       "City Of london            0.008696\n",
       "Name: ProperCase, dtype: float64"
      ]
     },
     "execution_count": 38,
     "metadata": {},
     "output_type": "execute_result"
    }
   ],
   "source": [
    "df['ProperCase'].value_counts(dropna=False)/df.shape[0]"
   ]
  },
  {
   "attachments": {},
   "cell_type": "markdown",
   "id": "690822b8",
   "metadata": {},
   "source": [
    "### IncGeo_WardCode\n",
    "This feature will be dropped."
   ]
  },
  {
   "cell_type": "code",
   "execution_count": 39,
   "id": "9e423720",
   "metadata": {},
   "outputs": [
    {
     "data": {
      "text/plain": [
       "array(['E05011114', 'E05013913', 'E05014004', 'E05009318', 'E05013520',\n",
       "       'E05011487', 'E05009373', 'E05013991', 'E05013679', 'E05013600',\n",
       "       'E05011230', 'E05013668', 'E05011232', 'E05014017', 'E05009374',\n",
       "       'E05014061', 'E05013997', 'E05013737', 'E05013905', 'E05013786',\n",
       "       'E05013709', 'E05013693', 'E05009392', 'E05011255', 'E05013617',\n",
       "       'E05013800', 'E05013719', 'E05009383', 'E05013652', 'E05014112',\n",
       "       'E05014076', 'E05013734', 'E05013820', 'E05013497', 'E05014026',\n",
       "       'E05013692', 'E05013765', 'E05013797', 'E05014084', 'E05013509',\n",
       "       'E05011095', 'E05013653', 'E05014106', 'E05013608', 'E05013630',\n",
       "       'E05013662', 'E05013907', 'E05013979', 'E05013919', 'E05014113',\n",
       "       'E05013649', 'E05013541', 'E05011222', 'E05013917', 'E05009301',\n",
       "       'E05013982', 'E05013677', 'E05013808', 'E05014066', 'E05013534',\n",
       "       'E05013753', 'E05011217', 'E05011486', 'E05013720', 'E05011474',\n",
       "       'E05013613', 'E05009399', 'E05013603', 'E05013971', 'E05013507',\n",
       "       'E05013804', 'E05014102', 'E05011108', 'E05013650', 'E05009393',\n",
       "       'E05013522', 'E05013932', 'E05013536', 'E05009288', 'E05013676',\n",
       "       'E05009377', 'E05014109', 'E05011226', 'E05013500', 'E05011096',\n",
       "       'E05011483', 'E05011464', 'E05013682', 'E05009397', 'E05011106',\n",
       "       'E05013812', 'E05013628', 'E05013556', 'E05013699', 'E05009385',\n",
       "       'E05013975', 'E05013885', 'E05011479', 'E05013505', 'E05013890',\n",
       "       'E05009376', 'E05013806', 'E05011107', 'E05009334', 'E05013915',\n",
       "       'E05014060', 'E05013576', 'E05013567', 'E05013566', 'E05009394',\n",
       "       'E05013636', 'E05013707', 'E05013658', 'E05013940', 'E05011463',\n",
       "       'E05009335', 'E05013735', 'E05013688', 'E05013754', 'E05013643',\n",
       "       'E05009336', 'E05013790', 'E05013605', 'E05013614', 'E05013793',\n",
       "       'E05014105', 'E05013616', 'E05009372', 'E05013670', 'E05013789',\n",
       "       'E05014001', 'E05014094', 'E05011233', 'E05014096', 'E05009375',\n",
       "       'E05014025', 'E05013503', 'E05009331', 'E05009327', 'E05013792',\n",
       "       'E05013990', 'E05009403', 'E05013669', 'E05013886', 'E05013570',\n",
       "       'E05013651', 'E05013722', 'E05009401', 'E05011098', 'E05009390',\n",
       "       'E05009378', 'E05013924', 'E05013525', 'E05014024', 'E05013564',\n",
       "       'E05009389', 'E05013897', 'E05009323', 'E05013777', 'E05013579',\n",
       "       'E05011238', 'E05013934', 'E05011251', 'E05013794', 'E05011485',\n",
       "       'E05013611', 'E05013708', 'E05013582', 'E05011229', 'E05013661',\n",
       "       'E05013533', 'E05013508', 'E05009380', 'E05013538', 'E05009317',\n",
       "       'E05009319', 'E05013725', 'E05013717', 'E05013648', 'E05013716',\n",
       "       'E05013714', 'E05011482', 'E05013626', 'E05013938', 'E05014095',\n",
       "       'E05013923', 'E05013645', 'E05009405', 'E05013689', 'E05013807',\n",
       "       'E05013999', 'E05013796', 'E05013801', 'E05013729', 'E05013721',\n",
       "       'E05013901', 'E05011489', 'E05013781', 'E05013903', 'E05011113',\n",
       "       'E05013795', 'E05013766', 'E05011109', 'E05013593', 'E05013562',\n",
       "       'E05013973', 'E05013704', 'E05009333', 'E05014021', 'E05014079',\n",
       "       'E05014085', 'E05014092', 'E05013553', 'E05013517', 'E05013587',\n",
       "       'E05013540', 'E05013902', 'E05009388', 'E05013498', 'E05013939',\n",
       "       'E05014055', 'E05011117', 'E05011101', 'E05013665', 'E05011476',\n",
       "       'E05013675', 'E05013718', 'E05013633', 'E05011477', 'E05013825',\n",
       "       'E05013799', 'E05013724', 'E05014054', 'E05013581', 'E05013524',\n",
       "       'E05013618', 'E05013809', 'E05013595', 'E05014081', 'E05014078',\n",
       "       'E05013710', 'E05011244', 'E05013914', 'E05013762', 'E05009382',\n",
       "       'E05011110', 'E05014010', 'E05013596', 'E05011242', 'E05013774',\n",
       "       'E05014118', 'E05014006', 'E05013686', 'E05013644', 'E05014009',\n",
       "       'E05014008', 'E05013667', 'E05011468', 'E05013694', 'E05009332',\n",
       "       'E05013680', 'E05013894', 'E05014065', 'E05013590', 'E05014013',\n",
       "       'E05013896', 'E05013749', 'E05011231', 'E05013610', 'E05013988',\n",
       "       'E05013684', 'E05013577', 'E05013539', 'E05011246', 'E05014110',\n",
       "       'E05014027', 'E05013931', 'E05011227', 'E05013624', 'E05013703',\n",
       "       'E05013612', 'E05009371', 'E05013702', 'E05013892', 'E05013711',\n",
       "       'E05011239', 'E05013981', 'E05013531', 'E05013813', 'E05014117',\n",
       "       'E05013639', 'E05013615', 'E05014086', 'E05013594', 'E05011469',\n",
       "       'E05011488', 'E05011465', 'E05009328', 'E05013580', 'E05013551',\n",
       "       'E05014070', 'E05009322', 'E05009384', 'E05013705', 'E05014108',\n",
       "       'E05013726', 'E05013730', 'E05013673', 'E05013723', 'E05011225',\n",
       "       'E05013585', 'E05013755', 'E05013937', 'E05013535', 'E05013635',\n",
       "       'E05013893', 'E05013504', 'E05013782', 'E05013712', 'E05013898',\n",
       "       'E05011252', 'E05013909', 'E05011241', 'E05011102', 'E05013671',\n",
       "       'E05013687', 'E05013609', 'E05013740', 'E05014018', 'E05013502',\n",
       "       'E05014114', 'E05014103', 'E05013736', 'E05013742', 'E05013545',\n",
       "       'E05013912', 'E05013750', 'E05014088', 'E05013888', 'E05013827',\n",
       "       'E05014063', 'E05014007', 'E05014101', 'E05011100', 'E05011245',\n",
       "       'E05013655', 'E05014093', 'E05013805', 'E05013663', 'E05013780',\n",
       "       'E05013768', 'E05011105', 'E05014097', 'E05011471', 'E05011112',\n",
       "       'E05014072', 'E05013584', 'E05013685', 'E05013700', 'E05013935',\n",
       "       'E05014100', 'E05014071', 'E05009321', 'E05013761', 'E05014012',\n",
       "       'E05011466', 'E05013501', 'E05011253', 'E05014022', 'E05013731',\n",
       "       'E05013519', 'E05009329', 'E05014020', 'E05011115', 'E05011219',\n",
       "       'E05009398', 'E05013516', 'E05013674', 'E05013510', 'E05013802',\n",
       "       'E05013732', 'E05013823', 'E05013784', 'E05014087', 'E05013560',\n",
       "       'E05014115', 'E05009368', 'E05013882', 'E05014091', 'E05009325',\n",
       "       'E05013521', 'E05013569', 'E05014058', 'E05011234', 'E05014019',\n",
       "       'E05013728', 'E05013987', 'E05013930', 'E05011224', 'E05009387',\n",
       "       'E05011218', 'E05013586', 'E05013637', 'E05013571', 'E05013588',\n",
       "       'E05013638', 'E05009320', 'E05013992', 'E05013983', 'E05013656',\n",
       "       'E05009395', 'E05011111', 'E05014064', 'E05013591', 'E05014029',\n",
       "       'E05013597', 'E05014011', 'E05013745', 'E05013678', 'E05014003',\n",
       "       'E05014098', 'E05013933', 'E05013696', 'E05011250', 'E05013995',\n",
       "       'E05013769', 'E05013625', 'E05013989', 'E05013908', 'E05014069',\n",
       "       'E05013690', 'E05013527', 'E05013640', 'E05013816', 'E05013751',\n",
       "       'E05013916', 'E05013621', 'E05009400', 'E05014030', 'E05009402',\n",
       "       'E05011248', 'E05013548', 'E05013666', 'E05013620', 'E05013642',\n",
       "       'E05013969', 'E05013911', 'E05013583', 'E05013925', 'E05013748',\n",
       "       'E05013554', 'E05013810', 'E05013604', 'E05011097', 'E05009396',\n",
       "       'E05013727', 'E05013550', 'E05013513', 'E05013701', 'E05013747',\n",
       "       'E05013528', 'E05013819', 'E05013920', 'E05011220', 'E05013514',\n",
       "       'E05013918', 'E05013910', 'E05013798', 'E05013822', 'E05009292',\n",
       "       'E05009367', 'E05013631', 'E05013574', 'E05014107', 'E05011116',\n",
       "       'E05013619', 'E05013657', 'E05009293', 'E05009330', 'E05013544',\n",
       "       'E05013546', 'E05013563', 'E05013659', 'E05009386', 'E05013895',\n",
       "       'E05014111', 'E05009381', 'E05013974', 'E05014056', 'E05013515',\n",
       "       'E05011237', 'E05009305', 'E05013887', 'E05013557', 'E05000487',\n",
       "       'E05009391', 'E05013549', 'E05011240', 'E05013599', 'E05009379',\n",
       "       'E05013927', 'E05013980', 'E05013921', 'E05009369', 'E05014016',\n",
       "       'E05014000', 'E05013883', 'E05013713', 'E05013779', 'E05013691',\n",
       "       'E05013741', 'E05014059', 'E05014090', 'E05011473', 'E05013529',\n",
       "       'E05009324', 'E05013499', 'E05013512', 'E05013660', 'E05013986',\n",
       "       'E05013829', 'E05014104', 'E05013968', 'E05013906', 'E05013996',\n",
       "       'E05013778', 'E05011104', 'E05013944', 'E05014005', 'E05009404',\n",
       "       'E05009303', 'E05013978', 'E05013757', 'E05011467', 'E05014062',\n",
       "       'E05013943', 'E05009295', 'E05014053', 'E05011481', 'E05013993',\n",
       "       'E05013985', 'E05011484', 'E05013601', 'E05013733', 'E05014002',\n",
       "       'E05014099', 'E05014119', 'E05011228', 'E05013821', 'E05014082',\n",
       "       'E05013998', 'E05013976', 'E05013899', 'E05013787', 'E05013606',\n",
       "       'E05013558', 'E05013803', 'E05013602', 'E05013523', 'E05013555',\n",
       "       'E05009294', 'E05013543', 'E05009370', 'E05013738', 'E05013818',\n",
       "       'E05013788', 'E05013900', 'E05013936', 'E05013697', 'E05014014',\n",
       "       'E05013634', 'E05013622', 'E05009326', 'E05011243', 'E05013646',\n",
       "       'E05011478', 'E05011480', 'E05013744', 'E05013647', 'E05013695',\n",
       "       'E05013771', 'E05013532', 'E05011470', 'E05013511', 'E05013814',\n",
       "       'E05013537', 'E05013629', 'E05011235', 'E05013715', 'E05011247',\n",
       "       'E05009289', 'E05014028', 'E05014073', 'E05011236', 'E05013945',\n",
       "       'E05014023', 'E05014068', 'E05013561', 'E05013496', 'E05013828',\n",
       "       'E05011475', 'E05013884', 'E05013698', 'E05013783', 'E05013926',\n",
       "       'E05011099', 'E05011223', 'E05013568', 'E05013967', 'E05013739',\n",
       "       'E05011103', 'E05013627', 'E05011462', 'E05013904', 'E05013623',\n",
       "       'E05013941', 'E05013889', 'E05013518', 'E05013946', 'E05013994',\n",
       "       'E05014080', 'E05013683', 'E05014074', 'E05011249', 'E05013746',\n",
       "       'E05011254', 'E05014075', 'E05014116', 'E05013530', 'E05013772',\n",
       "       'E05013922', 'E05009308', 'E05009307', 'E05013641', 'E05013664',\n",
       "       'E05013764', 'E05011221', 'E05013706', 'E05013552', 'E05013758',\n",
       "       'E05013929', 'E05013743', 'E05009291', 'E05013785', 'E05013984',\n",
       "       'E05013756', 'E05014067', 'E05013752', 'E05013598', 'E05014057',\n",
       "       'E05013891', 'E05013592', 'E05009312', 'E05013767', 'E05011472',\n",
       "       'E05013506', 'E05013970', 'E05013572', 'E05013573', 'E05013763',\n",
       "       'E05013607', 'E05013977', 'E05013775', 'E05013773', 'E05013776',\n",
       "       'E05013817', 'E05013578', 'E05009310', 'E05013681', 'E05013928',\n",
       "       'E05013559', 'E05013575', 'E05013760', 'E05013770', 'E05014083',\n",
       "       'E05009306', 'E05013547', 'E05013526', 'E05013815', 'E05013589',\n",
       "       'E05013824', 'E05013672', 'E05000483', 'E05009309', 'E05013791',\n",
       "       'E05009304', 'E05014015', 'E05013826', 'E05000214', 'E05014089',\n",
       "       'E05013654', 'E05009297', 'E05013565', 'E05013942', 'E05000642',\n",
       "       'E05013811', 'E05013632', 'E05013759', 'E05013542', 'E05013972',\n",
       "       'E05000622', 'E05009302', 'E05000488', 'E05009300', 'E05009298',\n",
       "       'E05000590', 'E05014077', 'E05009290', 'E05000367', 'E05000467',\n",
       "       'E05009299', 'E05000605', 'E05000263', 'E05009296', 'E05000228',\n",
       "       'E05009311', 'E05000114', 'E05000028', 'E05000444', 'E05000116',\n",
       "       'E05000278', 'E05000380', 'E05000604', 'E05000416', 'E05000635',\n",
       "       'E05000423', 'E05000112', 'E05000482', 'E05000316', 'E05000127',\n",
       "       'E05000453', 'E05000597', 'E05000250', 'E05000637', nan,\n",
       "       'E05000111', 'E05000138', 'E05000633', 'E05000449', 'E05000555',\n",
       "       'E05000117', 'E05000644', 'E05000029', 'E05000492'], dtype=object)"
      ]
     },
     "execution_count": 39,
     "metadata": {},
     "output_type": "execute_result"
    }
   ],
   "source": [
    "df['IncGeo_WardCode'].unique()"
   ]
  },
  {
   "attachments": {},
   "cell_type": "markdown",
   "id": "d09dcced",
   "metadata": {},
   "source": [
    "### IncGeo_WardName\n",
    "Consider grouping the rare levels."
   ]
  },
  {
   "cell_type": "code",
   "execution_count": 40,
   "id": "ed1567ed",
   "metadata": {},
   "outputs": [
    {
     "data": {
      "text/plain": [
       "array([\"ST. GEORGE'S\", 'Green Street East', 'Plaistow', ...,\n",
       "       'WORCESTER PARK SOUTH', 'COOMBE VALE', 'HOUNSLOW SOUTH'],\n",
       "      dtype=object)"
      ]
     },
     "execution_count": 40,
     "metadata": {},
     "output_type": "execute_result"
    }
   ],
   "source": [
    "df['IncGeo_WardName'].unique()"
   ]
  },
  {
   "cell_type": "code",
   "execution_count": 41,
   "id": "630d280b",
   "metadata": {},
   "outputs": [
    {
     "data": {
      "text/plain": [
       "West End                0.009713\n",
       "St. James's             0.007361\n",
       "WEST END                0.005671\n",
       "FAIRFIELD               0.004686\n",
       "ST. JAMES'S             0.004636\n",
       "                          ...   \n",
       "Chelsea Riverside       0.000003\n",
       "Brompton & Hans Town    0.000003\n",
       "Queen's Gate            0.000003\n",
       "St. Giles               0.000003\n",
       "De Beauvoir             0.000003\n",
       "Name: IncGeo_WardName, Length: 1294, dtype: float64"
      ]
     },
     "execution_count": 41,
     "metadata": {},
     "output_type": "execute_result"
    }
   ],
   "source": [
    "df['IncGeo_WardName'].value_counts(dropna=False)/df.shape[0]"
   ]
  },
  {
   "attachments": {},
   "cell_type": "markdown",
   "id": "539ef01d",
   "metadata": {},
   "source": [
    "### IncGeo_WardNameNew\n",
    "This feature will be dropped since same as IncGeo_WardName."
   ]
  },
  {
   "cell_type": "code",
   "execution_count": 42,
   "id": "f22269d0",
   "metadata": {},
   "outputs": [
    {
     "data": {
      "text/plain": [
       "array([\"ST. GEORGE'S\", 'Green Street East', 'Plaistow', ...,\n",
       "       'WORCESTER PARK SOUTH', 'COOMBE VALE', 'HOUNSLOW SOUTH'],\n",
       "      dtype=object)"
      ]
     },
     "execution_count": 42,
     "metadata": {},
     "output_type": "execute_result"
    }
   ],
   "source": [
    "df['IncGeo_WardNameNew'].unique()"
   ]
  },
  {
   "cell_type": "code",
   "execution_count": 43,
   "id": "59509832",
   "metadata": {},
   "outputs": [
    {
     "data": {
      "text/plain": [
       "West End                0.009713\n",
       "St. James's             0.007361\n",
       "WEST END                0.005671\n",
       "FAIRFIELD               0.004686\n",
       "ST. JAMES'S             0.004636\n",
       "                          ...   \n",
       "Chelsea Riverside       0.000003\n",
       "Brompton & Hans Town    0.000003\n",
       "Queen's Gate            0.000003\n",
       "St. Giles               0.000003\n",
       "De Beauvoir             0.000003\n",
       "Name: IncGeo_WardNameNew, Length: 1294, dtype: float64"
      ]
     },
     "execution_count": 43,
     "metadata": {},
     "output_type": "execute_result"
    }
   ],
   "source": [
    "df['IncGeo_WardNameNew'].value_counts(dropna=False)/df.shape[0]"
   ]
  },
  {
   "attachments": {},
   "cell_type": "markdown",
   "id": "5d4125f1",
   "metadata": {},
   "source": [
    "### Easting_m\n",
    "This feature will be dropped."
   ]
  },
  {
   "cell_type": "code",
   "execution_count": 44,
   "id": "efc9506a",
   "metadata": {},
   "outputs": [
    {
     "data": {
      "text/plain": [
       "array([    nan, 531044., 546298., ..., 540196., 519597., 519443.])"
      ]
     },
     "execution_count": 44,
     "metadata": {},
     "output_type": "execute_result"
    }
   ],
   "source": [
    "df['Easting_m'].unique()"
   ]
  },
  {
   "attachments": {},
   "cell_type": "markdown",
   "id": "8c1a771a",
   "metadata": {},
   "source": [
    "### Northing_m\n",
    "This feature will be dropped."
   ]
  },
  {
   "cell_type": "code",
   "execution_count": 45,
   "id": "48cabb64",
   "metadata": {},
   "outputs": [
    {
     "data": {
      "text/plain": [
       "array([    nan, 163681., 172407., ..., 196057., 166602., 172833.])"
      ]
     },
     "execution_count": 45,
     "metadata": {},
     "output_type": "execute_result"
    }
   ],
   "source": [
    "df['Northing_m'].unique()"
   ]
  },
  {
   "attachments": {},
   "cell_type": "markdown",
   "id": "0f6d0ab2",
   "metadata": {},
   "source": [
    "### Easting_rounded\n",
    "This feature will be dropped."
   ]
  },
  {
   "cell_type": "code",
   "execution_count": 46,
   "id": "dc9baea4",
   "metadata": {},
   "outputs": [
    {
     "data": {
      "text/plain": [
       "array([531450, 541250, 540450, 538750, 517550, 531050, 533950, 540750,\n",
       "       534950, 546250, 529150, 548050, 521650, 536150, 544150, 545050,\n",
       "       522150, 541550, 517950, 533250, 532750, 524450, 541650, 512850,\n",
       "       525550, 536750, 534850, 526350, 530250, 539250, 524050, 524950,\n",
       "       520150, 526550, 528950, 525450, 528450, 540350, 521550, 531850,\n",
       "       534150, 529950, 531750, 517050, 521450, 531550, 521150, 539850,\n",
       "       554750, 540650, 530550, 521750, 516250, 552650, 539550, 532950,\n",
       "       553950, 534350, 528850, 543750, 516650, 522250, 549950, 532150,\n",
       "       539650, 530650, 510250, 524150, 531950, 553750, 522750, 524250,\n",
       "       529050, 535250, 526850, 525350, 521850, 524550, 520450, 519850,\n",
       "       532250, 533650, 533350, 525850, 522850, 527950, 532550, 537250,\n",
       "       524650, 527050, 525650, 512250, 532450, 537850, 516850, 535150,\n",
       "       529650, 529350, 532850, 532050, 543250, 545250, 531350, 509450,\n",
       "       510850, 507850, 523950, 526950, 530050, 529750, 527250, 521350,\n",
       "       533050, 534050, 523550, 530850, 530150, 534250, 514750, 510450,\n",
       "       531250, 511950, 534450, 517650, 546650, 542550, 547750, 539050,\n",
       "       533750, 527450, 525050, 534750, 536350, 526750, 527350, 538350,\n",
       "       505150, 526650, 527550, 525950, 532350, 516450, 509850, 537150,\n",
       "       517750, 509750, 520550, 546450, 527150, 519450, 510550, 513250,\n",
       "       507550, 536650, 537550, 535050, 518850, 530750, 529550, 537350,\n",
       "       528150, 535850, 536050, 534550, 512750, 526150, 543150, 538050,\n",
       "       541350, 533550, 524750, 526050, 534650, 539150, 535750, 515450,\n",
       "       553850, 544450, 543550, 543950, 515050, 508150, 523450, 521250,\n",
       "       515150, 525150, 523250, 545950, 529250, 533450, 531150, 530450,\n",
       "       536450, 535350, 538550, 550350, 533850, 505750, 540250, 526450,\n",
       "       537050, 518650, 513450, 516950, 545350, 537750, 523650, 509150,\n",
       "       512450, 530350, 538950, 547250, 522050, 537450, 547150, 528250,\n",
       "       549050, 538250, 538850, 552050, 520350, 551150, 542350, 509250,\n",
       "       544350, 513350, 530950, 544750, 517250, 522550, 510750, 517350,\n",
       "       523050, 516550, 542450, 551550, 513550, 527650, 510350, 542850,\n",
       "       516150, 554050, 506950, 545550, 535950, 506250, 554350, 505950,\n",
       "       540150, 528750, 525250, 546150, 554150, 541450, 551050, 519950,\n",
       "       515850, 520750, 519550, 536850, 538150, 553550, 540550, 543050,\n",
       "       545450, 520950, 522950, 551350, 518350, 531650, 528350, 543350,\n",
       "       507650, 509050, 538650, 551250, 552750, 549350, 548950, 509350,\n",
       "       517850, 516350, 546950, 528650, 539750, 526250, 527850, 550250,\n",
       "       540950, 522350, 506450, 542250, 520650, 518950, 543450, 535550,\n",
       "       512950, 538450, 539350, 507150, 519750, 536250, 536550, 518750,\n",
       "       523350, 515650, 529850, 545150, 522450, 537650, 512050, 519050,\n",
       "       533150, 509950, 548550, 523150, 535450, 547050, 508350, 537950,\n",
       "       545650, 532650, 549650, 544650, 543850, 540050, 547450, 513050,\n",
       "       522650, 547650, 525750, 517150, 551450, 523850, 507750, 546050,\n",
       "       528550, 550750, 527750, 515950, 553050, 519650, 541850, 508250,\n",
       "       547850, 541050, 550050, 546850, 551650, 505850, 524850, 545850,\n",
       "       512650, 514250, 548850, 554850, 523750, 514550, 515750, 518250,\n",
       "       513950, 520850, 539950, 512150, 549150, 542150, 514350, 521050,\n",
       "       505450, 550550, 511250, 507950, 511350, 518050, 544550, 546750,\n",
       "       549750, 506350, 511150, 548350, 528050, 541750, 519350, 546550,\n",
       "       513850, 549550, 535650, 508450, 529450, 549450, 513150, 515550,\n",
       "       513650, 556150, 557550, 508950, 542650, 539450, 554550, 505550,\n",
       "       547950, 544950, 514050, 544050, 552950, 551750, 558250, 552350,\n",
       "       550850, 542950, 540850, 548250, 550950, 549250, 549850, 512350,\n",
       "       545750, 546350, 504950, 548450, 524350, 553650, 554650, 511850,\n",
       "       520050, 514450, 515250, 507350, 544250, 509650, 548150, 518150,\n",
       "       511750, 544850, 506850, 506150, 514950, 520250, 521950, 506550,\n",
       "       506050, 506650, 516750, 519150, 514150, 504350, 548750, 550450,\n",
       "       555250, 542050, 514850, 550150, 542750, 514650, 554450, 553150,\n",
       "       518450, 511450, 519250, 553450, 552550, 541150, 507250, 505350,\n",
       "       505250, 508050, 548650, 552850, 543650, 508550, 536950, 513750,\n",
       "       517450, 547550, 510650, 553250, 555150, 515350, 511650, 508750,\n",
       "       518550, 508650, 505050, 512550, 509550, 510050, 506750, 510150,\n",
       "       547350, 555650, 507050, 511550, 551950, 557250, 551850, 552150,\n",
       "       516050, 555350, 553350, 508850, 554950, 550650, 511050, 504750,\n",
       "       510950, 552450, 558550, 541950, 557650, 504450, 555850, 560150,\n",
       "       555950, 555550, 507450, 552250, 554250, 555750, 505650, 557450,\n",
       "       556850, 556550, 555050, 559450, 557150, 555450, 557350, 504650,\n",
       "       558350, 504550, 559250, 557850, 556050, 559550, 556450, 504850,\n",
       "       556650, 556750, 558750, 556350, 504250, 557950, 504150, 503950,\n",
       "       558150, 556250, 558050, 558650, 557750, 560050, 504050, 559150,\n",
       "       559050, 558850, 558450, 503750, 557050, 503650, 611150, 560450,\n",
       "       503850, 556950, 558950, 559750, 559850, 503550], dtype=int64)"
      ]
     },
     "execution_count": 46,
     "metadata": {},
     "output_type": "execute_result"
    }
   ],
   "source": [
    "df['Easting_rounded'].unique()"
   ]
  },
  {
   "attachments": {},
   "cell_type": "markdown",
   "id": "dbb48b27",
   "metadata": {},
   "source": [
    "### Northing_rounded\n",
    "This feature will be dropped."
   ]
  },
  {
   "cell_type": "code",
   "execution_count": 47,
   "id": "726a5540",
   "metadata": {},
   "outputs": [
    {
     "data": {
      "text/plain": [
       "array([178950, 184250, 171550, 180850, 181150, 163650, 186250, 168350,\n",
       "       192750, 187450, 172450, 183350, 179250, 175250, 185050, 183450,\n",
       "       166250, 179650, 196550, 181050, 188350, 177650, 182550, 177750,\n",
       "       187050, 184750, 170250, 178150, 178450, 169750, 186650, 174250,\n",
       "       194750, 164750, 174850, 179950, 192550, 181950, 171350, 178250,\n",
       "       191750, 181850, 174350, 181450, 184050, 182050, 173150, 188450,\n",
       "       180250, 175550, 187550, 197450, 184550, 183950, 180550, 176150,\n",
       "       169050, 158850, 174950, 189950, 192250, 182850, 182450, 175850,\n",
       "       193850, 182750, 178550, 170150, 181650, 195350, 172550, 171050,\n",
       "       178850, 186850, 179550, 177250, 165050, 168050, 192450, 179150,\n",
       "       170750, 196450, 188950, 186350, 191650, 166450, 186950, 192050,\n",
       "       182250, 178650, 167750, 181350, 186050, 178750, 181550, 182150,\n",
       "       189650, 185350, 168150, 165850, 189150, 181250, 173350, 190650,\n",
       "       171250, 174050, 166750, 178050, 193450, 173250, 182950, 168850,\n",
       "       183150, 167550, 177950, 194350, 180150, 191050, 189550, 172250,\n",
       "       179050, 180050, 183250, 183750, 170950, 187650, 179750, 172150,\n",
       "       190450, 168450, 175350, 167950, 186550, 189750, 185750, 183650,\n",
       "       176050, 175750, 172950, 190750, 176550, 171750, 166150, 175150,\n",
       "       192150, 196050, 173950, 164950, 188850, 182350, 176750, 165150,\n",
       "       177050, 184950, 185850, 173650, 190150, 174750, 179350, 188550,\n",
       "       191550, 176450, 183050, 184150, 161050, 199950, 173750, 189850,\n",
       "       162550, 198350, 171450, 185250, 179450, 187950, 169550, 192350,\n",
       "       167250, 176850, 183850, 187150, 190250, 180950, 187250, 188650,\n",
       "       187750, 165750, 185650, 177350, 174550, 190050, 167850, 196350,\n",
       "       173850, 193650, 167450, 184350, 165550, 176650, 199050, 191850,\n",
       "       189250, 170850, 171650, 176350, 176950, 175950, 170450, 195150,\n",
       "       183550, 186750, 164150, 177150, 189450, 184850, 172350, 160650,\n",
       "       180350, 167150, 188050, 176250, 166550, 181750, 190550, 195850,\n",
       "       189350, 174650, 174150, 162050, 178350, 162150, 173450, 170050,\n",
       "       189050, 175450, 180650, 193050, 172050, 168250, 167650, 180750,\n",
       "       191350, 185450, 174450, 177850, 175650, 172650, 186450, 190350,\n",
       "       179850, 169950, 163750, 194050, 164050, 169650, 164650, 161450,\n",
       "       182650, 184450, 160250, 171950, 171150, 198850, 196950, 193250,\n",
       "       198550, 169350, 161750, 191950, 187350, 167050, 185550, 169850,\n",
       "       197950, 194450, 177450, 188150, 193350, 163850, 164850, 172750,\n",
       "       169250, 170550, 191250, 160850, 159350, 194250, 173050, 196750,\n",
       "       185950, 170350, 192850, 186150, 169450, 158050, 190850, 194850,\n",
       "       190950, 195650, 175050, 169150, 177550, 172850, 184650, 188250,\n",
       "       197350, 191450, 161550, 191150, 198750, 185150, 173550, 193750,\n",
       "       166050, 193150, 196150, 167350, 168550, 159550, 160450, 170650,\n",
       "       163050, 195450, 180450, 188750, 192950, 164350, 161950, 162650,\n",
       "       165650, 168650, 165450, 164250, 168950, 161150, 159250, 165250,\n",
       "       194150, 165950, 162250, 198150, 165350, 187850, 164550, 157350,\n",
       "       199250, 163450, 163250, 195750, 163950, 197750, 195950, 159150,\n",
       "       194950, 160750, 195250, 198950, 192650, 198250, 166350, 166650,\n",
       "       193550, 199750, 198650, 194650, 197850, 171850, 198050, 193950,\n",
       "       194550, 195550, 160150, 164450, 199550, 159750, 197150, 166850,\n",
       "       160950, 200150, 200050, 162950, 162850, 196250, 163550, 168750,\n",
       "       199450, 198450, 197050, 163150, 162350, 196850, 158550, 166950,\n",
       "       160350, 161350, 197250, 197650, 199350, 159850, 162450, 157550,\n",
       "       159450, 196650, 199150, 161250, 159050, 163350, 197550, 199650,\n",
       "       162750, 195050, 157850, 158250, 161850, 158450, 157250, 158150,\n",
       "       200550, 157650, 160550, 159950, 158650, 160050, 157150, 161650,\n",
       "       199850, 200250, 158750, 159650, 158950, 157450, 157950, 200350,\n",
       "       200450, 157750, 155950, 156850, 157050, 200650, 158350, 200750,\n",
       "       302450, 156950, 200850, 156650], dtype=int64)"
      ]
     },
     "execution_count": 47,
     "metadata": {},
     "output_type": "execute_result"
    }
   ],
   "source": [
    "df['Northing_rounded'].unique()"
   ]
  },
  {
   "attachments": {},
   "cell_type": "markdown",
   "id": "7f966cc4",
   "metadata": {},
   "source": [
    "### Latitude\n",
    "This feature will be dropped."
   ]
  },
  {
   "cell_type": "code",
   "execution_count": 48,
   "id": "4f664035",
   "metadata": {},
   "outputs": [
    {
     "data": {
      "text/plain": [
       "array([        nan, 51.357095  , 51.43178562, ..., 51.46139646,\n",
       "       51.47809972, 51.46521844])"
      ]
     },
     "execution_count": 48,
     "metadata": {},
     "output_type": "execute_result"
    }
   ],
   "source": [
    "df['Latitude'].unique()"
   ]
  },
  {
   "attachments": {},
   "cell_type": "markdown",
   "id": "dad6618a",
   "metadata": {},
   "source": [
    "### Longitude\n",
    "This feature will be dropped."
   ]
  },
  {
   "cell_type": "code",
   "execution_count": 49,
   "id": "1601eac2",
   "metadata": {},
   "outputs": [
    {
     "data": {
      "text/plain": [
       "array([        nan, -0.119327  ,  0.10320611, ..., -0.11443344,\n",
       "       -0.34084683, -0.30087744])"
      ]
     },
     "execution_count": 49,
     "metadata": {},
     "output_type": "execute_result"
    }
   ],
   "source": [
    "df['Longitude'].unique()"
   ]
  },
  {
   "attachments": {},
   "cell_type": "markdown",
   "id": "ac70914a",
   "metadata": {},
   "source": [
    "### FRS\n",
    "This feature will be dropped since it has one value."
   ]
  },
  {
   "cell_type": "code",
   "execution_count": 50,
   "id": "756a3a27",
   "metadata": {},
   "outputs": [
    {
     "data": {
      "text/plain": [
       "array(['London'], dtype=object)"
      ]
     },
     "execution_count": 50,
     "metadata": {},
     "output_type": "execute_result"
    }
   ],
   "source": [
    "df['FRS'].unique()"
   ]
  },
  {
   "attachments": {},
   "cell_type": "markdown",
   "id": "e0868403",
   "metadata": {},
   "source": [
    "### IncidentStationGround\n",
    "This feature will be dropped since too many values are availabe with small frequencies."
   ]
  },
  {
   "cell_type": "code",
   "execution_count": 51,
   "id": "85100860",
   "metadata": {},
   "outputs": [
    {
     "data": {
      "text/plain": [
       "array(['Lambeth', 'East Ham', 'Bromley', 'Poplar', 'Ealing', 'Croydon',\n",
       "       'Stoke Newington', 'Edmonton', 'Holloway', 'Sidcup', 'Euston',\n",
       "       'Erith', 'Richmond', 'Homerton', 'Barking', 'Orpington',\n",
       "       'Hammersmith', 'Plaistow', 'Islington', 'Enfield',\n",
       "       'North Kensington', 'Ilford', 'Heston', 'Paddington', 'Deptford',\n",
       "       'West Hampstead', 'Norbury', 'East Greenwich', 'Wimbledon',\n",
       "       'Wembley', 'Wandsworth', 'Southgate', 'Sutton', 'Chelsea',\n",
       "       'Lee Green', 'Willesden', 'Dowgate', 'West Norwood', 'Mill Hill',\n",
       "       'Shoreditch', 'Wennington', 'Hendon', 'Bexley', 'Stratford',\n",
       "       'Hornchurch', 'Soho', 'Purley', 'Feltham', 'Tottenham',\n",
       "       'Harold Hill', 'Clapham', 'New Cross', 'Barnet', 'Acton',\n",
       "       'New Malden', 'Plumstead', 'Kensington', 'Peckham', 'Addington',\n",
       "       'Dockhead', 'Harrow', 'Chingford', 'Woodford', 'Old Kent Road',\n",
       "       'Shadwell', 'Hayes', 'Ruislip', 'Hillingdon', 'Finchley',\n",
       "       'Kentish Town', 'Woodside', 'Bethnal Green', 'Wallington',\n",
       "       'Whitechapel', 'Twickenham', 'Hornsey', 'Brixton', 'Tooting',\n",
       "       'Heathrow', 'Forest Hill', 'Leytonstone', 'Millwall', 'Kingston',\n",
       "       'Chiswick', 'Southall', 'Stanmore', 'Lewisham', 'Greenwich',\n",
       "       'Beckenham', 'Surbiton', 'Walthamstow', 'Eltham', 'Dagenham',\n",
       "       'Park Royal', 'Battersea', 'Hainault', 'Leyton', 'Fulham',\n",
       "       'Mitcham', 'Northolt', 'Romford', 'Biggin Hill',\n",
       "       'Beyond Home Counties', nan], dtype=object)"
      ]
     },
     "execution_count": 51,
     "metadata": {},
     "output_type": "execute_result"
    }
   ],
   "source": [
    "df['IncidentStationGround'].unique()"
   ]
  },
  {
   "cell_type": "code",
   "execution_count": 52,
   "id": "942d5469",
   "metadata": {},
   "outputs": [
    {
     "data": {
      "text/plain": [
       "Soho                    0.030176\n",
       "Paddington              0.024946\n",
       "Lambeth                 0.019622\n",
       "Euston                  0.019131\n",
       "Shoreditch              0.018067\n",
       "                          ...   \n",
       "Wennington              0.004074\n",
       "Hainault                0.004042\n",
       "Biggin Hill             0.001476\n",
       "Beyond Home Counties    0.000003\n",
       "NaN                     0.000003\n",
       "Name: IncidentStationGround, Length: 104, dtype: float64"
      ]
     },
     "execution_count": 52,
     "metadata": {},
     "output_type": "execute_result"
    }
   ],
   "source": [
    "df['IncidentStationGround'].value_counts(dropna=False)/df.shape[0]"
   ]
  },
  {
   "attachments": {},
   "cell_type": "markdown",
   "id": "5629f71d",
   "metadata": {},
   "source": [
    "### FirstPumpArriving_AttendanceTime\n",
    "This is the target feature in seconds. The target feature's values will be converted to minutes so the range is not to big, and the incidents having na values will be dropped."
   ]
  },
  {
   "cell_type": "code",
   "execution_count": 53,
   "id": "7a7f69ed",
   "metadata": {},
   "outputs": [
    {
     "data": {
      "text/plain": [
       "count    320032.000000\n",
       "mean        311.279094\n",
       "std         131.924699\n",
       "min           1.000000\n",
       "25%         228.000000\n",
       "50%         293.000000\n",
       "75%         371.000000\n",
       "max        1200.000000\n",
       "Name: FirstPumpArriving_AttendanceTime, dtype: float64"
      ]
     },
     "execution_count": 53,
     "metadata": {},
     "output_type": "execute_result"
    }
   ],
   "source": [
    "df['FirstPumpArriving_AttendanceTime'].describe()"
   ]
  },
  {
   "cell_type": "code",
   "execution_count": 54,
   "id": "75bac7ab",
   "metadata": {},
   "outputs": [
    {
     "data": {
      "text/plain": [
       "<Axes: >"
      ]
     },
     "execution_count": 54,
     "metadata": {},
     "output_type": "execute_result"
    },
    {
     "data": {
      "image/png": "[encoded data removed]",
      "text/plain": [
       "<Figure size 640x480 with 1 Axes>"
      ]
     },
     "metadata": {},
     "output_type": "display_data"
    }
   ],
   "source": [
    "df['FirstPumpArriving_AttendanceTime'].hist(bins=30)"
   ]
  },
  {
   "cell_type": "code",
   "execution_count": 55,
   "id": "cb34768f",
   "metadata": {},
   "outputs": [
    {
     "data": {
      "text/plain": [
       "count    320032.000000\n",
       "mean          5.187985\n",
       "std           2.198745\n",
       "min           0.016667\n",
       "25%           3.800000\n",
       "50%           4.883333\n",
       "75%           6.183333\n",
       "max          20.000000\n",
       "Name: FirstPumpArriving_AttendanceTime_min, dtype: float64"
      ]
     },
     "execution_count": 55,
     "metadata": {},
     "output_type": "execute_result"
    }
   ],
   "source": [
    "df['FirstPumpArriving_AttendanceTime_min'] = df['FirstPumpArriving_AttendanceTime']/60\n",
    "df['FirstPumpArriving_AttendanceTime_min'].describe()"
   ]
  },
  {
   "cell_type": "code",
   "execution_count": 56,
   "id": "89f8c9ba",
   "metadata": {},
   "outputs": [
    {
     "data": {
      "text/plain": [
       "<Axes: >"
      ]
     },
     "execution_count": 56,
     "metadata": {},
     "output_type": "execute_result"
    },
    {
     "data": {
      "image/png": "[encoded data removed]",
      "text/plain": [
       "<Figure size 640x480 with 1 Axes>"
      ]
     },
     "metadata": {},
     "output_type": "display_data"
    }
   ],
   "source": [
    "df['FirstPumpArriving_AttendanceTime_min'].hist(bins=30)"
   ]
  },
  {
   "attachments": {},
   "cell_type": "markdown",
   "id": "0efe217f",
   "metadata": {},
   "source": [
    "### FirstPumpArriving_DeployedFromStation\n",
    "This feature will be dropped since too many values and very low frequencies."
   ]
  },
  {
   "cell_type": "code",
   "execution_count": 57,
   "id": "34d57f2a",
   "metadata": {},
   "outputs": [
    {
     "data": {
      "text/plain": [
       "array(['Lambeth', 'Stratford', 'Bromley', 'Millwall', 'Ealing', 'Croydon',\n",
       "       'Stoke Newington', 'Edmonton', 'Holloway', 'Sidcup', 'Euston',\n",
       "       'Erith', 'Wandsworth', 'Homerton', 'Barking', 'Richmond',\n",
       "       'Orpington', 'Hammersmith', 'Plaistow', 'Islington', 'East Ham',\n",
       "       'Enfield', 'North Kensington', 'Ilford', 'Heston', 'Paddington',\n",
       "       'Greenwich', nan, 'West Hampstead', 'Norbury', 'Wimbledon',\n",
       "       'Wembley', 'Southgate', 'Sutton', 'Chelsea', 'Lee Green',\n",
       "       'Willesden', 'Dowgate', 'West Norwood', 'Mill Hill', 'Shoreditch',\n",
       "       'Wennington', 'Brixton', 'Hendon', 'Bexley', 'Hornchurch', 'Soho',\n",
       "       'Purley', 'Feltham', 'Hornsey', 'Harold Hill', 'Clapham',\n",
       "       'Peckham', 'Barnet', 'Acton', 'Kingston', 'Plumstead',\n",
       "       'Kensington', 'Addington', 'Tottenham', 'Northolt', 'Woodford',\n",
       "       'Old Kent Road', 'Shadwell', 'Heathrow', 'Ruislip', 'Hillingdon',\n",
       "       'Finchley', 'New Malden', 'Woodside', 'Bethnal Green',\n",
       "       'Whitechapel', 'Twickenham', 'Chingford', 'Battersea', 'Poplar',\n",
       "       'Kentish Town', 'Forest Hill', 'Tooting', 'Leyton', 'Chiswick',\n",
       "       'Southall', 'Stanmore', 'Lewisham', 'Surbiton', 'Beckenham',\n",
       "       'Deptford', 'Walthamstow', 'Harrow', 'Eltham', 'Dagenham', 'Hayes',\n",
       "       'Hainault', 'Fulham', 'Mitcham', 'Leytonstone', 'Dockhead',\n",
       "       'East Greenwich', 'Romford', 'Wallington', 'Park Royal',\n",
       "       'New Cross', 'Biggin Hill', 'Hertfordshire'], dtype=object)"
      ]
     },
     "execution_count": 57,
     "metadata": {},
     "output_type": "execute_result"
    }
   ],
   "source": [
    "df['FirstPumpArriving_DeployedFromStation'].unique()"
   ]
  },
  {
   "cell_type": "code",
   "execution_count": 58,
   "id": "5bccc9b9",
   "metadata": {},
   "outputs": [
    {
     "data": {
      "text/plain": [
       "NaN              0.059226\n",
       "Soho             0.028797\n",
       "Paddington       0.021248\n",
       "Lambeth          0.017900\n",
       "Euston           0.017315\n",
       "                   ...   \n",
       "Purley           0.004354\n",
       "Hainault         0.003284\n",
       "Wennington       0.002584\n",
       "Biggin Hill      0.001243\n",
       "Hertfordshire    0.000003\n",
       "Name: FirstPumpArriving_DeployedFromStation, Length: 104, dtype: float64"
      ]
     },
     "execution_count": 58,
     "metadata": {},
     "output_type": "execute_result"
    }
   ],
   "source": [
    "df['FirstPumpArriving_DeployedFromStation'].value_counts(dropna=False)/df.shape[0]"
   ]
  },
  {
   "attachments": {},
   "cell_type": "markdown",
   "id": "0c931ec6",
   "metadata": {},
   "source": [
    "### SecondPumpArriving_AttendanceTime\n",
    "This feature will be dropped since too many nas, and no need of further investigation."
   ]
  },
  {
   "cell_type": "code",
   "execution_count": 59,
   "id": "9e8d5b31",
   "metadata": {},
   "outputs": [
    {
     "data": {
      "text/plain": [
       "count    122989.000000\n",
       "mean        391.471164\n",
       "std         144.898956\n",
       "min           1.000000\n",
       "25%         298.000000\n",
       "50%         369.000000\n",
       "75%         458.000000\n",
       "max        1200.000000\n",
       "Name: SecondPumpArriving_AttendanceTime, dtype: float64"
      ]
     },
     "execution_count": 59,
     "metadata": {},
     "output_type": "execute_result"
    }
   ],
   "source": [
    "df['SecondPumpArriving_AttendanceTime'].describe()"
   ]
  },
  {
   "attachments": {},
   "cell_type": "markdown",
   "id": "900aa4cd",
   "metadata": {},
   "source": [
    "### SecondPumpArriving_DeployedFromStation\n",
    "This feature will be dropped."
   ]
  },
  {
   "cell_type": "code",
   "execution_count": 60,
   "id": "fb3894ce",
   "metadata": {},
   "outputs": [
    {
     "data": {
      "text/plain": [
       "array(['Lambeth', 'Leytonstone', nan, 'Shadwell', 'Acton', 'Beckenham',\n",
       "       'Edmonton', 'Soho', 'Richmond', 'Stoke Newington', 'Barking',\n",
       "       'Wandsworth', 'Hammersmith', 'East Ham', 'Plaistow', 'Ilford',\n",
       "       'Old Kent Road', 'Battersea', 'Southgate', 'Sutton',\n",
       "       'West Norwood', 'Ealing', 'Enfield', 'Euston', 'Northolt', 'Erith',\n",
       "       'Romford', 'Paddington', 'Peckham', 'Kensington', 'Dowgate',\n",
       "       'Brixton', 'Kingston', 'Chelsea', 'Norbury', 'Tooting',\n",
       "       'Whitechapel', 'Woodford', 'Woodside', 'Wembley', 'Chingford',\n",
       "       'Homerton', 'Hayes', 'Finchley', 'West Hampstead', 'Croydon',\n",
       "       'Hornsey', 'Wallington', 'Twickenham', 'Tottenham', 'Feltham',\n",
       "       'Plumstead', 'Fulham', 'Islington', 'Southall', 'Bromley',\n",
       "       'Hillingdon', 'Sidcup', 'Kentish Town', 'Shoreditch', 'Greenwich',\n",
       "       'Lee Green', 'Deptford', 'Clapham', 'Hendon', 'Lewisham',\n",
       "       'Orpington', 'Leyton', 'New Cross', 'Willesden', 'Heathrow',\n",
       "       'Heston', 'North Kensington', 'Chiswick', 'Holloway', 'Dagenham',\n",
       "       'Eltham', 'Walthamstow', 'Hainault', 'Wimbledon', 'Poplar',\n",
       "       'Hornchurch', 'Forest Hill', 'Bexley', 'Stanmore', 'Mill Hill',\n",
       "       'New Malden', 'Park Royal', 'Dockhead', 'Barnet', 'Millwall',\n",
       "       'Harold Hill', 'East Greenwich', 'Bethnal Green', 'Stratford',\n",
       "       'Mitcham', 'Addington', 'Ruislip', 'Harrow', 'Surbiton', 'Purley',\n",
       "       'Biggin Hill', 'Wennington'], dtype=object)"
      ]
     },
     "execution_count": 60,
     "metadata": {},
     "output_type": "execute_result"
    }
   ],
   "source": [
    "df['SecondPumpArriving_DeployedFromStation'].unique()"
   ]
  },
  {
   "attachments": {},
   "cell_type": "markdown",
   "id": "7199aa35",
   "metadata": {},
   "source": [
    "### NumStationsWithPumpsAttending"
   ]
  },
  {
   "cell_type": "code",
   "execution_count": 61,
   "id": "939c7572",
   "metadata": {},
   "outputs": [
    {
     "data": {
      "text/plain": [
       "count    334943.000000\n",
       "mean          1.406093\n",
       "std           0.791723\n",
       "min           1.000000\n",
       "25%           1.000000\n",
       "50%           1.000000\n",
       "75%           2.000000\n",
       "max          14.000000\n",
       "Name: NumStationsWithPumpsAttending, dtype: float64"
      ]
     },
     "execution_count": 61,
     "metadata": {},
     "output_type": "execute_result"
    }
   ],
   "source": [
    "df['NumStationsWithPumpsAttending'].describe()"
   ]
  },
  {
   "cell_type": "code",
   "execution_count": 62,
   "id": "a16e956c",
   "metadata": {},
   "outputs": [
    {
     "data": {
      "text/plain": [
       "<Axes: >"
      ]
     },
     "execution_count": 62,
     "metadata": {},
     "output_type": "execute_result"
    },
    {
     "data": {
      "image/png": "[encoded data removed]",
      "text/plain": [
       "<Figure size 640x480 with 1 Axes>"
      ]
     },
     "metadata": {},
     "output_type": "display_data"
    }
   ],
   "source": [
    "df['NumStationsWithPumpsAttending'].hist(bins=30)"
   ]
  },
  {
   "attachments": {},
   "cell_type": "markdown",
   "id": "8f3436ac",
   "metadata": {},
   "source": [
    "### NumPumpsAttending"
   ]
  },
  {
   "cell_type": "code",
   "execution_count": 63,
   "id": "0a048be4",
   "metadata": {},
   "outputs": [
    {
     "data": {
      "text/plain": [
       "count    334943.000000\n",
       "mean          1.545424\n",
       "std           0.915680\n",
       "min           1.000000\n",
       "25%           1.000000\n",
       "50%           1.000000\n",
       "75%           2.000000\n",
       "max          14.000000\n",
       "Name: NumPumpsAttending, dtype: float64"
      ]
     },
     "execution_count": 63,
     "metadata": {},
     "output_type": "execute_result"
    }
   ],
   "source": [
    "df['NumPumpsAttending'].describe()"
   ]
  },
  {
   "cell_type": "code",
   "execution_count": 64,
   "id": "c24d5c85",
   "metadata": {},
   "outputs": [
    {
     "data": {
      "text/plain": [
       "<Axes: >"
      ]
     },
     "execution_count": 64,
     "metadata": {},
     "output_type": "execute_result"
    },
    {
     "data": {
      "image/png": "[encoded data removed]",
      "text/plain": [
       "<Figure size 640x480 with 1 Axes>"
      ]
     },
     "metadata": {},
     "output_type": "display_data"
    }
   ],
   "source": [
    "df['NumPumpsAttending'].hist(bins=30)"
   ]
  },
  {
   "attachments": {},
   "cell_type": "markdown",
   "id": "92a093fe",
   "metadata": {},
   "source": [
    "### PumpCount\n",
    "This feature will be dropped since highly correlated with NumPumpsAttending."
   ]
  },
  {
   "cell_type": "code",
   "execution_count": 65,
   "id": "21a4bbd1",
   "metadata": {},
   "outputs": [
    {
     "data": {
      "text/plain": [
       "count    337214.000000\n",
       "mean          1.595242\n",
       "std           1.369999\n",
       "min           1.000000\n",
       "25%           1.000000\n",
       "50%           1.000000\n",
       "75%           2.000000\n",
       "max         156.000000\n",
       "Name: PumpCount, dtype: float64"
      ]
     },
     "execution_count": 65,
     "metadata": {},
     "output_type": "execute_result"
    }
   ],
   "source": [
    "df['PumpCount'].describe()"
   ]
  },
  {
   "cell_type": "code",
   "execution_count": 66,
   "id": "3b0722d2",
   "metadata": {},
   "outputs": [
    {
     "data": {
      "text/plain": [
       "<Axes: >"
      ]
     },
     "execution_count": 66,
     "metadata": {},
     "output_type": "execute_result"
    },
    {
     "data": {
      "image/png": "[encoded data removed]",
      "text/plain": [
       "<Figure size 640x480 with 1 Axes>"
      ]
     },
     "metadata": {},
     "output_type": "display_data"
    }
   ],
   "source": [
    "df['PumpCount'].hist(bins=30)"
   ]
  },
  {
   "cell_type": "code",
   "execution_count": 67,
   "id": "18d8c6ac",
   "metadata": {},
   "outputs": [
    {
     "data": {
      "text/html": [
       "<div>\n",
       "<style scoped>\n",
       "    .dataframe tbody tr th:only-of-type {\n",
       "        vertical-align: middle;\n",
       "    }\n",
       "\n",
       "    .dataframe tbody tr th {\n",
       "        vertical-align: top;\n",
       "    }\n",
       "\n",
       "    .dataframe thead th {\n",
       "        text-align: right;\n",
       "    }\n",
       "</style>\n",
       "<table border=\"1\" class=\"dataframe\">\n",
       "  <thead>\n",
       "    <tr style=\"text-align: right;\">\n",
       "      <th></th>\n",
       "      <th>PumpCount</th>\n",
       "      <th>NumPumpsAttending</th>\n",
       "    </tr>\n",
       "  </thead>\n",
       "  <tbody>\n",
       "    <tr>\n",
       "      <th>PumpCount</th>\n",
       "      <td>1.000000</td>\n",
       "      <td>0.711609</td>\n",
       "    </tr>\n",
       "    <tr>\n",
       "      <th>NumPumpsAttending</th>\n",
       "      <td>0.711609</td>\n",
       "      <td>1.000000</td>\n",
       "    </tr>\n",
       "  </tbody>\n",
       "</table>\n",
       "</div>"
      ],
      "text/plain": [
       "                   PumpCount  NumPumpsAttending\n",
       "PumpCount           1.000000           0.711609\n",
       "NumPumpsAttending   0.711609           1.000000"
      ]
     },
     "execution_count": 67,
     "metadata": {},
     "output_type": "execute_result"
    }
   ],
   "source": [
    "df[['PumpCount', 'NumPumpsAttending']].corr()"
   ]
  },
  {
   "attachments": {},
   "cell_type": "markdown",
   "id": "3a0c0cf1",
   "metadata": {},
   "source": [
    "### PumpHoursRoundUp\n",
    "This feature will be dropped since no information from the modeling perspective."
   ]
  },
  {
   "cell_type": "code",
   "execution_count": 68,
   "id": "6009f617",
   "metadata": {},
   "outputs": [
    {
     "data": {
      "text/plain": [
       "count    337120.000000\n",
       "mean          1.364419\n",
       "std           4.299975\n",
       "min           1.000000\n",
       "25%           1.000000\n",
       "50%           1.000000\n",
       "75%           1.000000\n",
       "max         680.000000\n",
       "Name: PumpHoursRoundUp, dtype: float64"
      ]
     },
     "execution_count": 68,
     "metadata": {},
     "output_type": "execute_result"
    }
   ],
   "source": [
    "df['PumpHoursRoundUp'].describe()"
   ]
  },
  {
   "cell_type": "code",
   "execution_count": 69,
   "id": "cb54ea28",
   "metadata": {},
   "outputs": [
    {
     "data": {
      "text/plain": [
       "<Axes: >"
      ]
     },
     "execution_count": 69,
     "metadata": {},
     "output_type": "execute_result"
    },
    {
     "data": {
      "image/png": "[encoded data removed]",
      "text/plain": [
       "<Figure size 640x480 with 1 Axes>"
      ]
     },
     "metadata": {},
     "output_type": "display_data"
    }
   ],
   "source": [
    "df['PumpHoursRoundUp'].hist(bins=100)"
   ]
  },
  {
   "attachments": {},
   "cell_type": "markdown",
   "id": "b8a8a759",
   "metadata": {},
   "source": [
    "### Notional Cost (£)\n",
    "The value of this feature will be capped to 400 since the std is to big."
   ]
  },
  {
   "cell_type": "code",
   "execution_count": 70,
   "id": "b66d87a9",
   "metadata": {},
   "outputs": [
    {
     "data": {
      "text/plain": [
       "count    327967.000000\n",
       "mean        485.104678\n",
       "std        1546.549090\n",
       "min         346.000000\n",
       "25%         352.000000\n",
       "50%         352.000000\n",
       "75%         364.000000\n",
       "max      247520.000000\n",
       "Name: Notional Cost (£), dtype: float64"
      ]
     },
     "execution_count": 70,
     "metadata": {},
     "output_type": "execute_result"
    }
   ],
   "source": [
    "df['Notional Cost (£)'].describe()"
   ]
  },
  {
   "cell_type": "code",
   "execution_count": 71,
   "id": "7955d42e",
   "metadata": {},
   "outputs": [
    {
     "data": {
      "text/plain": [
       "<Axes: >"
      ]
     },
     "execution_count": 71,
     "metadata": {},
     "output_type": "execute_result"
    },
    {
     "data": {
      "image/png": "[encoded data removed]",
      "text/plain": [
       "<Figure size 640x480 with 1 Axes>"
      ]
     },
     "metadata": {},
     "output_type": "display_data"
    }
   ],
   "source": [
    "df['Notional Cost (£)'].hist(bins=30)"
   ]
  },
  {
   "attachments": {},
   "cell_type": "markdown",
   "id": "08337a23",
   "metadata": {},
   "source": [
    "### NumCalls"
   ]
  },
  {
   "cell_type": "code",
   "execution_count": 72,
   "id": "3511648f",
   "metadata": {},
   "outputs": [
    {
     "data": {
      "text/plain": [
       "count    340172.000000\n",
       "mean          1.310899\n",
       "std           1.475325\n",
       "min           1.000000\n",
       "25%           1.000000\n",
       "50%           1.000000\n",
       "75%           1.000000\n",
       "max         111.000000\n",
       "Name: NumCalls, dtype: float64"
      ]
     },
     "execution_count": 72,
     "metadata": {},
     "output_type": "execute_result"
    }
   ],
   "source": [
    "df['NumCalls'].describe()"
   ]
  },
  {
   "attachments": {},
   "cell_type": "markdown",
   "id": "488635e2",
   "metadata": {},
   "source": [
    "## Feature sets\n",
    "\n",
    "The lists below contain the features available in the data.\n",
    "\n",
    "- target_feature: the target feature\n",
    "- drop_features: features that will be dropped and are not considered\n",
    "- cat_features: the categorical features\n",
    "- num_features: the numerical features \n",
    "- id_feature: the id feature"
   ]
  },
  {
   "cell_type": "code",
   "execution_count": 73,
   "id": "b031a0f5",
   "metadata": {},
   "outputs": [],
   "source": [
    "target = 'FirstPumpArriving_AttendanceTime_min'\n",
    "\n",
    "drop_features = ['DateOfCall', 'CalYear', 'TimeOfCall', 'SpecialServiceType', 'Postcode_full',\n",
    "                 'Postcode_district', 'UPRN', 'USRN', 'IncGeo_BoroughName', 'IncGeo_WardCode',\n",
    "                 'IncGeo_WardNameNew', 'Easting_m', 'Northing_m', 'Easting_rounded', 'Northing_rounded',\n",
    "                 'Latitude', 'Longitude', 'FRS', 'IncidentStationGround', 'FirstPumpArriving_AttendanceTime',\n",
    "                 'SecondPumpArriving_AttendanceTime', 'SecondPumpArriving_DeployedFromStation',\n",
    "                 'PumpCount', 'PumpHoursRoundUp']\n",
    "\n",
    "cat_features = ['IncidentGroup', 'StopCodeDescription', 'PropertyCategory', 'PropertyType',\n",
    "                'AddressQualifier', 'ProperCase', 'IncGeo_WardName', 'PartOfDay']\n",
    "\n",
    "num_features = ['HourOfCall', 'NumStationsWithPumpsAttending', 'NumPumpsAttending', 'Notional Cost (£)',\n",
    "                'NumCalls', 'DateOfCall_Month']\n",
    "\n",
    "id_feature = 'IncidentNumber'"
   ]
  },
  {
   "attachments": {},
   "cell_type": "markdown",
   "id": "08f7d959",
   "metadata": {},
   "source": [
    "## DATA INGESTION & TRACKING"
   ]
  },
  {
   "cell_type": "code",
   "execution_count": 74,
   "id": "8df91054",
   "metadata": {},
   "outputs": [],
   "source": [
    "mobilisation = pd.read_excel(\"https://data.london.gov.uk/download/london-fire-brigade-mobilisation-records/3ff29fb5-3935-41b2-89f1-38571059237e/LFB%20Mobilisation%20data%20Last%203%20years.xlsx\")\n",
    "incidents = pd.read_csv(\"https://data.london.gov.uk/download/london-fire-brigade-incident-records/f5066d66-c7a3-415f-9629-026fbda61822/LFB%20Incident%20data%20Last%203%20years.csv\")"
   ]
  },
  {
   "cell_type": "code",
   "execution_count": 75,
   "id": "1ecc6d96",
   "metadata": {},
   "outputs": [
    {
     "data": {
      "text/html": [
       "<div>\n",
       "<style scoped>\n",
       "    .dataframe tbody tr th:only-of-type {\n",
       "        vertical-align: middle;\n",
       "    }\n",
       "\n",
       "    .dataframe tbody tr th {\n",
       "        vertical-align: top;\n",
       "    }\n",
       "\n",
       "    .dataframe thead th {\n",
       "        text-align: right;\n",
       "    }\n",
       "</style>\n",
       "<table border=\"1\" class=\"dataframe\">\n",
       "  <thead>\n",
       "    <tr style=\"text-align: right;\">\n",
       "      <th></th>\n",
       "      <th>IncidentNumber</th>\n",
       "      <th>CalYear</th>\n",
       "      <th>HourOfCall</th>\n",
       "      <th>ResourceMobilisationId</th>\n",
       "      <th>Resource_Code</th>\n",
       "      <th>PerformanceReporting</th>\n",
       "      <th>DateAndTimeMobilised</th>\n",
       "      <th>DateAndTimeMobile</th>\n",
       "      <th>DateAndTimeArrived</th>\n",
       "      <th>TurnoutTimeSeconds</th>\n",
       "      <th>TravelTimeSeconds</th>\n",
       "      <th>AttendanceTimeSeconds</th>\n",
       "      <th>DateAndTimeLeft</th>\n",
       "      <th>DateAndTimeReturned</th>\n",
       "      <th>DeployedFromStation_Code</th>\n",
       "      <th>DeployedFromStation_Name</th>\n",
       "      <th>DeployedFromLocation</th>\n",
       "      <th>PumpOrder</th>\n",
       "      <th>PlusCode_Code</th>\n",
       "      <th>PlusCode_Description</th>\n",
       "      <th>DelayCodeId</th>\n",
       "      <th>DelayCode_Description</th>\n",
       "    </tr>\n",
       "  </thead>\n",
       "  <tbody>\n",
       "    <tr>\n",
       "      <th>0</th>\n",
       "      <td>000003-01012020</td>\n",
       "      <td>2020</td>\n",
       "      <td>0</td>\n",
       "      <td>5547476</td>\n",
       "      <td>G232</td>\n",
       "      <td>1</td>\n",
       "      <td>01/01/2020 00:06:30</td>\n",
       "      <td>01/01/2020 00:07:48</td>\n",
       "      <td>01/01/2020 00:11:54</td>\n",
       "      <td>78.0</td>\n",
       "      <td>246.0</td>\n",
       "      <td>324</td>\n",
       "      <td>01/01/2020 00:33:14</td>\n",
       "      <td>NaN</td>\n",
       "      <td>G23</td>\n",
       "      <td>Hillingdon</td>\n",
       "      <td>Home Station</td>\n",
       "      <td>1</td>\n",
       "      <td>Initial</td>\n",
       "      <td>Initial Mobilisation</td>\n",
       "      <td>NaN</td>\n",
       "      <td>NaN</td>\n",
       "    </tr>\n",
       "    <tr>\n",
       "      <th>1</th>\n",
       "      <td>000008-01012020</td>\n",
       "      <td>2020</td>\n",
       "      <td>0</td>\n",
       "      <td>5547478</td>\n",
       "      <td>H421</td>\n",
       "      <td>1</td>\n",
       "      <td>01/01/2020 00:11:05</td>\n",
       "      <td>01/01/2020 00:12:05</td>\n",
       "      <td>01/01/2020 00:14:20</td>\n",
       "      <td>60.0</td>\n",
       "      <td>135.0</td>\n",
       "      <td>195</td>\n",
       "      <td>01/01/2020 01:00:07</td>\n",
       "      <td>NaN</td>\n",
       "      <td>H42</td>\n",
       "      <td>Richmond</td>\n",
       "      <td>Home Station</td>\n",
       "      <td>1</td>\n",
       "      <td>Initial</td>\n",
       "      <td>Initial Mobilisation</td>\n",
       "      <td>NaN</td>\n",
       "      <td>NaN</td>\n",
       "    </tr>\n",
       "    <tr>\n",
       "      <th>2</th>\n",
       "      <td>000009-01012020</td>\n",
       "      <td>2020</td>\n",
       "      <td>0</td>\n",
       "      <td>5547479</td>\n",
       "      <td>A341</td>\n",
       "      <td>1</td>\n",
       "      <td>01/01/2020 00:11:16</td>\n",
       "      <td>01/01/2020 00:13:04</td>\n",
       "      <td>01/01/2020 00:18:22</td>\n",
       "      <td>108.0</td>\n",
       "      <td>318.0</td>\n",
       "      <td>426</td>\n",
       "      <td>01/01/2020 00:52:05</td>\n",
       "      <td>NaN</td>\n",
       "      <td>A34</td>\n",
       "      <td>Edmonton</td>\n",
       "      <td>Home Station</td>\n",
       "      <td>1</td>\n",
       "      <td>Initial</td>\n",
       "      <td>Initial Mobilisation</td>\n",
       "      <td>9.0</td>\n",
       "      <td>Traffic, roadworks, etc</td>\n",
       "    </tr>\n",
       "    <tr>\n",
       "      <th>3</th>\n",
       "      <td>000003-01012020</td>\n",
       "      <td>2020</td>\n",
       "      <td>0</td>\n",
       "      <td>5547480</td>\n",
       "      <td>G231</td>\n",
       "      <td>2</td>\n",
       "      <td>01/01/2020 00:11:33</td>\n",
       "      <td>01/01/2020 00:12:36</td>\n",
       "      <td>01/01/2020 00:16:25</td>\n",
       "      <td>63.0</td>\n",
       "      <td>229.0</td>\n",
       "      <td>292</td>\n",
       "      <td>01/01/2020 00:21:29</td>\n",
       "      <td>NaN</td>\n",
       "      <td>G23</td>\n",
       "      <td>Hillingdon</td>\n",
       "      <td>Home Station</td>\n",
       "      <td>2</td>\n",
       "      <td>Initial</td>\n",
       "      <td>Initial Mobilisation</td>\n",
       "      <td>NaN</td>\n",
       "      <td>NaN</td>\n",
       "    </tr>\n",
       "    <tr>\n",
       "      <th>4</th>\n",
       "      <td>000011-01012020</td>\n",
       "      <td>2020</td>\n",
       "      <td>0</td>\n",
       "      <td>5547482</td>\n",
       "      <td>H351</td>\n",
       "      <td>1</td>\n",
       "      <td>01/01/2020 00:12:02</td>\n",
       "      <td>01/01/2020 00:13:08</td>\n",
       "      <td>01/01/2020 00:16:11</td>\n",
       "      <td>66.0</td>\n",
       "      <td>183.0</td>\n",
       "      <td>249</td>\n",
       "      <td>01/01/2020 00:44:39</td>\n",
       "      <td>NaN</td>\n",
       "      <td>H35</td>\n",
       "      <td>Tooting</td>\n",
       "      <td>Home Station</td>\n",
       "      <td>1</td>\n",
       "      <td>Initial</td>\n",
       "      <td>Initial Mobilisation</td>\n",
       "      <td>NaN</td>\n",
       "      <td>NaN</td>\n",
       "    </tr>\n",
       "  </tbody>\n",
       "</table>\n",
       "</div>"
      ],
      "text/plain": [
       "    IncidentNumber  CalYear  HourOfCall  ResourceMobilisationId Resource_Code  \\\n",
       "0  000003-01012020     2020           0                 5547476          G232   \n",
       "1  000008-01012020     2020           0                 5547478          H421   \n",
       "2  000009-01012020     2020           0                 5547479          A341   \n",
       "3  000003-01012020     2020           0                 5547480          G231   \n",
       "4  000011-01012020     2020           0                 5547482          H351   \n",
       "\n",
       "  PerformanceReporting DateAndTimeMobilised    DateAndTimeMobile  \\\n",
       "0                    1  01/01/2020 00:06:30  01/01/2020 00:07:48   \n",
       "1                    1  01/01/2020 00:11:05  01/01/2020 00:12:05   \n",
       "2                    1  01/01/2020 00:11:16  01/01/2020 00:13:04   \n",
       "3                    2  01/01/2020 00:11:33  01/01/2020 00:12:36   \n",
       "4                    1  01/01/2020 00:12:02  01/01/2020 00:13:08   \n",
       "\n",
       "    DateAndTimeArrived  TurnoutTimeSeconds  TravelTimeSeconds  \\\n",
       "0  01/01/2020 00:11:54                78.0              246.0   \n",
       "1  01/01/2020 00:14:20                60.0              135.0   \n",
       "2  01/01/2020 00:18:22               108.0              318.0   \n",
       "3  01/01/2020 00:16:25                63.0              229.0   \n",
       "4  01/01/2020 00:16:11                66.0              183.0   \n",
       "\n",
       "   AttendanceTimeSeconds      DateAndTimeLeft  DateAndTimeReturned  \\\n",
       "0                    324  01/01/2020 00:33:14                  NaN   \n",
       "1                    195  01/01/2020 01:00:07                  NaN   \n",
       "2                    426  01/01/2020 00:52:05                  NaN   \n",
       "3                    292  01/01/2020 00:21:29                  NaN   \n",
       "4                    249  01/01/2020 00:44:39                  NaN   \n",
       "\n",
       "  DeployedFromStation_Code DeployedFromStation_Name DeployedFromLocation  \\\n",
       "0                      G23               Hillingdon         Home Station   \n",
       "1                      H42                 Richmond         Home Station   \n",
       "2                      A34                 Edmonton         Home Station   \n",
       "3                      G23               Hillingdon         Home Station   \n",
       "4                      H35                  Tooting         Home Station   \n",
       "\n",
       "   PumpOrder PlusCode_Code  PlusCode_Description  DelayCodeId  \\\n",
       "0          1       Initial  Initial Mobilisation          NaN   \n",
       "1          1       Initial  Initial Mobilisation          NaN   \n",
       "2          1       Initial  Initial Mobilisation          9.0   \n",
       "3          2       Initial  Initial Mobilisation          NaN   \n",
       "4          1       Initial  Initial Mobilisation          NaN   \n",
       "\n",
       "     DelayCode_Description  \n",
       "0                      NaN  \n",
       "1                      NaN  \n",
       "2  Traffic, roadworks, etc  \n",
       "3                      NaN  \n",
       "4                      NaN  "
      ]
     },
     "execution_count": 75,
     "metadata": {},
     "output_type": "execute_result"
    }
   ],
   "source": [
    "mobilisation.head()"
   ]
  },
  {
   "cell_type": "code",
   "execution_count": 76,
   "id": "a89a56c3",
   "metadata": {},
   "outputs": [
    {
     "data": {
      "text/html": [
       "<div>\n",
       "<style scoped>\n",
       "    .dataframe tbody tr th:only-of-type {\n",
       "        vertical-align: middle;\n",
       "    }\n",
       "\n",
       "    .dataframe tbody tr th {\n",
       "        vertical-align: top;\n",
       "    }\n",
       "\n",
       "    .dataframe thead th {\n",
       "        text-align: right;\n",
       "    }\n",
       "</style>\n",
       "<table border=\"1\" class=\"dataframe\">\n",
       "  <thead>\n",
       "    <tr style=\"text-align: right;\">\n",
       "      <th></th>\n",
       "      <th>IncidentNumber</th>\n",
       "      <th>DateOfCall</th>\n",
       "      <th>CalYear</th>\n",
       "      <th>TimeOfCall</th>\n",
       "      <th>HourOfCall</th>\n",
       "      <th>IncidentGroup</th>\n",
       "      <th>StopCodeDescription</th>\n",
       "      <th>SpecialServiceType</th>\n",
       "      <th>PropertyCategory</th>\n",
       "      <th>PropertyType</th>\n",
       "      <th>AddressQualifier</th>\n",
       "      <th>Postcode_full</th>\n",
       "      <th>Postcode_district</th>\n",
       "      <th>UPRN</th>\n",
       "      <th>USRN</th>\n",
       "      <th>IncGeo_BoroughCode</th>\n",
       "      <th>IncGeo_BoroughName</th>\n",
       "      <th>ProperCase</th>\n",
       "      <th>IncGeo_WardCode</th>\n",
       "      <th>IncGeo_WardName</th>\n",
       "      <th>IncGeo_WardNameNew</th>\n",
       "      <th>Easting_m</th>\n",
       "      <th>Northing_m</th>\n",
       "      <th>Easting_rounded</th>\n",
       "      <th>Northing_rounded</th>\n",
       "      <th>Latitude</th>\n",
       "      <th>Longitude</th>\n",
       "      <th>FRS</th>\n",
       "      <th>IncidentStationGround</th>\n",
       "      <th>FirstPumpArriving_AttendanceTime</th>\n",
       "      <th>FirstPumpArriving_DeployedFromStation</th>\n",
       "      <th>SecondPumpArriving_AttendanceTime</th>\n",
       "      <th>SecondPumpArriving_DeployedFromStation</th>\n",
       "      <th>NumStationsWithPumpsAttending</th>\n",
       "      <th>NumPumpsAttending</th>\n",
       "      <th>PumpCount</th>\n",
       "      <th>PumpHoursRoundUp</th>\n",
       "      <th>Notional Cost (£)</th>\n",
       "      <th>NumCalls</th>\n",
       "    </tr>\n",
       "  </thead>\n",
       "  <tbody>\n",
       "    <tr>\n",
       "      <th>0</th>\n",
       "      <td>000001-01012020</td>\n",
       "      <td>01 Jan 2020</td>\n",
       "      <td>2020</td>\n",
       "      <td>00:02:11</td>\n",
       "      <td>0</td>\n",
       "      <td>Special Service</td>\n",
       "      <td>Special Service</td>\n",
       "      <td>Lift Release</td>\n",
       "      <td>Dwelling</td>\n",
       "      <td>Purpose Built Flats/Maisonettes - 4 to 9 storeys</td>\n",
       "      <td>Within same building</td>\n",
       "      <td>NaN</td>\n",
       "      <td>SE1</td>\n",
       "      <td>0</td>\n",
       "      <td>21901000</td>\n",
       "      <td>E09000022</td>\n",
       "      <td>LAMBETH</td>\n",
       "      <td>Lambeth</td>\n",
       "      <td>E05014118</td>\n",
       "      <td>Waterloo &amp; South Bank</td>\n",
       "      <td>Waterloo &amp; South Bank</td>\n",
       "      <td>NaN</td>\n",
       "      <td>NaN</td>\n",
       "      <td>531050</td>\n",
       "      <td>179550</td>\n",
       "      <td>NaN</td>\n",
       "      <td>NaN</td>\n",
       "      <td>London</td>\n",
       "      <td>Lambeth</td>\n",
       "      <td>NaN</td>\n",
       "      <td>NaN</td>\n",
       "      <td>NaN</td>\n",
       "      <td>NaN</td>\n",
       "      <td>1.0</td>\n",
       "      <td>1.0</td>\n",
       "      <td>1.0</td>\n",
       "      <td>1.0</td>\n",
       "      <td>339.0</td>\n",
       "      <td>3.0</td>\n",
       "    </tr>\n",
       "    <tr>\n",
       "      <th>1</th>\n",
       "      <td>000003-01012020</td>\n",
       "      <td>01 Jan 2020</td>\n",
       "      <td>2020</td>\n",
       "      <td>00:06:30</td>\n",
       "      <td>0</td>\n",
       "      <td>Fire</td>\n",
       "      <td>Primary Fire</td>\n",
       "      <td>NaN</td>\n",
       "      <td>Non Residential</td>\n",
       "      <td>Private Garden Shed</td>\n",
       "      <td>On land associated with building</td>\n",
       "      <td>NaN</td>\n",
       "      <td>UB8</td>\n",
       "      <td>0</td>\n",
       "      <td>21402055</td>\n",
       "      <td>E09000017</td>\n",
       "      <td>HILLINGDON</td>\n",
       "      <td>Hillingdon</td>\n",
       "      <td>E05013566</td>\n",
       "      <td>Colham &amp; Cowley</td>\n",
       "      <td>Colham &amp; Cowley</td>\n",
       "      <td>NaN</td>\n",
       "      <td>NaN</td>\n",
       "      <td>506750</td>\n",
       "      <td>181550</td>\n",
       "      <td>NaN</td>\n",
       "      <td>NaN</td>\n",
       "      <td>London</td>\n",
       "      <td>Hillingdon</td>\n",
       "      <td>324.0</td>\n",
       "      <td>Hillingdon</td>\n",
       "      <td>292.0</td>\n",
       "      <td>Hillingdon</td>\n",
       "      <td>1.0</td>\n",
       "      <td>2.0</td>\n",
       "      <td>2.0</td>\n",
       "      <td>1.0</td>\n",
       "      <td>339.0</td>\n",
       "      <td>3.0</td>\n",
       "    </tr>\n",
       "    <tr>\n",
       "      <th>2</th>\n",
       "      <td>000004-01012020</td>\n",
       "      <td>01 Jan 2020</td>\n",
       "      <td>2020</td>\n",
       "      <td>00:07:07</td>\n",
       "      <td>0</td>\n",
       "      <td>Special Service</td>\n",
       "      <td>Special Service</td>\n",
       "      <td>Lift Release</td>\n",
       "      <td>Dwelling</td>\n",
       "      <td>Purpose Built Flats/Maisonettes - 4 to 9 storeys</td>\n",
       "      <td>Within same building</td>\n",
       "      <td>NaN</td>\n",
       "      <td>N6</td>\n",
       "      <td>0</td>\n",
       "      <td>21106425</td>\n",
       "      <td>E09000014</td>\n",
       "      <td>HARINGEY</td>\n",
       "      <td>Haringey</td>\n",
       "      <td>E05013592</td>\n",
       "      <td>Highgate</td>\n",
       "      <td>Highgate</td>\n",
       "      <td>NaN</td>\n",
       "      <td>NaN</td>\n",
       "      <td>528250</td>\n",
       "      <td>187850</td>\n",
       "      <td>NaN</td>\n",
       "      <td>NaN</td>\n",
       "      <td>London</td>\n",
       "      <td>Hornsey</td>\n",
       "      <td>NaN</td>\n",
       "      <td>NaN</td>\n",
       "      <td>NaN</td>\n",
       "      <td>NaN</td>\n",
       "      <td>1.0</td>\n",
       "      <td>1.0</td>\n",
       "      <td>1.0</td>\n",
       "      <td>1.0</td>\n",
       "      <td>339.0</td>\n",
       "      <td>1.0</td>\n",
       "    </tr>\n",
       "    <tr>\n",
       "      <th>3</th>\n",
       "      <td>000008-01012020</td>\n",
       "      <td>01 Jan 2020</td>\n",
       "      <td>2020</td>\n",
       "      <td>00:11:05</td>\n",
       "      <td>0</td>\n",
       "      <td>False Alarm</td>\n",
       "      <td>AFA</td>\n",
       "      <td>NaN</td>\n",
       "      <td>Non Residential</td>\n",
       "      <td>Telephone exchange</td>\n",
       "      <td>Correct incident location</td>\n",
       "      <td>TW9 1LW</td>\n",
       "      <td>TW9</td>\n",
       "      <td>10002252088</td>\n",
       "      <td>22403714</td>\n",
       "      <td>E09000027</td>\n",
       "      <td>RICHMOND UPON THAMES</td>\n",
       "      <td>Richmond Upon thames</td>\n",
       "      <td>E05013786</td>\n",
       "      <td>South Richmond</td>\n",
       "      <td>South Richmond</td>\n",
       "      <td>518296.0</td>\n",
       "      <td>174887.0</td>\n",
       "      <td>518250</td>\n",
       "      <td>174850</td>\n",
       "      <td>51.460614</td>\n",
       "      <td>-0.298579</td>\n",
       "      <td>London</td>\n",
       "      <td>Richmond</td>\n",
       "      <td>195.0</td>\n",
       "      <td>Richmond</td>\n",
       "      <td>NaN</td>\n",
       "      <td>NaN</td>\n",
       "      <td>1.0</td>\n",
       "      <td>1.0</td>\n",
       "      <td>1.0</td>\n",
       "      <td>1.0</td>\n",
       "      <td>339.0</td>\n",
       "      <td>1.0</td>\n",
       "    </tr>\n",
       "    <tr>\n",
       "      <th>4</th>\n",
       "      <td>000009-01012020</td>\n",
       "      <td>01 Jan 2020</td>\n",
       "      <td>2020</td>\n",
       "      <td>00:11:16</td>\n",
       "      <td>0</td>\n",
       "      <td>Fire</td>\n",
       "      <td>Secondary Fire</td>\n",
       "      <td>NaN</td>\n",
       "      <td>Outdoor Structure</td>\n",
       "      <td>Small refuse/rubbish container</td>\n",
       "      <td>On land associated with building</td>\n",
       "      <td>N9 8NB</td>\n",
       "      <td>N9</td>\n",
       "      <td>207090844</td>\n",
       "      <td>20703225</td>\n",
       "      <td>E09000010</td>\n",
       "      <td>ENFIELD</td>\n",
       "      <td>Enfield</td>\n",
       "      <td>E05013685</td>\n",
       "      <td>Lower Edmonton</td>\n",
       "      <td>Lower Edmonton</td>\n",
       "      <td>535304.0</td>\n",
       "      <td>194202.0</td>\n",
       "      <td>535350</td>\n",
       "      <td>194250</td>\n",
       "      <td>51.630370</td>\n",
       "      <td>-0.046492</td>\n",
       "      <td>London</td>\n",
       "      <td>Edmonton</td>\n",
       "      <td>426.0</td>\n",
       "      <td>Edmonton</td>\n",
       "      <td>NaN</td>\n",
       "      <td>NaN</td>\n",
       "      <td>1.0</td>\n",
       "      <td>1.0</td>\n",
       "      <td>1.0</td>\n",
       "      <td>1.0</td>\n",
       "      <td>339.0</td>\n",
       "      <td>1.0</td>\n",
       "    </tr>\n",
       "  </tbody>\n",
       "</table>\n",
       "</div>"
      ],
      "text/plain": [
       "    IncidentNumber   DateOfCall  CalYear TimeOfCall  HourOfCall  \\\n",
       "0  000001-01012020  01 Jan 2020     2020   00:02:11           0   \n",
       "1  000003-01012020  01 Jan 2020     2020   00:06:30           0   \n",
       "2  000004-01012020  01 Jan 2020     2020   00:07:07           0   \n",
       "3  000008-01012020  01 Jan 2020     2020   00:11:05           0   \n",
       "4  000009-01012020  01 Jan 2020     2020   00:11:16           0   \n",
       "\n",
       "     IncidentGroup StopCodeDescription SpecialServiceType   PropertyCategory  \\\n",
       "0  Special Service     Special Service       Lift Release           Dwelling   \n",
       "1             Fire        Primary Fire                NaN    Non Residential   \n",
       "2  Special Service     Special Service       Lift Release           Dwelling   \n",
       "3      False Alarm                 AFA                NaN    Non Residential   \n",
       "4             Fire      Secondary Fire                NaN  Outdoor Structure   \n",
       "\n",
       "                                        PropertyType  \\\n",
       "0  Purpose Built Flats/Maisonettes - 4 to 9 storeys    \n",
       "1                               Private Garden Shed    \n",
       "2  Purpose Built Flats/Maisonettes - 4 to 9 storeys    \n",
       "3                                 Telephone exchange   \n",
       "4                     Small refuse/rubbish container   \n",
       "\n",
       "                   AddressQualifier Postcode_full Postcode_district  \\\n",
       "0              Within same building           NaN               SE1   \n",
       "1  On land associated with building           NaN               UB8   \n",
       "2              Within same building           NaN                N6   \n",
       "3         Correct incident location       TW9 1LW               TW9   \n",
       "4  On land associated with building        N9 8NB                N9   \n",
       "\n",
       "          UPRN      USRN IncGeo_BoroughCode    IncGeo_BoroughName  \\\n",
       "0            0  21901000          E09000022               LAMBETH   \n",
       "1            0  21402055          E09000017            HILLINGDON   \n",
       "2            0  21106425          E09000014              HARINGEY   \n",
       "3  10002252088  22403714          E09000027  RICHMOND UPON THAMES   \n",
       "4    207090844  20703225          E09000010               ENFIELD   \n",
       "\n",
       "             ProperCase IncGeo_WardCode        IncGeo_WardName  \\\n",
       "0               Lambeth       E05014118  Waterloo & South Bank   \n",
       "1            Hillingdon       E05013566        Colham & Cowley   \n",
       "2              Haringey       E05013592               Highgate   \n",
       "3  Richmond Upon thames       E05013786         South Richmond   \n",
       "4               Enfield       E05013685         Lower Edmonton   \n",
       "\n",
       "      IncGeo_WardNameNew  Easting_m  Northing_m  Easting_rounded  \\\n",
       "0  Waterloo & South Bank        NaN         NaN           531050   \n",
       "1        Colham & Cowley        NaN         NaN           506750   \n",
       "2               Highgate        NaN         NaN           528250   \n",
       "3         South Richmond   518296.0    174887.0           518250   \n",
       "4         Lower Edmonton   535304.0    194202.0           535350   \n",
       "\n",
       "   Northing_rounded   Latitude  Longitude     FRS IncidentStationGround  \\\n",
       "0            179550        NaN        NaN  London               Lambeth   \n",
       "1            181550        NaN        NaN  London            Hillingdon   \n",
       "2            187850        NaN        NaN  London               Hornsey   \n",
       "3            174850  51.460614  -0.298579  London              Richmond   \n",
       "4            194250  51.630370  -0.046492  London              Edmonton   \n",
       "\n",
       "   FirstPumpArriving_AttendanceTime FirstPumpArriving_DeployedFromStation  \\\n",
       "0                               NaN                                   NaN   \n",
       "1                             324.0                            Hillingdon   \n",
       "2                               NaN                                   NaN   \n",
       "3                             195.0                              Richmond   \n",
       "4                             426.0                              Edmonton   \n",
       "\n",
       "   SecondPumpArriving_AttendanceTime SecondPumpArriving_DeployedFromStation  \\\n",
       "0                                NaN                                    NaN   \n",
       "1                              292.0                             Hillingdon   \n",
       "2                                NaN                                    NaN   \n",
       "3                                NaN                                    NaN   \n",
       "4                                NaN                                    NaN   \n",
       "\n",
       "   NumStationsWithPumpsAttending  NumPumpsAttending  PumpCount  \\\n",
       "0                            1.0                1.0        1.0   \n",
       "1                            1.0                2.0        2.0   \n",
       "2                            1.0                1.0        1.0   \n",
       "3                            1.0                1.0        1.0   \n",
       "4                            1.0                1.0        1.0   \n",
       "\n",
       "   PumpHoursRoundUp  Notional Cost (£)  NumCalls  \n",
       "0               1.0              339.0       3.0  \n",
       "1               1.0              339.0       3.0  \n",
       "2               1.0              339.0       1.0  \n",
       "3               1.0              339.0       1.0  \n",
       "4               1.0              339.0       1.0  "
      ]
     },
     "execution_count": 76,
     "metadata": {},
     "output_type": "execute_result"
    }
   ],
   "source": [
    "incidents.head()"
   ]
  },
  {
   "cell_type": "code",
   "execution_count": 77,
   "id": "0fb8a5ab",
   "metadata": {},
   "outputs": [
    {
     "data": {
      "text/plain": [
       "42"
      ]
     },
     "execution_count": 77,
     "metadata": {},
     "output_type": "execute_result"
    }
   ],
   "source": [
    "len(df.columns)"
   ]
  },
  {
   "cell_type": "code",
   "execution_count": 78,
   "id": "21691e63",
   "metadata": {},
   "outputs": [
    {
     "data": {
      "text/plain": [
       "22"
      ]
     },
     "execution_count": 78,
     "metadata": {},
     "output_type": "execute_result"
    }
   ],
   "source": [
    "len(mobilisation.columns)"
   ]
  },
  {
   "cell_type": "code",
   "execution_count": 79,
   "id": "e0e9f277",
   "metadata": {},
   "outputs": [
    {
     "data": {
      "text/plain": [
       "39"
      ]
     },
     "execution_count": 79,
     "metadata": {},
     "output_type": "execute_result"
    }
   ],
   "source": [
    "len(incidents.columns)"
   ]
  }
 ],
 "metadata": {
  "kernelspec": {
   "display_name": "base",
   "language": "python",
   "name": "python3"
  },
  "language_info": {
   "codemirror_mode": {
    "name": "ipython",
    "version": 3
   },
   "file_extension": ".py",
   "mimetype": "text/x-python",
   "name": "python",
   "nbconvert_exporter": "python",
   "pygments_lexer": "ipython3",
   "version": "3.8.8"
  }
 },
 "nbformat": 4,
 "nbformat_minor": 5
}
