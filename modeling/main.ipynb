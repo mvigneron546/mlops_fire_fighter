{
 "cells": [
  {
   "cell_type": "code",
   "execution_count": 1,
   "id": "93c93ee9",
   "metadata": {},
   "outputs": [],
   "source": [
    "import sys\n",
    "import os\n",
    "import io\n",
    "\n",
    "root_path = os.path.abspath(os.path.join(os.getcwd(), '..'))\n",
    "sys.path.append(root_path)"
   ]
  },
  {
   "cell_type": "code",
   "execution_count": 2,
   "id": "de990ae7",
   "metadata": {},
   "outputs": [],
   "source": [
    "import warnings\n",
    "warnings.filterwarnings('ignore')"
   ]
  },
  {
   "cell_type": "code",
   "execution_count": 3,
   "id": "6c45b06b",
   "metadata": {},
   "outputs": [],
   "source": [
    "import pickle\n",
    "import pandas as pd\n",
    "import matplotlib.pyplot as plt\n",
    "\n",
    "from utils.model_pipeline import get_pipeline\n",
    "from utils.train_predict_model import train_model, predict_model"
   ]
  },
  {
   "cell_type": "markdown",
   "id": "4bd20967",
   "metadata": {},
   "source": [
    "## Read Data"
   ]
  },
  {
   "cell_type": "code",
   "execution_count": 4,
   "id": "2059e665",
   "metadata": {},
   "outputs": [],
   "source": [
    "file_path = os.path.abspath(os.path.join(os.getcwd(), '../data'))"
   ]
  },
  {
   "cell_type": "code",
   "execution_count": 5,
   "id": "262ba94c",
   "metadata": {},
   "outputs": [],
   "source": [
    "train = pd.read_parquet(file_path + '/train.parquet')\n",
    "test = pd.read_parquet(file_path + '/test.parquet')"
   ]
  },
  {
   "cell_type": "code",
   "execution_count": 6,
   "id": "23927bd4",
   "metadata": {},
   "outputs": [
    {
     "data": {
      "text/plain": [
       "((204723, 42), (120127, 42))"
      ]
     },
     "execution_count": 6,
     "metadata": {},
     "output_type": "execute_result"
    }
   ],
   "source": [
    "train.shape, test.shape"
   ]
  },
  {
   "cell_type": "markdown",
   "id": "7195a13b",
   "metadata": {},
   "source": [
    "## Feature sets\n",
    "\n",
    "The lists below contain the features available in the data.\n",
    "\n",
    "- target_feature: the target feature\n",
    "- drop_features: features that will be dropped and are not considered\n",
    "- cat_features: the categorical features\n",
    "- num_features: the numerical features \n",
    "- id_feature: the id feature"
   ]
  },
  {
   "cell_type": "code",
   "execution_count": 8,
   "id": "49fba0c3",
   "metadata": {},
   "outputs": [],
   "source": [
    "target = 'FirstPumpArriving_AttendanceTime_min'\n",
    "\n",
    "drop_features = ['DateOfCall', 'CalYear', 'TimeOfCall', 'SpecialServiceType', 'Postcode_full',\n",
    "                 'Postcode_district', 'UPRN', 'USRN', 'IncGeo_BoroughName', 'IncGeo_WardCode',\n",
    "                 'IncGeo_WardNameNew', 'Easting_m', 'Northing_m', 'Easting_rounded', 'Northing_rounded',\n",
    "                 'Latitude', 'Longitude', 'FRS', 'IncidentStationGround', 'FirstPumpArriving_AttendanceTime',\n",
    "                 'SecondPumpArriving_AttendanceTime', 'SecondPumpArriving_DeployedFromStation',\n",
    "                 'PumpCount', 'PumpHoursRoundUp', 'FirstPumpArriving_DeployedFromStation', 'IncGeo_BoroughCode',\n",
    "                 'Notional Cost (£)']\n",
    "\n",
    "cat_features = ['IncidentGroup', 'StopCodeDescription', 'PropertyCategory', 'PropertyType',\n",
    "                'AddressQualifier', 'ProperCase', 'IncGeo_WardName', 'PartOfDay']\n",
    "\n",
    "num_features = ['HourOfCall', 'NumStationsWithPumpsAttending', 'NumPumpsAttending',\n",
    "                'NumCalls', 'DateOfCall_Month']\n",
    "\n",
    "id_feature = 'IncidentNumber'\n",
    "\n",
    "full_list_features =  set(cat_features + num_features)"
   ]
  },
  {
   "cell_type": "markdown",
   "id": "cda2df4e",
   "metadata": {},
   "source": [
    "## Drop features & define modeling data sets "
   ]
  },
  {
   "cell_type": "code",
   "execution_count": 9,
   "id": "56fe2200",
   "metadata": {},
   "outputs": [],
   "source": [
    "train = train.drop(columns=drop_features, axis=1)\n",
    "test = test.drop(columns=drop_features, axis=1)"
   ]
  },
  {
   "cell_type": "code",
   "execution_count": 10,
   "id": "7ffa66db",
   "metadata": {},
   "outputs": [
    {
     "data": {
      "text/plain": [
       "((204723, 15), (120127, 15))"
      ]
     },
     "execution_count": 10,
     "metadata": {},
     "output_type": "execute_result"
    }
   ],
   "source": [
    "train.shape, test.shape"
   ]
  },
  {
   "cell_type": "code",
   "execution_count": 11,
   "id": "744211f4",
   "metadata": {},
   "outputs": [],
   "source": [
    "X_train = train.drop(columns=[target]+[id_feature])\n",
    "y_train = train[target]\n",
    "X_test = test.drop(columns=[target]+[id_feature])\n",
    "y_test = test[target]"
   ]
  },
  {
   "cell_type": "code",
   "execution_count": 12,
   "id": "4c88d63d",
   "metadata": {},
   "outputs": [],
   "source": [
    "assert full_list_features ==  set(X_train.columns), 'missmatch in training and expected features'\n",
    "assert full_list_features ==  set(X_test.columns), 'missmatch in test and expected features'"
   ]
  },
  {
   "cell_type": "markdown",
   "id": "41443396",
   "metadata": {},
   "source": [
    "## LGBM"
   ]
  },
  {
   "cell_type": "code",
   "execution_count": 12,
   "id": "d5adff63",
   "metadata": {},
   "outputs": [],
   "source": [
    "pipe = get_pipeline(num_features=num_features,\n",
    "                    cat_features=cat_features,\n",
    "                    algorithm='lgbm',\n",
    "                    use_grid_search=False)"
   ]
  },
  {
   "cell_type": "code",
   "execution_count": 13,
   "id": "682fcccd",
   "metadata": {},
   "outputs": [],
   "source": [
    "lgbm = train_model(pipeline=pipe,\n",
    "                   xtrain=X_train,\n",
    "                   ytrain=y_train)"
   ]
  },
  {
   "cell_type": "code",
   "execution_count": 14,
   "id": "115bfeb5",
   "metadata": {},
   "outputs": [
    {
     "data": {
      "text/html": [
       "<style>#sk-container-id-1 {color: black;background-color: white;}#sk-container-id-1 pre{padding: 0;}#sk-container-id-1 div.sk-toggleable {background-color: white;}#sk-container-id-1 label.sk-toggleable__label {cursor: pointer;display: block;width: 100%;margin-bottom: 0;padding: 0.3em;box-sizing: border-box;text-align: center;}#sk-container-id-1 label.sk-toggleable__label-arrow:before {content: \"▸\";float: left;margin-right: 0.25em;color: #696969;}#sk-container-id-1 label.sk-toggleable__label-arrow:hover:before {color: black;}#sk-container-id-1 div.sk-estimator:hover label.sk-toggleable__label-arrow:before {color: black;}#sk-container-id-1 div.sk-toggleable__content {max-height: 0;max-width: 0;overflow: hidden;text-align: left;background-color: #f0f8ff;}#sk-container-id-1 div.sk-toggleable__content pre {margin: 0.2em;color: black;border-radius: 0.25em;background-color: #f0f8ff;}#sk-container-id-1 input.sk-toggleable__control:checked~div.sk-toggleable__content {max-height: 200px;max-width: 100%;overflow: auto;}#sk-container-id-1 input.sk-toggleable__control:checked~label.sk-toggleable__label-arrow:before {content: \"▾\";}#sk-container-id-1 div.sk-estimator input.sk-toggleable__control:checked~label.sk-toggleable__label {background-color: #d4ebff;}#sk-container-id-1 div.sk-label input.sk-toggleable__control:checked~label.sk-toggleable__label {background-color: #d4ebff;}#sk-container-id-1 input.sk-hidden--visually {border: 0;clip: rect(1px 1px 1px 1px);clip: rect(1px, 1px, 1px, 1px);height: 1px;margin: -1px;overflow: hidden;padding: 0;position: absolute;width: 1px;}#sk-container-id-1 div.sk-estimator {font-family: monospace;background-color: #f0f8ff;border: 1px dotted black;border-radius: 0.25em;box-sizing: border-box;margin-bottom: 0.5em;}#sk-container-id-1 div.sk-estimator:hover {background-color: #d4ebff;}#sk-container-id-1 div.sk-parallel-item::after {content: \"\";width: 100%;border-bottom: 1px solid gray;flex-grow: 1;}#sk-container-id-1 div.sk-label:hover label.sk-toggleable__label {background-color: #d4ebff;}#sk-container-id-1 div.sk-serial::before {content: \"\";position: absolute;border-left: 1px solid gray;box-sizing: border-box;top: 0;bottom: 0;left: 50%;z-index: 0;}#sk-container-id-1 div.sk-serial {display: flex;flex-direction: column;align-items: center;background-color: white;padding-right: 0.2em;padding-left: 0.2em;position: relative;}#sk-container-id-1 div.sk-item {position: relative;z-index: 1;}#sk-container-id-1 div.sk-parallel {display: flex;align-items: stretch;justify-content: center;background-color: white;position: relative;}#sk-container-id-1 div.sk-item::before, #sk-container-id-1 div.sk-parallel-item::before {content: \"\";position: absolute;border-left: 1px solid gray;box-sizing: border-box;top: 0;bottom: 0;left: 50%;z-index: -1;}#sk-container-id-1 div.sk-parallel-item {display: flex;flex-direction: column;z-index: 1;position: relative;background-color: white;}#sk-container-id-1 div.sk-parallel-item:first-child::after {align-self: flex-end;width: 50%;}#sk-container-id-1 div.sk-parallel-item:last-child::after {align-self: flex-start;width: 50%;}#sk-container-id-1 div.sk-parallel-item:only-child::after {width: 0;}#sk-container-id-1 div.sk-dashed-wrapped {border: 1px dashed gray;margin: 0 0.4em 0.5em 0.4em;box-sizing: border-box;padding-bottom: 0.4em;background-color: white;}#sk-container-id-1 div.sk-label label {font-family: monospace;font-weight: bold;display: inline-block;line-height: 1.2em;}#sk-container-id-1 div.sk-label-container {text-align: center;}#sk-container-id-1 div.sk-container {/* jupyter's `normalize.less` sets `[hidden] { display: none; }` but bootstrap.min.css set `[hidden] { display: none !important; }` so we also need the `!important` here to be able to override the default hidden behavior on the sphinx rendered scikit-learn.org. See: https://github.com/scikit-learn/scikit-learn/issues/21755 */display: inline-block !important;position: relative;}#sk-container-id-1 div.sk-text-repr-fallback {display: none;}</style><div id=\"sk-container-id-1\" class=\"sk-top-container\"><div class=\"sk-text-repr-fallback\"><pre>Pipeline(steps=[(&#x27;preprocessor&#x27;,\n",
       "                 Pipeline(steps=[(&#x27;StopCodeDescription_transformer&#x27;,\n",
       "                                  GroupRareLevelsTransformer(columns=[&#x27;StopCodeDescription&#x27;],\n",
       "                                                             cut_off_percent=0.05)),\n",
       "                                 (&#x27;PropertyCategory_transformer&#x27;,\n",
       "                                  GroupRareLevelsTransformer(columns=[&#x27;PropertyCategory&#x27;],\n",
       "                                                             cut_off_percent=0.05)),\n",
       "                                 (&#x27;PropertyType_transformer&#x27;,\n",
       "                                  GroupRareLevelsTransformer(columns=[&#x27;PropertyT...\n",
       "                                                   &#x27;NumPumpsAttending&#x27;,\n",
       "                                                   &#x27;NationalCost&#x27;, &#x27;NumCalls&#x27;,\n",
       "                                                   &#x27;DateOfCall_Month&#x27;]),\n",
       "                                                 (&#x27;categorical&#x27;,\n",
       "                                                  Pipeline(steps=[(&#x27;imputer&#x27;,\n",
       "                                                                   SimpleImputer(strategy=&#x27;most_frequent&#x27;))]),\n",
       "                                                  [&#x27;IncidentGroup&#x27;,\n",
       "                                                   &#x27;StopCodeDescription&#x27;,\n",
       "                                                   &#x27;PropertyCategory&#x27;,\n",
       "                                                   &#x27;PropertyType&#x27;,\n",
       "                                                   &#x27;AddressQualifier&#x27;,\n",
       "                                                   &#x27;ProperCase&#x27;,\n",
       "                                                   &#x27;IncGeo_WardName&#x27;,\n",
       "                                                   &#x27;PartOfDay&#x27;])])),\n",
       "                (&#x27;estimator&#x27;,\n",
       "                 LGBMRegressor(objective=&#x27;regression_l1&#x27;, random_state=24))])</pre><b>In a Jupyter environment, please rerun this cell to show the HTML representation or trust the notebook. <br />On GitHub, the HTML representation is unable to render, please try loading this page with nbviewer.org.</b></div><div class=\"sk-container\" hidden><div class=\"sk-item sk-dashed-wrapped\"><div class=\"sk-label-container\"><div class=\"sk-label sk-toggleable\"><input class=\"sk-toggleable__control sk-hidden--visually\" id=\"sk-estimator-id-1\" type=\"checkbox\" ><label for=\"sk-estimator-id-1\" class=\"sk-toggleable__label sk-toggleable__label-arrow\">Pipeline</label><div class=\"sk-toggleable__content\"><pre>Pipeline(steps=[(&#x27;preprocessor&#x27;,\n",
       "                 Pipeline(steps=[(&#x27;StopCodeDescription_transformer&#x27;,\n",
       "                                  GroupRareLevelsTransformer(columns=[&#x27;StopCodeDescription&#x27;],\n",
       "                                                             cut_off_percent=0.05)),\n",
       "                                 (&#x27;PropertyCategory_transformer&#x27;,\n",
       "                                  GroupRareLevelsTransformer(columns=[&#x27;PropertyCategory&#x27;],\n",
       "                                                             cut_off_percent=0.05)),\n",
       "                                 (&#x27;PropertyType_transformer&#x27;,\n",
       "                                  GroupRareLevelsTransformer(columns=[&#x27;PropertyT...\n",
       "                                                   &#x27;NumPumpsAttending&#x27;,\n",
       "                                                   &#x27;NationalCost&#x27;, &#x27;NumCalls&#x27;,\n",
       "                                                   &#x27;DateOfCall_Month&#x27;]),\n",
       "                                                 (&#x27;categorical&#x27;,\n",
       "                                                  Pipeline(steps=[(&#x27;imputer&#x27;,\n",
       "                                                                   SimpleImputer(strategy=&#x27;most_frequent&#x27;))]),\n",
       "                                                  [&#x27;IncidentGroup&#x27;,\n",
       "                                                   &#x27;StopCodeDescription&#x27;,\n",
       "                                                   &#x27;PropertyCategory&#x27;,\n",
       "                                                   &#x27;PropertyType&#x27;,\n",
       "                                                   &#x27;AddressQualifier&#x27;,\n",
       "                                                   &#x27;ProperCase&#x27;,\n",
       "                                                   &#x27;IncGeo_WardName&#x27;,\n",
       "                                                   &#x27;PartOfDay&#x27;])])),\n",
       "                (&#x27;estimator&#x27;,\n",
       "                 LGBMRegressor(objective=&#x27;regression_l1&#x27;, random_state=24))])</pre></div></div></div><div class=\"sk-serial\"><div class=\"sk-item\"><div class=\"sk-label-container\"><div class=\"sk-label sk-toggleable\"><input class=\"sk-toggleable__control sk-hidden--visually\" id=\"sk-estimator-id-2\" type=\"checkbox\" ><label for=\"sk-estimator-id-2\" class=\"sk-toggleable__label sk-toggleable__label-arrow\">preprocessor: Pipeline</label><div class=\"sk-toggleable__content\"><pre>Pipeline(steps=[(&#x27;StopCodeDescription_transformer&#x27;,\n",
       "                 GroupRareLevelsTransformer(columns=[&#x27;StopCodeDescription&#x27;],\n",
       "                                            cut_off_percent=0.05)),\n",
       "                (&#x27;PropertyCategory_transformer&#x27;,\n",
       "                 GroupRareLevelsTransformer(columns=[&#x27;PropertyCategory&#x27;],\n",
       "                                            cut_off_percent=0.05)),\n",
       "                (&#x27;PropertyType_transformer&#x27;,\n",
       "                 GroupRareLevelsTransformer(columns=[&#x27;PropertyType&#x27;],\n",
       "                                            cut_off_percent=0.03)),\n",
       "                (&#x27;A...\n",
       "                 GroupRareLevelsTransformer(columns=[&#x27;IncGeo_WardName&#x27;],\n",
       "                                            cut_off_percent=0.003)),\n",
       "                (&#x27;cap_national_cost&#x27;,\n",
       "                 CappingTransformer(capping_values={&#x27;NationalCost&#x27;: [0, 400]})),\n",
       "                (&#x27;PartOfDay_transformer&#x27;,\n",
       "                 NominalToIntegerTransformer(columns=[&#x27;IncidentGroup&#x27;,\n",
       "                                                      &#x27;StopCodeDescription&#x27;,\n",
       "                                                      &#x27;PropertyCategory&#x27;,\n",
       "                                                      &#x27;PropertyType&#x27;,\n",
       "                                                      &#x27;AddressQualifier&#x27;,\n",
       "                                                      &#x27;ProperCase&#x27;,\n",
       "                                                      &#x27;IncGeo_WardName&#x27;,\n",
       "                                                      &#x27;PartOfDay&#x27;]))])</pre></div></div></div><div class=\"sk-serial\"><div class=\"sk-item\"><div class=\"sk-estimator sk-toggleable\"><input class=\"sk-toggleable__control sk-hidden--visually\" id=\"sk-estimator-id-3\" type=\"checkbox\" ><label for=\"sk-estimator-id-3\" class=\"sk-toggleable__label sk-toggleable__label-arrow\">GroupRareLevelsTransformer</label><div class=\"sk-toggleable__content\"><pre>GroupRareLevelsTransformer(columns=[&#x27;StopCodeDescription&#x27;],\n",
       "                           cut_off_percent=0.05)</pre></div></div></div><div class=\"sk-item\"><div class=\"sk-estimator sk-toggleable\"><input class=\"sk-toggleable__control sk-hidden--visually\" id=\"sk-estimator-id-4\" type=\"checkbox\" ><label for=\"sk-estimator-id-4\" class=\"sk-toggleable__label sk-toggleable__label-arrow\">GroupRareLevelsTransformer</label><div class=\"sk-toggleable__content\"><pre>GroupRareLevelsTransformer(columns=[&#x27;PropertyCategory&#x27;], cut_off_percent=0.05)</pre></div></div></div><div class=\"sk-item\"><div class=\"sk-estimator sk-toggleable\"><input class=\"sk-toggleable__control sk-hidden--visually\" id=\"sk-estimator-id-5\" type=\"checkbox\" ><label for=\"sk-estimator-id-5\" class=\"sk-toggleable__label sk-toggleable__label-arrow\">GroupRareLevelsTransformer</label><div class=\"sk-toggleable__content\"><pre>GroupRareLevelsTransformer(columns=[&#x27;PropertyType&#x27;], cut_off_percent=0.03)</pre></div></div></div><div class=\"sk-item\"><div class=\"sk-estimator sk-toggleable\"><input class=\"sk-toggleable__control sk-hidden--visually\" id=\"sk-estimator-id-6\" type=\"checkbox\" ><label for=\"sk-estimator-id-6\" class=\"sk-toggleable__label sk-toggleable__label-arrow\">GroupRareLevelsTransformer</label><div class=\"sk-toggleable__content\"><pre>GroupRareLevelsTransformer(columns=[&#x27;AddressQualifier&#x27;], cut_off_percent=0.05)</pre></div></div></div><div class=\"sk-item\"><div class=\"sk-estimator sk-toggleable\"><input class=\"sk-toggleable__control sk-hidden--visually\" id=\"sk-estimator-id-7\" type=\"checkbox\" ><label for=\"sk-estimator-id-7\" class=\"sk-toggleable__label sk-toggleable__label-arrow\">GroupRareLevelsTransformer</label><div class=\"sk-toggleable__content\"><pre>GroupRareLevelsTransformer(columns=[&#x27;IncGeo_WardName&#x27;], cut_off_percent=0.003)</pre></div></div></div><div class=\"sk-item\"><div class=\"sk-estimator sk-toggleable\"><input class=\"sk-toggleable__control sk-hidden--visually\" id=\"sk-estimator-id-8\" type=\"checkbox\" ><label for=\"sk-estimator-id-8\" class=\"sk-toggleable__label sk-toggleable__label-arrow\">CappingTransformer</label><div class=\"sk-toggleable__content\"><pre>CappingTransformer(capping_values={&#x27;NationalCost&#x27;: [0, 400]})</pre></div></div></div><div class=\"sk-item\"><div class=\"sk-estimator sk-toggleable\"><input class=\"sk-toggleable__control sk-hidden--visually\" id=\"sk-estimator-id-9\" type=\"checkbox\" ><label for=\"sk-estimator-id-9\" class=\"sk-toggleable__label sk-toggleable__label-arrow\">NominalToIntegerTransformer</label><div class=\"sk-toggleable__content\"><pre>NominalToIntegerTransformer(columns=[&#x27;IncidentGroup&#x27;, &#x27;StopCodeDescription&#x27;,\n",
       "                                     &#x27;PropertyCategory&#x27;, &#x27;PropertyType&#x27;,\n",
       "                                     &#x27;AddressQualifier&#x27;, &#x27;ProperCase&#x27;,\n",
       "                                     &#x27;IncGeo_WardName&#x27;, &#x27;PartOfDay&#x27;])</pre></div></div></div></div></div><div class=\"sk-item sk-dashed-wrapped\"><div class=\"sk-label-container\"><div class=\"sk-label sk-toggleable\"><input class=\"sk-toggleable__control sk-hidden--visually\" id=\"sk-estimator-id-10\" type=\"checkbox\" ><label for=\"sk-estimator-id-10\" class=\"sk-toggleable__label sk-toggleable__label-arrow\">col_transformers: ColumnTransformer</label><div class=\"sk-toggleable__content\"><pre>ColumnTransformer(remainder=&#x27;passthrough&#x27;,\n",
       "                  transformers=[(&#x27;numerical&#x27;,\n",
       "                                 Pipeline(steps=[(&#x27;imputer&#x27;,\n",
       "                                                  SimpleImputer(strategy=&#x27;median&#x27;))]),\n",
       "                                 [&#x27;HourOfCall&#x27;, &#x27;NumStationsWithPumpsAttending&#x27;,\n",
       "                                  &#x27;NumPumpsAttending&#x27;, &#x27;NationalCost&#x27;,\n",
       "                                  &#x27;NumCalls&#x27;, &#x27;DateOfCall_Month&#x27;]),\n",
       "                                (&#x27;categorical&#x27;,\n",
       "                                 Pipeline(steps=[(&#x27;imputer&#x27;,\n",
       "                                                  SimpleImputer(strategy=&#x27;most_frequent&#x27;))]),\n",
       "                                 [&#x27;IncidentGroup&#x27;, &#x27;StopCodeDescription&#x27;,\n",
       "                                  &#x27;PropertyCategory&#x27;, &#x27;PropertyType&#x27;,\n",
       "                                  &#x27;AddressQualifier&#x27;, &#x27;ProperCase&#x27;,\n",
       "                                  &#x27;IncGeo_WardName&#x27;, &#x27;PartOfDay&#x27;])])</pre></div></div></div><div class=\"sk-parallel\"><div class=\"sk-parallel-item\"><div class=\"sk-item\"><div class=\"sk-label-container\"><div class=\"sk-label sk-toggleable\"><input class=\"sk-toggleable__control sk-hidden--visually\" id=\"sk-estimator-id-11\" type=\"checkbox\" ><label for=\"sk-estimator-id-11\" class=\"sk-toggleable__label sk-toggleable__label-arrow\">numerical</label><div class=\"sk-toggleable__content\"><pre>[&#x27;HourOfCall&#x27;, &#x27;NumStationsWithPumpsAttending&#x27;, &#x27;NumPumpsAttending&#x27;, &#x27;NationalCost&#x27;, &#x27;NumCalls&#x27;, &#x27;DateOfCall_Month&#x27;]</pre></div></div></div><div class=\"sk-serial\"><div class=\"sk-item\"><div class=\"sk-serial\"><div class=\"sk-item\"><div class=\"sk-estimator sk-toggleable\"><input class=\"sk-toggleable__control sk-hidden--visually\" id=\"sk-estimator-id-12\" type=\"checkbox\" ><label for=\"sk-estimator-id-12\" class=\"sk-toggleable__label sk-toggleable__label-arrow\">SimpleImputer</label><div class=\"sk-toggleable__content\"><pre>SimpleImputer(strategy=&#x27;median&#x27;)</pre></div></div></div></div></div></div></div></div><div class=\"sk-parallel-item\"><div class=\"sk-item\"><div class=\"sk-label-container\"><div class=\"sk-label sk-toggleable\"><input class=\"sk-toggleable__control sk-hidden--visually\" id=\"sk-estimator-id-13\" type=\"checkbox\" ><label for=\"sk-estimator-id-13\" class=\"sk-toggleable__label sk-toggleable__label-arrow\">categorical</label><div class=\"sk-toggleable__content\"><pre>[&#x27;IncidentGroup&#x27;, &#x27;StopCodeDescription&#x27;, &#x27;PropertyCategory&#x27;, &#x27;PropertyType&#x27;, &#x27;AddressQualifier&#x27;, &#x27;ProperCase&#x27;, &#x27;IncGeo_WardName&#x27;, &#x27;PartOfDay&#x27;]</pre></div></div></div><div class=\"sk-serial\"><div class=\"sk-item\"><div class=\"sk-serial\"><div class=\"sk-item\"><div class=\"sk-estimator sk-toggleable\"><input class=\"sk-toggleable__control sk-hidden--visually\" id=\"sk-estimator-id-14\" type=\"checkbox\" ><label for=\"sk-estimator-id-14\" class=\"sk-toggleable__label sk-toggleable__label-arrow\">SimpleImputer</label><div class=\"sk-toggleable__content\"><pre>SimpleImputer(strategy=&#x27;most_frequent&#x27;)</pre></div></div></div></div></div></div></div></div><div class=\"sk-parallel-item\"><div class=\"sk-item\"><div class=\"sk-label-container\"><div class=\"sk-label sk-toggleable\"><input class=\"sk-toggleable__control sk-hidden--visually\" id=\"sk-estimator-id-15\" type=\"checkbox\" ><label for=\"sk-estimator-id-15\" class=\"sk-toggleable__label sk-toggleable__label-arrow\">remainder</label><div class=\"sk-toggleable__content\"><pre>[]</pre></div></div></div><div class=\"sk-serial\"><div class=\"sk-item\"><div class=\"sk-estimator sk-toggleable\"><input class=\"sk-toggleable__control sk-hidden--visually\" id=\"sk-estimator-id-16\" type=\"checkbox\" ><label for=\"sk-estimator-id-16\" class=\"sk-toggleable__label sk-toggleable__label-arrow\">passthrough</label><div class=\"sk-toggleable__content\"><pre>passthrough</pre></div></div></div></div></div></div></div></div><div class=\"sk-item\"><div class=\"sk-estimator sk-toggleable\"><input class=\"sk-toggleable__control sk-hidden--visually\" id=\"sk-estimator-id-17\" type=\"checkbox\" ><label for=\"sk-estimator-id-17\" class=\"sk-toggleable__label sk-toggleable__label-arrow\">LGBMRegressor</label><div class=\"sk-toggleable__content\"><pre>LGBMRegressor(objective=&#x27;regression_l1&#x27;, random_state=24)</pre></div></div></div></div></div></div></div>"
      ],
      "text/plain": [
       "Pipeline(steps=[('preprocessor',\n",
       "                 Pipeline(steps=[('StopCodeDescription_transformer',\n",
       "                                  GroupRareLevelsTransformer(columns=['StopCodeDescription'],\n",
       "                                                             cut_off_percent=0.05)),\n",
       "                                 ('PropertyCategory_transformer',\n",
       "                                  GroupRareLevelsTransformer(columns=['PropertyCategory'],\n",
       "                                                             cut_off_percent=0.05)),\n",
       "                                 ('PropertyType_transformer',\n",
       "                                  GroupRareLevelsTransformer(columns=['PropertyT...\n",
       "                                                   'NumPumpsAttending',\n",
       "                                                   'NationalCost', 'NumCalls',\n",
       "                                                   'DateOfCall_Month']),\n",
       "                                                 ('categorical',\n",
       "                                                  Pipeline(steps=[('imputer',\n",
       "                                                                   SimpleImputer(strategy='most_frequent'))]),\n",
       "                                                  ['IncidentGroup',\n",
       "                                                   'StopCodeDescription',\n",
       "                                                   'PropertyCategory',\n",
       "                                                   'PropertyType',\n",
       "                                                   'AddressQualifier',\n",
       "                                                   'ProperCase',\n",
       "                                                   'IncGeo_WardName',\n",
       "                                                   'PartOfDay'])])),\n",
       "                ('estimator',\n",
       "                 LGBMRegressor(objective='regression_l1', random_state=24))])"
      ]
     },
     "execution_count": 14,
     "metadata": {},
     "output_type": "execute_result"
    }
   ],
   "source": [
    "lgbm"
   ]
  },
  {
   "cell_type": "code",
   "execution_count": 15,
   "id": "91913c42",
   "metadata": {},
   "outputs": [
    {
     "name": "stdout",
     "output_type": "stream",
     "text": [
      "Mean Squared Error: 4.326871730486148\n",
      "Mean Absolute Error: 1.474296919682987\n",
      "Root Mean Squared Error: 2.080113393660583\n"
     ]
    }
   ],
   "source": [
    "predict_model(trained_model=lgbm,\n",
    "              xtest=X_test,\n",
    "              ytest=y_test)"
   ]
  },
  {
   "cell_type": "markdown",
   "id": "b7e8484a",
   "metadata": {},
   "source": [
    "## Feature importance"
   ]
  },
  {
   "cell_type": "code",
   "execution_count": 16,
   "id": "26d9c440",
   "metadata": {},
   "outputs": [],
   "source": [
    "def feature_imp(model, train_model, lim=None):\n",
    "    \"\"\"Takes the model and gives out the feuture importance plot \n",
    "    \n",
    "    Parameters: \n",
    "    model: the fitted model\n",
    "    train_model: this the training data frame without the target feature\n",
    "    lim: the number of features to be considered for the generation of feature importance plot\n",
    "    \n",
    "    Returns:\n",
    "    Feature importance plot\n",
    "    \"\"\"\n",
    "    predictors = [x for x in train_model.columns]\n",
    "    temp = pd.Series(model.feature_importances_, predictors).sort_values(\n",
    "        ascending=False\n",
    "    )\n",
    "    if lim is None:\n",
    "        lim = train_model.shape[1]\n",
    "    temp.nlargest(lim).plot(kind='barh', figsize=(14,12))\n",
    "    \n",
    "    plt.title('Feature Importance Score')"
   ]
  },
  {
   "cell_type": "code",
   "execution_count": 17,
   "id": "a1e0363a",
   "metadata": {},
   "outputs": [],
   "source": [
    "features_order = num_features + cat_features"
   ]
  },
  {
   "cell_type": "code",
   "execution_count": 18,
   "id": "5166ff1b",
   "metadata": {},
   "outputs": [
    {
     "data": {
      "image/png": "[encoded data removed]",
      "text/plain": [
       "<Figure size 1400x1200 with 1 Axes>"
      ]
     },
     "metadata": {},
     "output_type": "display_data"
    }
   ],
   "source": [
    "feature_imp(pipe._final_estimator, X_train[features_order])"
   ]
  },
  {
   "cell_type": "markdown",
   "id": "91e652fc",
   "metadata": {},
   "source": [
    "## Save model"
   ]
  },
  {
   "cell_type": "code",
   "execution_count": 19,
   "id": "99ccb857",
   "metadata": {},
   "outputs": [],
   "source": [
    "pickle_out = open('../api/pipe.pkl', 'wb')\n",
    "pickle.dump(pipe, pickle_out)\n",
    "pickle_out.close()"
   ]
  },
  {
   "cell_type": "code",
   "execution_count": null,
   "id": "9a6b7b7a",
   "metadata": {},
   "outputs": [],
   "source": []
  }
 ],
 "metadata": {
  "kernelspec": {
   "display_name": "base",
   "language": "python",
   "name": "python3"
  },
  "language_info": {
   "codemirror_mode": {
    "name": "ipython",
    "version": 3
   },
   "file_extension": ".py",
   "mimetype": "text/x-python",
   "name": "python",
   "nbconvert_exporter": "python",
   "pygments_lexer": "ipython3",
   "version": "3.8.8"
  }
 },
 "nbformat": 4,
 "nbformat_minor": 5
}
